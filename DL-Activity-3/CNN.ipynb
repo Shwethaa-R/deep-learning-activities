{
  "nbformat": 4,
  "nbformat_minor": 0,
  "metadata": {
    "colab": {
      "name": "CNN.ipynb",
      "provenance": [],
      "collapsed_sections": [],
      "authorship_tag": "ABX9TyOHu83BAoGl0NL06c7OLjwl",
      "include_colab_link": true
    },
    "kernelspec": {
      "name": "python3",
      "display_name": "Python 3"
    },
    "language_info": {
      "name": "python"
    },
    "accelerator": "GPU"
  },
  "cells": [
    {
      "cell_type": "markdown",
      "metadata": {
        "id": "view-in-github",
        "colab_type": "text"
      },
      "source": [
        "<a href=\"https://colab.research.google.com/github/Shwethaa-R/Deep-Learning-Activity-3/blob/main/CNN.ipynb\" target=\"_parent\"><img src=\"https://colab.research.google.com/assets/colab-badge.svg\" alt=\"Open In Colab\"/></a>"
      ]
    },
    {
      "cell_type": "markdown",
      "metadata": {
        "id": "YpC5L8308jlN"
      },
      "source": [
        "# Performing CNN with customized layers\n",
        "\n",
        "Write a program to implement the new CNN model. The model should contains following\n",
        "things : (Note : use any grayscale dataset with the 10 classes)\n",
        "\n",
        "1. Convolution: Input:32x32x1. Output:28x28x6\n",
        "2. SubSampling: Input:28x28x6. Output: 14x14x6\n",
        "3. Convolution: Input:14x14x1. Output:10x10x16\n",
        "4. SubSampling: Input:10x10x16. Output:5x5x16\n",
        "5. Fully Connected: Input:5x5x16. Output:120\n",
        "6. Fully Connected: Input:120. Output:84\n",
        "7. Output:10"
      ]
    },
    {
      "cell_type": "code",
      "metadata": {
        "id": "AgvZkO9ojBAw"
      },
      "source": [
        "import numpy as np\n",
        "from PIL import Image\n",
        "import os\n",
        "from keras import layers\n",
        "from keras.layers import Dense, Activation, Flatten, Conv2D, AveragePooling2D\n",
        "from keras.preprocessing.image import ImageDataGenerator\n",
        "from keras.models import Sequential\n",
        "import matplotlib.pyplot as plt\n",
        "from matplotlib.pyplot import imshow\n",
        "from keras.datasets import mnist\n",
        "from keras.utils import to_categorical"
      ],
      "execution_count": 1,
      "outputs": []
    },
    {
      "cell_type": "code",
      "metadata": {
        "colab": {
          "base_uri": "https://localhost:8080/"
        },
        "id": "E-uTCWCEmWxe",
        "outputId": "eec87cf3-a337-470f-f5f4-c674d9359aef"
      },
      "source": [
        "# MNIST Handwritten Digits Dataset is taken for the exersise. The dataset contains images of 10 classes, each image having a size of 32x32\n",
        "# mounting Google Drive to upload the dataset\n",
        "from google.colab import drive, files\n",
        "drive.mount('/content/drive/')"
      ],
      "execution_count": 2,
      "outputs": [
        {
          "output_type": "stream",
          "text": [
            "Mounted at /content/drive/\n"
          ],
          "name": "stdout"
        }
      ]
    },
    {
      "cell_type": "code",
      "metadata": {
        "colab": {
          "base_uri": "https://localhost:8080/"
        },
        "id": "nharycPozX7O",
        "outputId": "87348105-2bc1-422f-a3dc-dd5b8964212e"
      },
      "source": [
        "path = '/content/drive/My Drive/Classification Dataset'\n",
        "path_train = path + '/train'\n",
        "path_test = path + '/test'\n",
        "train_datagen = ImageDataGenerator(rescale=1. / 255)\n",
        "train = train_datagen.flow_from_directory(path_train, target_size=(32,32), class_mode='categorical')\n",
        "test_datagen = ImageDataGenerator(rescale=1. / 255)\n",
        "test = test_datagen.flow_from_directory(path_test, target_size=(32,32), class_mode='categorical')"
      ],
      "execution_count": 3,
      "outputs": [
        {
          "output_type": "stream",
          "text": [
            "Found 1000 images belonging to 10 classes.\n",
            "Found 100 images belonging to 10 classes.\n"
          ],
          "name": "stdout"
        }
      ]
    },
    {
      "cell_type": "code",
      "metadata": {
        "colab": {
          "base_uri": "https://localhost:8080/"
        },
        "id": "A1PkC0-4zha7",
        "outputId": "0f861efa-e252-41bc-c416-d3d93b963783"
      },
      "source": [
        "print(\"Batch Size for Input Image : \",train[0][0].shape)\n",
        "print(\"Batch Size for Output Image : \",train[0][1].shape)\n",
        "print(\"Image Size of first image : \",train[0][0][0].shape)\n",
        "print(\"Output of first image : \",train[0][1][0].shape)"
      ],
      "execution_count": 4,
      "outputs": [
        {
          "output_type": "stream",
          "text": [
            "Batch Size for Input Image :  (32, 32, 32, 3)\n",
            "Batch Size for Output Image :  (32, 10)\n",
            "Image Size of first image :  (32, 32, 3)\n",
            "Output of first image :  (10,)\n"
          ],
          "name": "stdout"
        }
      ]
    },
    {
      "cell_type": "code",
      "metadata": {
        "colab": {
          "base_uri": "https://localhost:8080/"
        },
        "id": "5diK-gsz5BoW",
        "outputId": "5d79a4b6-0c10-4f71-bde4-3efd93cab85b"
      },
      "source": [
        "# getting the total number of images and the number of images in each class\n",
        "# there are ten classes: Class 0 to Class 9\n",
        "directories = os.listdir(path_train)\n",
        "print(\"There are totally {} classes\".format(len(directories)))\n",
        "print(\"The number of training images in each class is as follows:\")\n",
        "total_images = 0\n",
        "for i in range(len(directories)):\n",
        "  path_to_images = path_train + '/' + directories[i]\n",
        "  final_path = os.listdir(path_to_images)\n",
        "  total_images += len(final_path)\n",
        "  print(\"Number of images in Class {}: {}\".format(i, len(final_path)))\n",
        "print(\"The total number of training images: {}\".format(total_images))"
      ],
      "execution_count": 5,
      "outputs": [
        {
          "output_type": "stream",
          "text": [
            "There are totally 10 classes\n",
            "The number of training images in each class is as follows:\n",
            "Number of images in Class 0: 100\n",
            "Number of images in Class 1: 100\n",
            "Number of images in Class 2: 100\n",
            "Number of images in Class 3: 100\n",
            "Number of images in Class 4: 100\n",
            "Number of images in Class 5: 100\n",
            "Number of images in Class 6: 100\n",
            "Number of images in Class 7: 100\n",
            "Number of images in Class 8: 100\n",
            "Number of images in Class 9: 100\n",
            "The total number of training images: 1000\n"
          ],
          "name": "stdout"
        }
      ]
    },
    {
      "cell_type": "code",
      "metadata": {
        "id": "EAqgmS8gp2Za"
      },
      "source": [
        "# building the CNN model\n",
        "input_shape = train[0][0].shape[1:]\n",
        "model = Sequential()\n",
        "\n",
        "model.add(Conv2D(filters=6, kernel_size=(5, 5), input_shape=input_shape, activation='relu'))\n",
        "model.add(AveragePooling2D(2, 2))\n",
        "\n",
        "model.add(Conv2D(filters=16, kernel_size=(5, 5), activation='relu'))\n",
        "model.add(AveragePooling2D(2, 2))\n",
        "\n",
        "model.add(Flatten())\n",
        "model.add(Dense(120, activation='relu'))\n",
        "model.add(Dense(84, activation='relu'))\n",
        "\n",
        "model.add(Dense(10))\n",
        "model.add(Activation('softmax'))"
      ],
      "execution_count": 6,
      "outputs": []
    },
    {
      "cell_type": "code",
      "metadata": {
        "colab": {
          "base_uri": "https://localhost:8080/"
        },
        "id": "GbKbQN1oyNaX",
        "outputId": "94cff1b2-0585-4c43-ec71-db620b14bc28"
      },
      "source": [
        "model.summary()"
      ],
      "execution_count": 7,
      "outputs": [
        {
          "output_type": "stream",
          "text": [
            "Model: \"sequential\"\n",
            "_________________________________________________________________\n",
            "Layer (type)                 Output Shape              Param #   \n",
            "=================================================================\n",
            "conv2d (Conv2D)              (None, 28, 28, 6)         456       \n",
            "_________________________________________________________________\n",
            "average_pooling2d (AveragePo (None, 14, 14, 6)         0         \n",
            "_________________________________________________________________\n",
            "conv2d_1 (Conv2D)            (None, 10, 10, 16)        2416      \n",
            "_________________________________________________________________\n",
            "average_pooling2d_1 (Average (None, 5, 5, 16)          0         \n",
            "_________________________________________________________________\n",
            "flatten (Flatten)            (None, 400)               0         \n",
            "_________________________________________________________________\n",
            "dense (Dense)                (None, 120)               48120     \n",
            "_________________________________________________________________\n",
            "dense_1 (Dense)              (None, 84)                10164     \n",
            "_________________________________________________________________\n",
            "dense_2 (Dense)              (None, 10)                850       \n",
            "_________________________________________________________________\n",
            "activation (Activation)      (None, 10)                0         \n",
            "=================================================================\n",
            "Total params: 62,006\n",
            "Trainable params: 62,006\n",
            "Non-trainable params: 0\n",
            "_________________________________________________________________\n"
          ],
          "name": "stdout"
        }
      ]
    },
    {
      "cell_type": "code",
      "metadata": {
        "id": "qTELPbXhr8A6"
      },
      "source": [
        "# compiling the CNN model using Adam optimizer\n",
        "model.compile(optimizer = 'adam' , loss = 'categorical_crossentropy' , metrics=['accuracy'])"
      ],
      "execution_count": 8,
      "outputs": []
    },
    {
      "cell_type": "code",
      "metadata": {
        "colab": {
          "base_uri": "https://localhost:8080/"
        },
        "id": "UAP3MWRX0lje",
        "outputId": "4c80824d-6e15-4dcb-b190-a108b9a781c4"
      },
      "source": [
        "# fitting the model to run it on the given dataset\n",
        "history = model.fit(train, epochs=10)"
      ],
      "execution_count": 9,
      "outputs": [
        {
          "output_type": "stream",
          "text": [
            "Epoch 1/10\n",
            "32/32 [==============================] - 385s 11s/step - loss: 2.0754 - accuracy: 0.3192\n",
            "Epoch 2/10\n",
            "32/32 [==============================] - 1s 33ms/step - loss: 0.6751 - accuracy: 0.7864\n",
            "Epoch 3/10\n",
            "32/32 [==============================] - 1s 34ms/step - loss: 0.4173 - accuracy: 0.8701\n",
            "Epoch 4/10\n",
            "32/32 [==============================] - 1s 33ms/step - loss: 0.2976 - accuracy: 0.9031\n",
            "Epoch 5/10\n",
            "32/32 [==============================] - 1s 33ms/step - loss: 0.2136 - accuracy: 0.9302\n",
            "Epoch 6/10\n",
            "32/32 [==============================] - 1s 33ms/step - loss: 0.1816 - accuracy: 0.9334\n",
            "Epoch 7/10\n",
            "32/32 [==============================] - 1s 33ms/step - loss: 0.1442 - accuracy: 0.9544\n",
            "Epoch 8/10\n",
            "32/32 [==============================] - 1s 34ms/step - loss: 0.1911 - accuracy: 0.9299\n",
            "Epoch 9/10\n",
            "32/32 [==============================] - 1s 34ms/step - loss: 0.0776 - accuracy: 0.9783\n",
            "Epoch 10/10\n",
            "32/32 [==============================] - 1s 35ms/step - loss: 0.0643 - accuracy: 0.9863\n"
          ],
          "name": "stdout"
        }
      ]
    },
    {
      "cell_type": "code",
      "metadata": {
        "colab": {
          "base_uri": "https://localhost:8080/",
          "height": 297
        },
        "id": "bZDASjx86EbD",
        "outputId": "281b823d-a4c8-49ab-a401-2eafd8b84795"
      },
      "source": [
        "# plotting the obtained loss and accuracy for each epoch \n",
        "acc = history.history['accuracy']\n",
        "loss = history.history['loss']\n",
        "\n",
        "epochs = range(len(acc))\n",
        "\n",
        "plt.plot(epochs, acc, 'r', label='Training Accuracy')\n",
        "plt.plot(epochs, loss, 'b', label='Training Loss')\n",
        "plt.title('Training Accuracy and Loss')\n",
        "plt.legend(loc=0)\n",
        "plt.figure()\n",
        "\n",
        "\n",
        "plt.show()"
      ],
      "execution_count": 10,
      "outputs": [
        {
          "output_type": "display_data",
          "data": {
            "image/png": "[encoded data removed]",
            "text/plain": [
              "<Figure size 432x288 with 1 Axes>"
            ]
          },
          "metadata": {
            "tags": [],
            "needs_background": "light"
          }
        },
        {
          "output_type": "display_data",
          "data": {
            "text/plain": [
              "<Figure size 432x288 with 0 Axes>"
            ]
          },
          "metadata": {
            "tags": []
          }
        }
      ]
    },
    {
      "cell_type": "code",
      "metadata": {
        "id": "bsH8FB1UCBgt",
        "colab": {
          "base_uri": "https://localhost:8080/"
        },
        "outputId": "326f33de-c9c7-411e-aa0b-0641493a95e6"
      },
      "source": [
        "# evaluate the model performance using the test dataset\n",
        "loss, acc = model.evaluate(test, verbose=2)\n",
        "print(\"Loss on test data: {}\".format(loss))\n",
        "print(\"Accuracy on test data: {}\".format(acc))"
      ],
      "execution_count": 11,
      "outputs": [
        {
          "output_type": "stream",
          "text": [
            "4/4 - 25s - loss: 0.2090 - accuracy: 0.9300\n",
            "Loss on test data: 0.20896203815937042\n",
            "Accuracy on test data: 0.9300000071525574\n"
          ],
          "name": "stdout"
        }
      ]
    }
  ]
}