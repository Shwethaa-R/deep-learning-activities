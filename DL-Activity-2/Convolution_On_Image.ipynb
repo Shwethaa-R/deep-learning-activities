{
  "nbformat": 4,
  "nbformat_minor": 0,
  "metadata": {
    "colab": {
      "name": "Convolution_On_Image.ipynb",
      "provenance": [],
      "collapsed_sections": [],
      "mount_file_id": "1yFpINTezEwl4C40TTY2hkxHZH7WxLhvO",
      "authorship_tag": "ABX9TyOYTj4IHvqwoeQDC5yggct7",
      "include_colab_link": true
    },
    "kernelspec": {
      "name": "python3",
      "display_name": "Python 3"
    }
  },
  "cells": [
    {
      "cell_type": "markdown",
      "metadata": {
        "id": "view-in-github",
        "colab_type": "text"
      },
      "source": [
        "<a href=\"https://colab.research.google.com/github/Shwethaa-R/Deep-Learning-Activity-2/blob/main/Convolution_On_Image.ipynb\" target=\"_parent\"><img src=\"https://colab.research.google.com/assets/colab-badge.svg\" alt=\"Open In Colab\"/></a>"
      ]
    },
    {
      "cell_type": "markdown",
      "metadata": {
        "id": "QhG3fecoFt-U"
      },
      "source": [
        "# Convolution"
      ]
    },
    {
      "cell_type": "markdown",
      "metadata": {
        "id": "i5V3lRylGLzZ"
      },
      "source": [
        "Write a python code to filter the given image using following size of the\n",
        "filters (receptive field) and hyperparameters\n",
        "(i) filter size (3x3) and (5x5)\n",
        "(ii) filter size (3x3) and (5x5), stride=2\n",
        "(iii) filter size (3x3) and (5x5), stride=1, zero-padding"
      ]
    },
    {
      "cell_type": "code",
      "metadata": {
        "id": "15FccfSlxGNW"
      },
      "source": [
        "from PIL import Image, ImageOps\n",
        "from numpy import asarray \n",
        "import numpy as np\n",
        "import matplotlib.pyplot as plt\n",
        "import math\n",
        "from skimage.measure import shannon_entropy"
      ],
      "execution_count": 1,
      "outputs": []
    },
    {
      "cell_type": "code",
      "metadata": {
        "id": "vCBs2houxVi_"
      },
      "source": [
        "#Function to perform one convolution\n",
        "def conv_filter(i,j,f1,f2,padded_img,filter1,image1,strides): \n",
        "    s = 0\n",
        "    for a in range(0,f1):\n",
        "        for b in range(0,f2):\n",
        "            s += filter1[a][b]*padded_img[i+a][j+b]\n",
        "    image1[i//strides][j//strides] = s\n",
        "    return image1"
      ],
      "execution_count": 2,
      "outputs": []
    },
    {
      "cell_type": "code",
      "metadata": {
        "id": "UKqTjOAnxRpE"
      },
      "source": [
        "#Function to perform zero padding to the image\n",
        "def pad_zeros(n1,n2,f1,f2,numpyimg):\n",
        "  padded_img = np.zeros((n1+f1-1, n2+f2-1),np.int16)\n",
        "  l = int((f1-1)/2)\n",
        "  padded_img[l:n1+l,l:n2+l] = numpyimg\n",
        "  return padded_img"
      ],
      "execution_count": 3,
      "outputs": []
    },
    {
      "cell_type": "code",
      "metadata": {
        "id": "_qEwl24QxaSZ"
      },
      "source": [
        "#Function to perform convolution on the complete image\n",
        "def convolution(numpyimg, filter, padding='y', strides=1):\n",
        "  n1 = numpyimg.shape[0]\n",
        "  n2 = numpyimg.shape[1]\n",
        "  f1 = filter.shape[0]\n",
        "  f2 = filter.shape[1]\n",
        "  if padding == 'y':\n",
        "    image1 = np.zeros((math.ceil(n1/strides),math.ceil(n2/strides)),dtype=np.int16)\n",
        "    padded_img = pad_zeros(n1,n2,f1,f2,numpyimg)\n",
        "  else:\n",
        "    image1 = np.zeros((math.floor((n1-f1)/strides+1),math.floor((n2-f2)/strides+1)),dtype=np.int16)\n",
        "    padded_img = numpyimg\n",
        "  i1 = image1.shape[0]\n",
        "  i2 = image1.shape[1]\n",
        "  for i in range(0,n1,strides):\n",
        "    if i+(f1-1) > padded_img.shape[0]-1:\n",
        "      break\n",
        "    for j in range(0,n2,strides):\n",
        "      if j+(f2-1) > padded_img.shape[1]-1:\n",
        "        break\n",
        "      image1 = conv_filter(i,j,f1,f2,padded_img,filter,image1,strides)\n",
        "  return image1"
      ],
      "execution_count": 4,
      "outputs": []
    },
    {
      "cell_type": "code",
      "metadata": {
        "colab": {
          "base_uri": "https://localhost:8080/"
        },
        "id": "pbiNlXfQxLcG",
        "outputId": "2e163356-f5cb-4c44-e5c5-04e7bcf43152"
      },
      "source": [
        "#Box Filter\n",
        "img = Image.open('drive//MyDrive//Lena.png')\n",
        "img_gray = ImageOps.grayscale(img)\n",
        "numpyimg = asarray(img_gray)\n",
        "print(numpyimg.shape)\n",
        "ent = shannon_entropy(numpyimg)\n",
        "print(\"Entropy of original image = {}\".format(ent))"
      ],
      "execution_count": 5,
      "outputs": [
        {
          "output_type": "stream",
          "text": [
            "(220, 220)\n",
            "Entropy of original image = 7.442184344722011\n"
          ],
          "name": "stdout"
        }
      ]
    },
    {
      "cell_type": "code",
      "metadata": {
        "colab": {
          "base_uri": "https://localhost:8080/"
        },
        "id": "kMNyRV_A-I6-",
        "outputId": "44ecbe04-efa1-4134-df06-94108259ce65"
      },
      "source": [
        "#3*3 Box Filter (stride=1)\n",
        "filter = np.ones((3,3), np.int16)\n",
        "image1 = convolution(numpyimg,filter,'n',1)\n",
        "print(image1.shape)\n",
        "ent = shannon_entropy(image1)\n",
        "print(\"Entropy of image using 3*3 box filter and stride 1 = {}\".format(ent))"
      ],
      "execution_count": 6,
      "outputs": [
        {
          "output_type": "stream",
          "text": [
            "(218, 218)\n",
            "Entropy of image using 3*3 box filter and stride 1 = 10.504400017077174\n"
          ],
          "name": "stdout"
        }
      ]
    },
    {
      "cell_type": "code",
      "metadata": {
        "colab": {
          "base_uri": "https://localhost:8080/"
        },
        "id": "8vgtQOleYkgM",
        "outputId": "fabaac50-ad2c-48e9-d6fe-a192583ebdff"
      },
      "source": [
        "#5*5 Box Filter (stride=1)\n",
        "filter = np.ones((5,5), np.int16)\n",
        "image1 = convolution(numpyimg,filter,'n',1)\n",
        "print(image1.shape)\n",
        "ent = shannon_entropy(image1)\n",
        "print(\"Entropy of image using 5*5 box filter and stride 1 = {}\".format(ent))"
      ],
      "execution_count": 7,
      "outputs": [
        {
          "output_type": "stream",
          "text": [
            "(216, 216)\n",
            "Entropy of image using 5*5 box filter and stride 1 = 11.879420292883244\n"
          ],
          "name": "stdout"
        }
      ]
    },
    {
      "cell_type": "code",
      "metadata": {
        "colab": {
          "base_uri": "https://localhost:8080/"
        },
        "id": "WKbRbP_Zaaj6",
        "outputId": "33a681ca-73fe-48c5-9f93-8a163b211f3e"
      },
      "source": [
        "#3*3 Box Filter (stride=2)\n",
        "filter = np.ones((3,3), np.int16)\n",
        "image1 = convolution(numpyimg,filter,'n',2)\n",
        "print(image1.shape)\n",
        "ent = shannon_entropy(image1)\n",
        "print(\"Entropy of image using 3*3 box filter and stride 2 = {}\".format(ent))"
      ],
      "execution_count": 8,
      "outputs": [
        {
          "output_type": "stream",
          "text": [
            "(109, 109)\n",
            "Entropy of image using 3*3 box filter and stride 2 = 10.422868172408696\n"
          ],
          "name": "stdout"
        }
      ]
    },
    {
      "cell_type": "code",
      "metadata": {
        "colab": {
          "base_uri": "https://localhost:8080/"
        },
        "id": "Ep6UR-IfACq_",
        "outputId": "6046082e-5ba3-48b9-e6ca-92d7eb95329c"
      },
      "source": [
        "#5*5 Box Filter (stride=2)\n",
        "filter = np.ones((5,5), np.int16)\n",
        "image1 = convolution(numpyimg,filter,'n',2)\n",
        "print(image1.shape)\n",
        "ent = shannon_entropy(image1)\n",
        "print(\"Entropy of image using 5*5 box filter and stride 2 = {}\".format(ent))"
      ],
      "execution_count": 9,
      "outputs": [
        {
          "output_type": "stream",
          "text": [
            "(108, 108)\n",
            "Entropy of image using 5*5 box filter and stride 2 = 11.65813520954541\n"
          ],
          "name": "stdout"
        }
      ]
    },
    {
      "cell_type": "code",
      "metadata": {
        "colab": {
          "base_uri": "https://localhost:8080/"
        },
        "id": "AP_9jPC6AIgA",
        "outputId": "0950bfa2-0525-4440-e709-14ffd4d3017e"
      },
      "source": [
        "#3*3 Box Filter (stride=1 and zero padding)\n",
        "filter = np.ones((3,3), np.int16)\n",
        "image1 = convolution(numpyimg,filter,'y',1)\n",
        "print(image1.shape)\n",
        "ent = shannon_entropy(image1)\n",
        "print(\"Entropy of image using 3*3 box filter and stride 1 and using zero padding = {}\".format(ent))"
      ],
      "execution_count": 10,
      "outputs": [
        {
          "output_type": "stream",
          "text": [
            "(220, 220)\n",
            "Entropy of image using 3*3 box filter and stride 1 and using zero padding = 10.519169287215227\n"
          ],
          "name": "stdout"
        }
      ]
    },
    {
      "cell_type": "code",
      "metadata": {
        "colab": {
          "base_uri": "https://localhost:8080/"
        },
        "id": "MibKV1VPAZYb",
        "outputId": "b6859259-53cc-40e1-b005-6d16828256bd"
      },
      "source": [
        "#5*5 Box Filter (stride=1 and zero padding)\n",
        "filter = np.ones((5,5), np.int16)\n",
        "image1 = convolution(numpyimg,filter,'y',1)\n",
        "print(image1.shape)\n",
        "ent = shannon_entropy(image1)\n",
        "print(\"Entropy of image using 5*5 box filter and stride 1 and using zero padding = {}\".format(ent))"
      ],
      "execution_count": 11,
      "outputs": [
        {
          "output_type": "stream",
          "text": [
            "(220, 220)\n",
            "Entropy of image using 5*5 box filter and stride 1 and using zero padding = 11.905138419408933\n"
          ],
          "name": "stdout"
        }
      ]
    }
  ]
}