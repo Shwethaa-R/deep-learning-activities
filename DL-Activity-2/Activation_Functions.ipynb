{
  "nbformat": 4,
  "nbformat_minor": 0,
  "metadata": {
    "colab": {
      "name": "Activation Functions.ipynb",
      "provenance": [],
      "collapsed_sections": [],
      "authorship_tag": "ABX9TyOnJqK8TYoQywsQucT7h9Gf",
      "include_colab_link": true
    },
    "kernelspec": {
      "name": "python3",
      "display_name": "Python 3"
    }
  },
  "cells": [
    {
      "cell_type": "markdown",
      "metadata": {
        "id": "view-in-github",
        "colab_type": "text"
      },
      "source": [
        "<a href=\"https://colab.research.google.com/github/Shwethaa-R/Deep-Learning-Activity-2/blob/main/Activation_Functions.ipynb\" target=\"_parent\"><img src=\"https://colab.research.google.com/assets/colab-badge.svg\" alt=\"Open In Colab\"/></a>"
      ]
    },
    {
      "cell_type": "markdown",
      "metadata": {
        "id": "p-esBjjEII8U"
      },
      "source": [
        "# Activation Functions"
      ]
    },
    {
      "cell_type": "markdown",
      "metadata": {
        "id": "gPLuBaYXIPyy"
      },
      "source": [
        "Demonstrate the following activation functions using Python.\n",
        "(i) sigmoidal\n",
        "(ii) tanh()\n",
        "(iii) ReLU\n",
        "(iv) Leaky ReLU\n",
        "(v) Exponential ReLU"
      ]
    },
    {
      "cell_type": "code",
      "metadata": {
        "id": "evIeauwqY_Lt"
      },
      "source": [
        "import math\n",
        "%matplotlib inline\n",
        "import matplotlib.pyplot as plt\n",
        "plt.style.use('seaborn-whitegrid')\n",
        "import numpy as np"
      ],
      "execution_count": null,
      "outputs": []
    },
    {
      "cell_type": "code",
      "metadata": {
        "id": "2jgQUdStZIJC",
        "colab": {
          "base_uri": "https://localhost:8080/"
        },
        "outputId": "2a83e87d-2a9c-45b9-b131-43e52f49c858"
      },
      "source": [
        "#sigmoidal activation function\n",
        "def sigmoid(x):\n",
        "  y = 1/(1+math.exp(-x))\n",
        "  return y\n",
        "final_sigmoid = np.vectorize(sigmoid)\n",
        "print(\"sigmoid(3) = {}\".format(sigmoid(3)))"
      ],
      "execution_count": null,
      "outputs": [
        {
          "output_type": "stream",
          "text": [
            "sigmoid(3) = 0.9525741268224334\n"
          ],
          "name": "stdout"
        }
      ]
    },
    {
      "cell_type": "code",
      "metadata": {
        "colab": {
          "base_uri": "https://localhost:8080/",
          "height": 282
        },
        "id": "dOKJAZ0fZ6R4",
        "outputId": "310d036f-a8a9-4eea-ca14-09d5e5ff4073"
      },
      "source": [
        "fig = plt.figure()\n",
        "ax = plt.axes()\n",
        "\n",
        "x = np.linspace(-10, 10, 1000)\n",
        "ax.plot(x, final_sigmoid(x));\n",
        "plt.xlim(-5, 5)\n",
        "plt.ylim(0, 1)"
      ],
      "execution_count": null,
      "outputs": [
        {
          "output_type": "execute_result",
          "data": {
            "text/plain": [
              "(0.0, 1.0)"
            ]
          },
          "metadata": {
            "tags": []
          },
          "execution_count": 3
        },
        {
          "output_type": "display_data",
          "data": {
            "image/png": "[encoded data removed]",
            "text/plain": [
              "<Figure size 432x288 with 1 Axes>"
            ]
          },
          "metadata": {
            "tags": [],
            "needs_background": "light"
          }
        }
      ]
    },
    {
      "cell_type": "code",
      "metadata": {
        "id": "F6trhvAdfHUP",
        "colab": {
          "base_uri": "https://localhost:8080/"
        },
        "outputId": "80584048-9023-4e0f-ff91-aa05bf038fac"
      },
      "source": [
        "#tanh activation function\n",
        "def tanh(x):\n",
        "  y = (2/(1+math.exp(-2*x)))-1\n",
        "  return y\n",
        "final_tanh = np.vectorize(tanh)\n",
        "print(\"tanh(0.5) = {}\".format(tanh(0.5)))"
      ],
      "execution_count": null,
      "outputs": [
        {
          "output_type": "stream",
          "text": [
            "tanh(0.5) = 0.4621171572600098\n"
          ],
          "name": "stdout"
        }
      ]
    },
    {
      "cell_type": "code",
      "metadata": {
        "colab": {
          "base_uri": "https://localhost:8080/",
          "height": 282
        },
        "id": "8R1C4m8Hfyy_",
        "outputId": "86d019f9-089e-4222-e24c-56323dc536ac"
      },
      "source": [
        "fig = plt.figure()\n",
        "ax = plt.axes()\n",
        "\n",
        "x = np.linspace(-10, 10, 1000)\n",
        "ax.plot(x, final_tanh(x));\n",
        "plt.xlim(-5, 5)\n",
        "plt.ylim(-1, 1)"
      ],
      "execution_count": null,
      "outputs": [
        {
          "output_type": "execute_result",
          "data": {
            "text/plain": [
              "(-1.0, 1.0)"
            ]
          },
          "metadata": {
            "tags": []
          },
          "execution_count": 5
        },
        {
          "output_type": "display_data",
          "data": {
            "image/png": "[encoded data removed]",
            "text/plain": [
              "<Figure size 432x288 with 1 Axes>"
            ]
          },
          "metadata": {
            "tags": [],
            "needs_background": "light"
          }
        }
      ]
    },
    {
      "cell_type": "code",
      "metadata": {
        "id": "3_IHk-Yrgcz8",
        "colab": {
          "base_uri": "https://localhost:8080/"
        },
        "outputId": "41d3ca8d-3fe7-489b-a7b7-b7302fe4c3f8"
      },
      "source": [
        "#ReLU activation function\n",
        "def ReLU(x):\n",
        "  if x <= 0:\n",
        "    y = 0.0\n",
        "  else:\n",
        "    y = x\n",
        "  return y\n",
        "final_ReLU = np.vectorize(ReLU)\n",
        "print(\"ReLU(-5) = {}\".format(ReLU(-5)))"
      ],
      "execution_count": null,
      "outputs": [
        {
          "output_type": "stream",
          "text": [
            "ReLU(-5) = 0.0\n"
          ],
          "name": "stdout"
        }
      ]
    },
    {
      "cell_type": "code",
      "metadata": {
        "colab": {
          "base_uri": "https://localhost:8080/",
          "height": 282
        },
        "id": "GpMvFFD6g7MW",
        "outputId": "8c0be2b8-16c1-4ec2-b3b8-95d441756708"
      },
      "source": [
        "fig = plt.figure()\n",
        "ax = plt.axes()\n",
        "\n",
        "x = np.linspace(-5, 5, 10000)\n",
        "ax.plot(x, final_ReLU(x));\n",
        "plt.xlim(-5, 5)\n",
        "plt.ylim(0, 5)"
      ],
      "execution_count": null,
      "outputs": [
        {
          "output_type": "execute_result",
          "data": {
            "text/plain": [
              "(0.0, 5.0)"
            ]
          },
          "metadata": {
            "tags": []
          },
          "execution_count": 7
        },
        {
          "output_type": "display_data",
          "data": {
            "image/png": "[encoded data removed]",
            "text/plain": [
              "<Figure size 432x288 with 1 Axes>"
            ]
          },
          "metadata": {
            "tags": [],
            "needs_background": "light"
          }
        }
      ]
    },
    {
      "cell_type": "code",
      "metadata": {
        "id": "jaQPJ2vSjVi1",
        "colab": {
          "base_uri": "https://localhost:8080/"
        },
        "outputId": "90db85a8-f371-42f3-ea70-835bc6226a2a"
      },
      "source": [
        "#Leaky ReLU activation function\n",
        "def Leaky_ReLU(x):\n",
        "  if x <= 0:\n",
        "    y = 0.1*x\n",
        "  else:\n",
        "    y = x\n",
        "  return y\n",
        "final_Leaky_ReLU = np.vectorize(Leaky_ReLU)\n",
        "print(\"Leaky_ReLU(-0.5) = {}\".format(Leaky_ReLU(-0.5)))"
      ],
      "execution_count": null,
      "outputs": [
        {
          "output_type": "stream",
          "text": [
            "Leaky_ReLU(-0.5) = -0.05\n"
          ],
          "name": "stdout"
        }
      ]
    },
    {
      "cell_type": "code",
      "metadata": {
        "colab": {
          "base_uri": "https://localhost:8080/",
          "height": 282
        },
        "id": "25lNBWjSj1tT",
        "outputId": "9b3542eb-4e0c-40da-e657-027de469e0f2"
      },
      "source": [
        "fig = plt.figure()\n",
        "ax = plt.axes()\n",
        "\n",
        "x = np.linspace(-5, 5, 10000)\n",
        "ax.plot(x, final_Leaky_ReLU(x));\n",
        "plt.xlim(-5, 5)\n",
        "plt.ylim(-1, 5)"
      ],
      "execution_count": null,
      "outputs": [
        {
          "output_type": "execute_result",
          "data": {
            "text/plain": [
              "(-1.0, 5.0)"
            ]
          },
          "metadata": {
            "tags": []
          },
          "execution_count": 9
        },
        {
          "output_type": "display_data",
          "data": {
            "image/png": "[encoded data removed]",
            "text/plain": [
              "<Figure size 432x288 with 1 Axes>"
            ]
          },
          "metadata": {
            "tags": [],
            "needs_background": "light"
          }
        }
      ]
    },
    {
      "cell_type": "code",
      "metadata": {
        "id": "jRiBPbK-kHdb",
        "colab": {
          "base_uri": "https://localhost:8080/"
        },
        "outputId": "5fd117a4-b504-4693-9394-2f899080ebec"
      },
      "source": [
        "#Exponential ReLU activation function\n",
        "def Exponential_ReLU(x):\n",
        "  if x <= 0:\n",
        "    y = 0.5*(np.exp(x)-1)\n",
        "  else:\n",
        "    y = x\n",
        "  return y\n",
        "final_Exponential_ReLU = np.vectorize(Exponential_ReLU)\n",
        "print(\"Exponential_ReLU(-0.5) = {}\".format(Exponential_ReLU(-0.5)))"
      ],
      "execution_count": null,
      "outputs": [
        {
          "output_type": "stream",
          "text": [
            "Exponential_ReLU(-0.5) = -0.1967346701436833\n"
          ],
          "name": "stdout"
        }
      ]
    },
    {
      "cell_type": "code",
      "metadata": {
        "colab": {
          "base_uri": "https://localhost:8080/",
          "height": 282
        },
        "id": "LbmiYMFzkyYh",
        "outputId": "eead3c3c-6a9d-4984-c90c-3afd886439a7"
      },
      "source": [
        "fig = plt.figure()\n",
        "ax = plt.axes()\n",
        "\n",
        "x = np.linspace(-5, 5, 10000)\n",
        "ax.plot(x, final_Exponential_ReLU(x));\n",
        "plt.xlim(-5, 5)\n",
        "plt.ylim(-1, 5)"
      ],
      "execution_count": null,
      "outputs": [
        {
          "output_type": "execute_result",
          "data": {
            "text/plain": [
              "(-1.0, 5.0)"
            ]
          },
          "metadata": {
            "tags": []
          },
          "execution_count": 11
        },
        {
          "output_type": "display_data",
          "data": {
            "image/png": "[encoded data removed]",
            "text/plain": [
              "<Figure size 432x288 with 1 Axes>"
            ]
          },
          "metadata": {
            "tags": [],
            "needs_background": "light"
          }
        }
      ]
    }
  ]
}