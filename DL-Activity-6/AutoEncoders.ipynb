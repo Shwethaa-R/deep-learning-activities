{
  "nbformat": 4,
  "nbformat_minor": 0,
  "metadata": {
    "colab": {
      "name": "AutoEncoders.ipynb",
      "provenance": [],
      "collapsed_sections": [],
      "include_colab_link": true
    },
    "kernelspec": {
      "name": "python3",
      "display_name": "Python 3"
    },
    "accelerator": "GPU"
  },
  "cells": [
    {
      "cell_type": "markdown",
      "metadata": {
        "id": "view-in-github",
        "colab_type": "text"
      },
      "source": [
        "<a href=\"https://colab.research.google.com/github/Shwethaa-R/Deep-Learning-Activity-6/blob/main/AutoEncoders.ipynb\" target=\"_parent\"><img src=\"https://colab.research.google.com/assets/colab-badge.svg\" alt=\"Open In Colab\"/></a>"
      ]
    },
    {
      "cell_type": "markdown",
      "metadata": {
        "id": "K4f4JG1gdKqj"
      },
      "source": [
        "#AutoEncoders"
      ]
    },
    {
      "cell_type": "markdown",
      "metadata": {
        "id": "RHIrJqo3teOQ"
      },
      "source": [
        "The autoencoder implemented here is a Stacked Autoencoder. A stacked autoencoder is a neural network consist several layers of sparse autoencoders where output of each hidden layer is connected to the input of the successive hidden layer. A Sparse Autoencoder is a type of autoencoder that employs sparsity to achieve an information bottleneck. Specifically the loss function is constructed so that activations are penalized within a layer."
      ]
    },
    {
      "cell_type": "markdown",
      "metadata": {
        "id": "1jbiqOK7dLGG"
      },
      "source": [
        "##Downloading the dataset"
      ]
    },
    {
      "cell_type": "markdown",
      "metadata": {
        "id": "XL5MEkLcfRD2"
      },
      "source": [
        "The autoencoder built in the following section is used for building a recommender system, which gives rating for movies. The dataset used for the same is a movie rating dataset. There are two files, namely ml-100k (contains 100k entries) and ml-1m (contains 1m entries). PyTorch is used for the implementation of the autoencoder."
      ]
    },
    {
      "cell_type": "code",
      "metadata": {
        "id": "rjOPzue7FCXJ",
        "colab": {
          "base_uri": "https://localhost:8080/"
        },
        "outputId": "c8052e49-60e8-47d6-d291-3c875dd9e437"
      },
      "source": [
        "!wget \"http://files.grouplens.org/datasets/movielens/ml-100k.zip\"\n",
        "!unzip ml-100k.zip\n",
        "!ls"
      ],
      "execution_count": 1,
      "outputs": [
        {
          "output_type": "stream",
          "text": [
            "--2021-05-18 14:21:01--  http://files.grouplens.org/datasets/movielens/ml-100k.zip\n",
            "Resolving files.grouplens.org (files.grouplens.org)... 128.101.65.152\n",
            "Connecting to files.grouplens.org (files.grouplens.org)|128.101.65.152|:80... connected.\n",
            "HTTP request sent, awaiting response... 200 OK\n",
            "Length: 4924029 (4.7M) [application/zip]\n",
            "Saving to: ‘ml-100k.zip’\n",
            "\n",
            "ml-100k.zip         100%[===================>]   4.70M  26.2MB/s    in 0.2s    \n",
            "\n",
            "2021-05-18 14:21:01 (26.2 MB/s) - ‘ml-100k.zip’ saved [4924029/4924029]\n",
            "\n",
            "Archive:  ml-100k.zip\n",
            "   creating: ml-100k/\n",
            "  inflating: ml-100k/allbut.pl       \n",
            "  inflating: ml-100k/mku.sh          \n",
            "  inflating: ml-100k/README          \n",
            "  inflating: ml-100k/u.data          \n",
            "  inflating: ml-100k/u.genre         \n",
            "  inflating: ml-100k/u.info          \n",
            "  inflating: ml-100k/u.item          \n",
            "  inflating: ml-100k/u.occupation    \n",
            "  inflating: ml-100k/u.user          \n",
            "  inflating: ml-100k/u1.base         \n",
            "  inflating: ml-100k/u1.test         \n",
            "  inflating: ml-100k/u2.base         \n",
            "  inflating: ml-100k/u2.test         \n",
            "  inflating: ml-100k/u3.base         \n",
            "  inflating: ml-100k/u3.test         \n",
            "  inflating: ml-100k/u4.base         \n",
            "  inflating: ml-100k/u4.test         \n",
            "  inflating: ml-100k/u5.base         \n",
            "  inflating: ml-100k/u5.test         \n",
            "  inflating: ml-100k/ua.base         \n",
            "  inflating: ml-100k/ua.test         \n",
            "  inflating: ml-100k/ub.base         \n",
            "  inflating: ml-100k/ub.test         \n",
            "ml-100k  ml-100k.zip  sample_data\n"
          ],
          "name": "stdout"
        }
      ]
    },
    {
      "cell_type": "code",
      "metadata": {
        "id": "LOly1yfAfTjd",
        "colab": {
          "base_uri": "https://localhost:8080/"
        },
        "outputId": "94ea57bc-5601-4d4a-93a9-392224b1bdcf"
      },
      "source": [
        "!wget \"http://files.grouplens.org/datasets/movielens/ml-1m.zip\"\n",
        "!unzip ml-1m.zip\n",
        "!ls"
      ],
      "execution_count": 2,
      "outputs": [
        {
          "output_type": "stream",
          "text": [
            "--2021-05-18 14:21:05--  http://files.grouplens.org/datasets/movielens/ml-1m.zip\n",
            "Resolving files.grouplens.org (files.grouplens.org)... 128.101.65.152\n",
            "Connecting to files.grouplens.org (files.grouplens.org)|128.101.65.152|:80... connected.\n",
            "HTTP request sent, awaiting response... 200 OK\n",
            "Length: 5917549 (5.6M) [application/zip]\n",
            "Saving to: ‘ml-1m.zip’\n",
            "\n",
            "\rml-1m.zip             0%[                    ]       0  --.-KB/s               \rml-1m.zip           100%[===================>]   5.64M  33.1MB/s    in 0.2s    \n",
            "\n",
            "2021-05-18 14:21:06 (33.1 MB/s) - ‘ml-1m.zip’ saved [5917549/5917549]\n",
            "\n",
            "Archive:  ml-1m.zip\n",
            "   creating: ml-1m/\n",
            "  inflating: ml-1m/movies.dat        \n",
            "  inflating: ml-1m/ratings.dat       \n",
            "  inflating: ml-1m/README            \n",
            "  inflating: ml-1m/users.dat         \n",
            "ml-100k  ml-100k.zip  ml-1m  ml-1m.zip\tsample_data\n"
          ],
          "name": "stdout"
        }
      ]
    },
    {
      "cell_type": "markdown",
      "metadata": {
        "id": "EOBJ8UCXdY0g"
      },
      "source": [
        "##Importing the libraries"
      ]
    },
    {
      "cell_type": "code",
      "metadata": {
        "id": "_LvGeU1CeCtg"
      },
      "source": [
        "import numpy as np\n",
        "import pandas as pd\n",
        "import torch\n",
        "import torch.nn as nn\n",
        "import torch.nn.parallel\n",
        "import torch.optim as optim\n",
        "import torch.utils.data\n",
        "from torch.autograd import Variable"
      ],
      "execution_count": 3,
      "outputs": []
    },
    {
      "cell_type": "markdown",
      "metadata": {
        "id": "pM04FyMudkoK"
      },
      "source": [
        "## Importing the dataset\n"
      ]
    },
    {
      "cell_type": "code",
      "metadata": {
        "id": "UJw2p3-Cewo4"
      },
      "source": [
        "# We won't be using this dataset. This dataset is to give a basic idea of the parameters.\n",
        "movies = pd.read_csv('ml-1m/movies.dat', sep = '::', header = None, engine = 'python', encoding = 'latin-1')\n",
        "users = pd.read_csv('ml-1m/users.dat', sep = '::', header = None, engine = 'python', encoding = 'latin-1')\n",
        "ratings = pd.read_csv('ml-1m/ratings.dat', sep = '::', header = None, engine = 'python', encoding = 'latin-1')"
      ],
      "execution_count": 4,
      "outputs": []
    },
    {
      "cell_type": "code",
      "metadata": {
        "id": "vvK6omT9tklm",
        "colab": {
          "base_uri": "https://localhost:8080/",
          "height": 197
        },
        "outputId": "e80eaff9-23cd-4d12-cf03-cd122ed22925"
      },
      "source": [
        "# This dataset contains the number assigned to the movie, name of the movie along with its genre respectively.\n",
        "movies.head()"
      ],
      "execution_count": 5,
      "outputs": [
        {
          "output_type": "execute_result",
          "data": {
            "text/html": [
              "<div>\n",
              "<style scoped>\n",
              "    .dataframe tbody tr th:only-of-type {\n",
              "        vertical-align: middle;\n",
              "    }\n",
              "\n",
              "    .dataframe tbody tr th {\n",
              "        vertical-align: top;\n",
              "    }\n",
              "\n",
              "    .dataframe thead th {\n",
              "        text-align: right;\n",
              "    }\n",
              "</style>\n",
              "<table border=\"1\" class=\"dataframe\">\n",
              "  <thead>\n",
              "    <tr style=\"text-align: right;\">\n",
              "      <th></th>\n",
              "      <th>0</th>\n",
              "      <th>1</th>\n",
              "      <th>2</th>\n",
              "    </tr>\n",
              "  </thead>\n",
              "  <tbody>\n",
              "    <tr>\n",
              "      <th>0</th>\n",
              "      <td>1</td>\n",
              "      <td>Toy Story (1995)</td>\n",
              "      <td>Animation|Children's|Comedy</td>\n",
              "    </tr>\n",
              "    <tr>\n",
              "      <th>1</th>\n",
              "      <td>2</td>\n",
              "      <td>Jumanji (1995)</td>\n",
              "      <td>Adventure|Children's|Fantasy</td>\n",
              "    </tr>\n",
              "    <tr>\n",
              "      <th>2</th>\n",
              "      <td>3</td>\n",
              "      <td>Grumpier Old Men (1995)</td>\n",
              "      <td>Comedy|Romance</td>\n",
              "    </tr>\n",
              "    <tr>\n",
              "      <th>3</th>\n",
              "      <td>4</td>\n",
              "      <td>Waiting to Exhale (1995)</td>\n",
              "      <td>Comedy|Drama</td>\n",
              "    </tr>\n",
              "    <tr>\n",
              "      <th>4</th>\n",
              "      <td>5</td>\n",
              "      <td>Father of the Bride Part II (1995)</td>\n",
              "      <td>Comedy</td>\n",
              "    </tr>\n",
              "  </tbody>\n",
              "</table>\n",
              "</div>"
            ],
            "text/plain": [
              "   0                                   1                             2\n",
              "0  1                    Toy Story (1995)   Animation|Children's|Comedy\n",
              "1  2                      Jumanji (1995)  Adventure|Children's|Fantasy\n",
              "2  3             Grumpier Old Men (1995)                Comedy|Romance\n",
              "3  4            Waiting to Exhale (1995)                  Comedy|Drama\n",
              "4  5  Father of the Bride Part II (1995)                        Comedy"
            ]
          },
          "metadata": {
            "tags": []
          },
          "execution_count": 5
        }
      ]
    },
    {
      "cell_type": "code",
      "metadata": {
        "id": "SUm7THeGtxPR",
        "colab": {
          "base_uri": "https://localhost:8080/",
          "height": 197
        },
        "outputId": "075dcbd8-668b-415b-c446-1ade27858894"
      },
      "source": [
        "# This dataset contains the number assigned to the user, sex of the user, their age and the pincode respectively. \n",
        "users.head()"
      ],
      "execution_count": 6,
      "outputs": [
        {
          "output_type": "execute_result",
          "data": {
            "text/html": [
              "<div>\n",
              "<style scoped>\n",
              "    .dataframe tbody tr th:only-of-type {\n",
              "        vertical-align: middle;\n",
              "    }\n",
              "\n",
              "    .dataframe tbody tr th {\n",
              "        vertical-align: top;\n",
              "    }\n",
              "\n",
              "    .dataframe thead th {\n",
              "        text-align: right;\n",
              "    }\n",
              "</style>\n",
              "<table border=\"1\" class=\"dataframe\">\n",
              "  <thead>\n",
              "    <tr style=\"text-align: right;\">\n",
              "      <th></th>\n",
              "      <th>0</th>\n",
              "      <th>1</th>\n",
              "      <th>2</th>\n",
              "      <th>3</th>\n",
              "      <th>4</th>\n",
              "    </tr>\n",
              "  </thead>\n",
              "  <tbody>\n",
              "    <tr>\n",
              "      <th>0</th>\n",
              "      <td>1</td>\n",
              "      <td>F</td>\n",
              "      <td>1</td>\n",
              "      <td>10</td>\n",
              "      <td>48067</td>\n",
              "    </tr>\n",
              "    <tr>\n",
              "      <th>1</th>\n",
              "      <td>2</td>\n",
              "      <td>M</td>\n",
              "      <td>56</td>\n",
              "      <td>16</td>\n",
              "      <td>70072</td>\n",
              "    </tr>\n",
              "    <tr>\n",
              "      <th>2</th>\n",
              "      <td>3</td>\n",
              "      <td>M</td>\n",
              "      <td>25</td>\n",
              "      <td>15</td>\n",
              "      <td>55117</td>\n",
              "    </tr>\n",
              "    <tr>\n",
              "      <th>3</th>\n",
              "      <td>4</td>\n",
              "      <td>M</td>\n",
              "      <td>45</td>\n",
              "      <td>7</td>\n",
              "      <td>02460</td>\n",
              "    </tr>\n",
              "    <tr>\n",
              "      <th>4</th>\n",
              "      <td>5</td>\n",
              "      <td>M</td>\n",
              "      <td>25</td>\n",
              "      <td>20</td>\n",
              "      <td>55455</td>\n",
              "    </tr>\n",
              "  </tbody>\n",
              "</table>\n",
              "</div>"
            ],
            "text/plain": [
              "   0  1   2   3      4\n",
              "0  1  F   1  10  48067\n",
              "1  2  M  56  16  70072\n",
              "2  3  M  25  15  55117\n",
              "3  4  M  45   7  02460\n",
              "4  5  M  25  20  55455"
            ]
          },
          "metadata": {
            "tags": []
          },
          "execution_count": 6
        }
      ]
    },
    {
      "cell_type": "code",
      "metadata": {
        "id": "OYj08t5xtxJb",
        "colab": {
          "base_uri": "https://localhost:8080/",
          "height": 197
        },
        "outputId": "1fdd86ef-ebc7-497d-c086-6a51fcfa176a"
      },
      "source": [
        "# This dataset contains the number assigned to the user, the movie number, the rating and the timestamp respectively.\n",
        "ratings.head()"
      ],
      "execution_count": 7,
      "outputs": [
        {
          "output_type": "execute_result",
          "data": {
            "text/html": [
              "<div>\n",
              "<style scoped>\n",
              "    .dataframe tbody tr th:only-of-type {\n",
              "        vertical-align: middle;\n",
              "    }\n",
              "\n",
              "    .dataframe tbody tr th {\n",
              "        vertical-align: top;\n",
              "    }\n",
              "\n",
              "    .dataframe thead th {\n",
              "        text-align: right;\n",
              "    }\n",
              "</style>\n",
              "<table border=\"1\" class=\"dataframe\">\n",
              "  <thead>\n",
              "    <tr style=\"text-align: right;\">\n",
              "      <th></th>\n",
              "      <th>0</th>\n",
              "      <th>1</th>\n",
              "      <th>2</th>\n",
              "      <th>3</th>\n",
              "    </tr>\n",
              "  </thead>\n",
              "  <tbody>\n",
              "    <tr>\n",
              "      <th>0</th>\n",
              "      <td>1</td>\n",
              "      <td>1193</td>\n",
              "      <td>5</td>\n",
              "      <td>978300760</td>\n",
              "    </tr>\n",
              "    <tr>\n",
              "      <th>1</th>\n",
              "      <td>1</td>\n",
              "      <td>661</td>\n",
              "      <td>3</td>\n",
              "      <td>978302109</td>\n",
              "    </tr>\n",
              "    <tr>\n",
              "      <th>2</th>\n",
              "      <td>1</td>\n",
              "      <td>914</td>\n",
              "      <td>3</td>\n",
              "      <td>978301968</td>\n",
              "    </tr>\n",
              "    <tr>\n",
              "      <th>3</th>\n",
              "      <td>1</td>\n",
              "      <td>3408</td>\n",
              "      <td>4</td>\n",
              "      <td>978300275</td>\n",
              "    </tr>\n",
              "    <tr>\n",
              "      <th>4</th>\n",
              "      <td>1</td>\n",
              "      <td>2355</td>\n",
              "      <td>5</td>\n",
              "      <td>978824291</td>\n",
              "    </tr>\n",
              "  </tbody>\n",
              "</table>\n",
              "</div>"
            ],
            "text/plain": [
              "   0     1  2          3\n",
              "0  1  1193  5  978300760\n",
              "1  1   661  3  978302109\n",
              "2  1   914  3  978301968\n",
              "3  1  3408  4  978300275\n",
              "4  1  2355  5  978824291"
            ]
          },
          "metadata": {
            "tags": []
          },
          "execution_count": 7
        }
      ]
    },
    {
      "cell_type": "markdown",
      "metadata": {
        "id": "yTIbE2tkdkwP"
      },
      "source": [
        "## Preparing the training set and the test set\n"
      ]
    },
    {
      "cell_type": "code",
      "metadata": {
        "id": "2usLKJBEgPE2"
      },
      "source": [
        "# Training data = 80%, Testing data = 20%\n",
        "training_set = pd.read_csv('ml-100k/u1.base', delimiter = '\\t')\n",
        "# Converting the dataframe into a numpy array\n",
        "training_set = np.array(training_set, dtype = 'int')\n",
        "test_set = pd.read_csv('ml-100k/u1.test', delimiter = '\\t')\n",
        "# Converting the dataframe into a numpy array\n",
        "test_set = np.array(test_set, dtype = 'int')"
      ],
      "execution_count": 8,
      "outputs": []
    },
    {
      "cell_type": "markdown",
      "metadata": {
        "id": "zCf8HjSydk4s"
      },
      "source": [
        "## Getting the number of users and movies\n"
      ]
    },
    {
      "cell_type": "code",
      "metadata": {
        "id": "gPaGZqdniC5m"
      },
      "source": [
        "nb_users = int(max(max(training_set[:, 0], ), max(test_set[:, 0])))\n",
        "nb_movies = int(max(max(training_set[:, 1], ), max(test_set[:, 1])))"
      ],
      "execution_count": 9,
      "outputs": []
    },
    {
      "cell_type": "markdown",
      "metadata": {
        "id": "J-w4-hVidlAm"
      },
      "source": [
        "## Converting the data into an array with users in lines and movies in columns\n"
      ]
    },
    {
      "cell_type": "code",
      "metadata": {
        "id": "-wASs2YFiDaa"
      },
      "source": [
        "# Torch tensors only accept list of lists, and not dataframes as input\n",
        "def convert(data):\n",
        "  new_data = []\n",
        "  for id_users in range(1, nb_users + 1):\n",
        "    id_movies = data[:, 1] [data[:, 0] == id_users]\n",
        "    id_ratings = data[:, 2] [data[:, 0] == id_users]\n",
        "    ratings = np.zeros(nb_movies)\n",
        "    ratings[id_movies - 1] = id_ratings\n",
        "    new_data.append(list(ratings))\n",
        "  return new_data\n",
        "training_set = convert(training_set)\n",
        "test_set = convert(test_set)"
      ],
      "execution_count": 10,
      "outputs": []
    },
    {
      "cell_type": "markdown",
      "metadata": {
        "id": "AMmhuUpldlHo"
      },
      "source": [
        "## Converting the data into Torch tensors\n"
      ]
    },
    {
      "cell_type": "code",
      "metadata": {
        "id": "TwD-KD8yiEEw"
      },
      "source": [
        "training_set = torch.FloatTensor(training_set)\n",
        "test_set = torch.FloatTensor(test_set)"
      ],
      "execution_count": 11,
      "outputs": []
    },
    {
      "cell_type": "markdown",
      "metadata": {
        "id": "6kkL8NkkdlZj"
      },
      "source": [
        "## Creating the architecture of the Neural Network\n"
      ]
    },
    {
      "cell_type": "code",
      "metadata": {
        "id": "oU2nyh76iE6M"
      },
      "source": [
        "# Autoencoders are a combination of single layer feed forward networks and hence nn.Linear() is used. The input layer has the same number of neurons as the number of movies, \n",
        "# which is the number of neurons in the output layer as well. The activation function used is sigmoid. Optimizer used is RMSProp.  \n",
        "class SAE(nn.Module):\n",
        "    def __init__(self, ):\n",
        "        super(SAE, self).__init__()\n",
        "        self.fc1 = nn.Linear(nb_movies, 20)\n",
        "        self.fc2 = nn.Linear(20, 10)\n",
        "        self.fc3 = nn.Linear(10, 20)\n",
        "        self.fc4 = nn.Linear(20, nb_movies)\n",
        "        self.activation = nn.Sigmoid()\n",
        "    # Forward propagation using sigmoid activation function except on the final layer as it has to calculate the rating\n",
        "    def forward(self, x):\n",
        "        x = self.activation(self.fc1(x))\n",
        "        x = self.activation(self.fc2(x))\n",
        "        x = self.activation(self.fc3(x))\n",
        "        x = self.fc4(x)\n",
        "        return x\n",
        "sae = SAE()\n",
        "criterion = nn.MSELoss()\n",
        "optimizer = optim.RMSprop(sae.parameters(), lr = 0.01, weight_decay = 0.5)"
      ],
      "execution_count": 12,
      "outputs": []
    },
    {
      "cell_type": "markdown",
      "metadata": {
        "id": "7gy59alAdloL"
      },
      "source": [
        "## Training the SAE\n"
      ]
    },
    {
      "cell_type": "code",
      "metadata": {
        "id": "FEz9hRaciFTs",
        "colab": {
          "base_uri": "https://localhost:8080/"
        },
        "outputId": "7ddb5c20-34f9-4b0e-dfcd-31a145c8b7ab"
      },
      "source": [
        "# The model is trained for 200 epochs\n",
        "nb_epoch = 200\n",
        "for epoch in range(1, nb_epoch + 1):\n",
        "  train_loss = 0\n",
        "  s = 0.\n",
        "  for id_user in range(nb_users):\n",
        "    # Torch doesn't accept a single vector of one dimension. It should be in the form of a batch.\n",
        "    input = Variable(training_set[id_user]).unsqueeze(0)\n",
        "    # Target values are the same as the input values.\n",
        "    target = input.clone()\n",
        "    # Processing only those users' ratings who have rated at least one movie\n",
        "    if torch.sum(target.data > 0) > 0:\n",
        "      # The predicted ratings by the model\n",
        "      output = sae(input)\n",
        "      target.require_grad = False\n",
        "      # Setting the predicted values to 0 for the unrated movies\n",
        "      output[target == 0] = 0\n",
        "      # Computing the loss for the current user ratings between the predicted and actual values\n",
        "      loss = criterion(output, target)\n",
        "      # Term used for updating the loss function\n",
        "      mean_corrector = nb_movies/float(torch.sum(target.data > 0) + 1e-10)\n",
        "      # Backward propagation\n",
        "      loss.backward()\n",
        "      # Computing the total loss until the current epoch\n",
        "      train_loss += np.sqrt(loss.data*mean_corrector)\n",
        "      # Calculating the total number of users who have rated at least one movie\n",
        "      s += 1.\n",
        "      optimizer.step()\n",
        "  print('epoch: '+str(epoch)+'    loss: '+ str(train_loss/s))"
      ],
      "execution_count": 13,
      "outputs": [
        {
          "output_type": "stream",
          "text": [
            "epoch: 1    loss: tensor(1.7711)\n",
            "epoch: 2    loss: tensor(1.0967)\n",
            "epoch: 3    loss: tensor(1.0532)\n",
            "epoch: 4    loss: tensor(1.0383)\n",
            "epoch: 5    loss: tensor(1.0307)\n",
            "epoch: 6    loss: tensor(1.0265)\n",
            "epoch: 7    loss: tensor(1.0239)\n",
            "epoch: 8    loss: tensor(1.0219)\n",
            "epoch: 9    loss: tensor(1.0208)\n",
            "epoch: 10    loss: tensor(1.0196)\n",
            "epoch: 11    loss: tensor(1.0190)\n",
            "epoch: 12    loss: tensor(1.0183)\n",
            "epoch: 13    loss: tensor(1.0182)\n",
            "epoch: 14    loss: tensor(1.0178)\n",
            "epoch: 15    loss: tensor(1.0174)\n",
            "epoch: 16    loss: tensor(1.0170)\n",
            "epoch: 17    loss: tensor(1.0168)\n",
            "epoch: 18    loss: tensor(1.0164)\n",
            "epoch: 19    loss: tensor(1.0167)\n",
            "epoch: 20    loss: tensor(1.0160)\n",
            "epoch: 21    loss: tensor(1.0160)\n",
            "epoch: 22    loss: tensor(1.0160)\n",
            "epoch: 23    loss: tensor(1.0160)\n",
            "epoch: 24    loss: tensor(1.0157)\n",
            "epoch: 25    loss: tensor(1.0158)\n",
            "epoch: 26    loss: tensor(1.0155)\n",
            "epoch: 27    loss: tensor(1.0152)\n",
            "epoch: 28    loss: tensor(1.0153)\n",
            "epoch: 29    loss: tensor(1.0136)\n",
            "epoch: 30    loss: tensor(1.0120)\n",
            "epoch: 31    loss: tensor(1.0096)\n",
            "epoch: 32    loss: tensor(1.0086)\n",
            "epoch: 33    loss: tensor(1.0058)\n",
            "epoch: 34    loss: tensor(1.0049)\n",
            "epoch: 35    loss: tensor(1.0015)\n",
            "epoch: 36    loss: tensor(1.0003)\n",
            "epoch: 37    loss: tensor(0.9974)\n",
            "epoch: 38    loss: tensor(0.9959)\n",
            "epoch: 39    loss: tensor(0.9925)\n",
            "epoch: 40    loss: tensor(0.9900)\n",
            "epoch: 41    loss: tensor(0.9869)\n",
            "epoch: 42    loss: tensor(0.9915)\n",
            "epoch: 43    loss: tensor(0.9839)\n",
            "epoch: 44    loss: tensor(0.9846)\n",
            "epoch: 45    loss: tensor(0.9784)\n",
            "epoch: 46    loss: tensor(0.9816)\n",
            "epoch: 47    loss: tensor(0.9742)\n",
            "epoch: 48    loss: tensor(0.9775)\n",
            "epoch: 49    loss: tensor(0.9726)\n",
            "epoch: 50    loss: tensor(0.9737)\n",
            "epoch: 51    loss: tensor(0.9700)\n",
            "epoch: 52    loss: tensor(0.9707)\n",
            "epoch: 53    loss: tensor(0.9688)\n",
            "epoch: 54    loss: tensor(0.9642)\n",
            "epoch: 55    loss: tensor(0.9666)\n",
            "epoch: 56    loss: tensor(0.9673)\n",
            "epoch: 57    loss: tensor(0.9635)\n",
            "epoch: 58    loss: tensor(0.9705)\n",
            "epoch: 59    loss: tensor(0.9680)\n",
            "epoch: 60    loss: tensor(0.9642)\n",
            "epoch: 61    loss: tensor(0.9617)\n",
            "epoch: 62    loss: tensor(0.9611)\n",
            "epoch: 63    loss: tensor(0.9607)\n",
            "epoch: 64    loss: tensor(0.9605)\n",
            "epoch: 65    loss: tensor(0.9531)\n",
            "epoch: 66    loss: tensor(0.9547)\n",
            "epoch: 67    loss: tensor(0.9564)\n",
            "epoch: 68    loss: tensor(0.9562)\n",
            "epoch: 69    loss: tensor(0.9526)\n",
            "epoch: 70    loss: tensor(0.9510)\n",
            "epoch: 71    loss: tensor(0.9506)\n",
            "epoch: 72    loss: tensor(0.9503)\n",
            "epoch: 73    loss: tensor(0.9495)\n",
            "epoch: 74    loss: tensor(0.9531)\n",
            "epoch: 75    loss: tensor(0.9489)\n",
            "epoch: 76    loss: tensor(0.9493)\n",
            "epoch: 77    loss: tensor(0.9483)\n",
            "epoch: 78    loss: tensor(0.9479)\n",
            "epoch: 79    loss: tensor(0.9436)\n",
            "epoch: 80    loss: tensor(0.9458)\n",
            "epoch: 81    loss: tensor(0.9440)\n",
            "epoch: 82    loss: tensor(0.9456)\n",
            "epoch: 83    loss: tensor(0.9413)\n",
            "epoch: 84    loss: tensor(0.9428)\n",
            "epoch: 85    loss: tensor(0.9425)\n",
            "epoch: 86    loss: tensor(0.9417)\n",
            "epoch: 87    loss: tensor(0.9377)\n",
            "epoch: 88    loss: tensor(0.9407)\n",
            "epoch: 89    loss: tensor(0.9388)\n",
            "epoch: 90    loss: tensor(0.9401)\n",
            "epoch: 91    loss: tensor(0.9367)\n",
            "epoch: 92    loss: tensor(0.9390)\n",
            "epoch: 93    loss: tensor(0.9368)\n",
            "epoch: 94    loss: tensor(0.9375)\n",
            "epoch: 95    loss: tensor(0.9354)\n",
            "epoch: 96    loss: tensor(0.9366)\n",
            "epoch: 97    loss: tensor(0.9350)\n",
            "epoch: 98    loss: tensor(0.9357)\n",
            "epoch: 99    loss: tensor(0.9341)\n",
            "epoch: 100    loss: tensor(0.9343)\n",
            "epoch: 101    loss: tensor(0.9332)\n",
            "epoch: 102    loss: tensor(0.9338)\n",
            "epoch: 103    loss: tensor(0.9327)\n",
            "epoch: 104    loss: tensor(0.9330)\n",
            "epoch: 105    loss: tensor(0.9312)\n",
            "epoch: 106    loss: tensor(0.9323)\n",
            "epoch: 107    loss: tensor(0.9315)\n",
            "epoch: 108    loss: tensor(0.9320)\n",
            "epoch: 109    loss: tensor(0.9311)\n",
            "epoch: 110    loss: tensor(0.9313)\n",
            "epoch: 111    loss: tensor(0.9297)\n",
            "epoch: 112    loss: tensor(0.9306)\n",
            "epoch: 113    loss: tensor(0.9301)\n",
            "epoch: 114    loss: tensor(0.9304)\n",
            "epoch: 115    loss: tensor(0.9295)\n",
            "epoch: 116    loss: tensor(0.9295)\n",
            "epoch: 117    loss: tensor(0.9284)\n",
            "epoch: 118    loss: tensor(0.9292)\n",
            "epoch: 119    loss: tensor(0.9281)\n",
            "epoch: 120    loss: tensor(0.9287)\n",
            "epoch: 121    loss: tensor(0.9276)\n",
            "epoch: 122    loss: tensor(0.9281)\n",
            "epoch: 123    loss: tensor(0.9269)\n",
            "epoch: 124    loss: tensor(0.9274)\n",
            "epoch: 125    loss: tensor(0.9263)\n",
            "epoch: 126    loss: tensor(0.9263)\n",
            "epoch: 127    loss: tensor(0.9254)\n",
            "epoch: 128    loss: tensor(0.9265)\n",
            "epoch: 129    loss: tensor(0.9253)\n",
            "epoch: 130    loss: tensor(0.9261)\n",
            "epoch: 131    loss: tensor(0.9245)\n",
            "epoch: 132    loss: tensor(0.9256)\n",
            "epoch: 133    loss: tensor(0.9246)\n",
            "epoch: 134    loss: tensor(0.9253)\n",
            "epoch: 135    loss: tensor(0.9238)\n",
            "epoch: 136    loss: tensor(0.9245)\n",
            "epoch: 137    loss: tensor(0.9230)\n",
            "epoch: 138    loss: tensor(0.9240)\n",
            "epoch: 139    loss: tensor(0.9227)\n",
            "epoch: 140    loss: tensor(0.9238)\n",
            "epoch: 141    loss: tensor(0.9223)\n",
            "epoch: 142    loss: tensor(0.9233)\n",
            "epoch: 143    loss: tensor(0.9217)\n",
            "epoch: 144    loss: tensor(0.9228)\n",
            "epoch: 145    loss: tensor(0.9212)\n",
            "epoch: 146    loss: tensor(0.9220)\n",
            "epoch: 147    loss: tensor(0.9211)\n",
            "epoch: 148    loss: tensor(0.9220)\n",
            "epoch: 149    loss: tensor(0.9208)\n",
            "epoch: 150    loss: tensor(0.9215)\n",
            "epoch: 151    loss: tensor(0.9199)\n",
            "epoch: 152    loss: tensor(0.9210)\n",
            "epoch: 153    loss: tensor(0.9201)\n",
            "epoch: 154    loss: tensor(0.9208)\n",
            "epoch: 155    loss: tensor(0.9195)\n",
            "epoch: 156    loss: tensor(0.9204)\n",
            "epoch: 157    loss: tensor(0.9187)\n",
            "epoch: 158    loss: tensor(0.9200)\n",
            "epoch: 159    loss: tensor(0.9184)\n",
            "epoch: 160    loss: tensor(0.9192)\n",
            "epoch: 161    loss: tensor(0.9192)\n",
            "epoch: 162    loss: tensor(0.9195)\n",
            "epoch: 163    loss: tensor(0.9176)\n",
            "epoch: 164    loss: tensor(0.9183)\n",
            "epoch: 165    loss: tensor(0.9175)\n",
            "epoch: 166    loss: tensor(0.9186)\n",
            "epoch: 167    loss: tensor(0.9173)\n",
            "epoch: 168    loss: tensor(0.9181)\n",
            "epoch: 169    loss: tensor(0.9170)\n",
            "epoch: 170    loss: tensor(0.9179)\n",
            "epoch: 171    loss: tensor(0.9163)\n",
            "epoch: 172    loss: tensor(0.9171)\n",
            "epoch: 173    loss: tensor(0.9160)\n",
            "epoch: 174    loss: tensor(0.9173)\n",
            "epoch: 175    loss: tensor(0.9157)\n",
            "epoch: 176    loss: tensor(0.9167)\n",
            "epoch: 177    loss: tensor(0.9157)\n",
            "epoch: 178    loss: tensor(0.9166)\n",
            "epoch: 179    loss: tensor(0.9152)\n",
            "epoch: 180    loss: tensor(0.9161)\n",
            "epoch: 181    loss: tensor(0.9151)\n",
            "epoch: 182    loss: tensor(0.9158)\n",
            "epoch: 183    loss: tensor(0.9152)\n",
            "epoch: 184    loss: tensor(0.9157)\n",
            "epoch: 185    loss: tensor(0.9151)\n",
            "epoch: 186    loss: tensor(0.9156)\n",
            "epoch: 187    loss: tensor(0.9144)\n",
            "epoch: 188    loss: tensor(0.9154)\n",
            "epoch: 189    loss: tensor(0.9145)\n",
            "epoch: 190    loss: tensor(0.9148)\n",
            "epoch: 191    loss: tensor(0.9138)\n",
            "epoch: 192    loss: tensor(0.9145)\n",
            "epoch: 193    loss: tensor(0.9135)\n",
            "epoch: 194    loss: tensor(0.9143)\n",
            "epoch: 195    loss: tensor(0.9131)\n",
            "epoch: 196    loss: tensor(0.9144)\n",
            "epoch: 197    loss: tensor(0.9130)\n",
            "epoch: 198    loss: tensor(0.9142)\n",
            "epoch: 199    loss: tensor(0.9128)\n",
            "epoch: 200    loss: tensor(0.9136)\n"
          ],
          "name": "stdout"
        }
      ]
    },
    {
      "cell_type": "markdown",
      "metadata": {
        "id": "Bak5uc8gd-gX"
      },
      "source": [
        "## Testing the SAE\n"
      ]
    },
    {
      "cell_type": "code",
      "metadata": {
        "id": "5ztvzYRtiGCz",
        "colab": {
          "base_uri": "https://localhost:8080/"
        },
        "outputId": "2344d22d-644c-45a4-f18a-d6389d4e5f8f"
      },
      "source": [
        "# Performing the same procedure as done on the training data, on the test data to compute the test loss\n",
        "test_loss = 0\n",
        "s = 0.\n",
        "for id_user in range(nb_users):\n",
        "  input = Variable(training_set[id_user]).unsqueeze(0)\n",
        "  target = Variable(test_set[id_user]).unsqueeze(0)\n",
        "  if torch.sum(target.data > 0) > 0:\n",
        "    output = sae(input)\n",
        "    target.require_grad = False\n",
        "    output[target == 0] = 0\n",
        "    loss = criterion(output, target)\n",
        "    mean_corrector = nb_movies/float(torch.sum(target.data > 0) + 1e-10)\n",
        "    test_loss += np.sqrt(loss.data*mean_corrector)\n",
        "    s += 1.\n",
        "print('test loss: '+str(test_loss/s))"
      ],
      "execution_count": 14,
      "outputs": [
        {
          "output_type": "stream",
          "text": [
            "test loss: tensor(0.9572)\n"
          ],
          "name": "stdout"
        }
      ]
    }
  ]
}