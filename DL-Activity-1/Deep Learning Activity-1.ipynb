{
 "cells": [
  {
   "cell_type": "raw",
   "metadata": {},
   "source": [
    "https://github.com/Shwethaa-R/Deep-Learning-Activity-1"
   ]
  },
  {
   "cell_type": "markdown",
   "metadata": {},
   "source": [
    "# Exercise 1"
   ]
  },
  {
   "cell_type": "raw",
   "metadata": {},
   "source": [
    "Build an algorithm for implementing Single Layer Perceptron Network. Do not use built-in functions.  "
   ]
  },
  {
   "cell_type": "code",
   "execution_count": 1,
   "metadata": {},
   "outputs": [],
   "source": [
    "import numpy as np"
   ]
  },
  {
   "cell_type": "code",
   "execution_count": 2,
   "metadata": {},
   "outputs": [],
   "source": [
    "#Activation Function\n",
    "def activation(y_in):\n",
    "    if y_in == 0:\n",
    "        y = 0\n",
    "    elif y_in < 0:\n",
    "        y = -1\n",
    "    else:\n",
    "        y = 1\n",
    "    return y"
   ]
  },
  {
   "cell_type": "code",
   "execution_count": 3,
   "metadata": {},
   "outputs": [],
   "source": [
    "#Function to update weights and biases\n",
    "def update_weights(w, alpha, t, d, y, b):\n",
    "    if t != y:       \n",
    "        for i in range(len(d)):\n",
    "            w[i] += alpha*t*d[i]\n",
    "        b += alpha*t\n",
    "    return w, b"
   ]
  },
  {
   "cell_type": "code",
   "execution_count": 4,
   "metadata": {},
   "outputs": [],
   "source": [
    "#Function to implement the perceptron algorithm\n",
    "def perceptron(data, target, bias):\n",
    "    b = 0\n",
    "    w = np.zeros((len(data[0]),), dtype=int)\n",
    "    alpha = 1\n",
    "    y_in = 0\n",
    "    for i in range(len(data)):\n",
    "        y_in += b\n",
    "        for j in range(len(data[0])):\n",
    "            y_in += (w[j]*data[i][j])\n",
    "        y = activation(y_in)\n",
    "        w, b = update_weights(w, alpha, target[i], data[i], y, b)\n",
    "        print(\"w={}    b={}    y_in={}    y={}    t={}\".format(w,b,y_in,y,target[i]))\n",
    "        y_in = 0"
   ]
  },
  {
   "cell_type": "code",
   "execution_count": 5,
   "metadata": {},
   "outputs": [
    {
     "name": "stdout",
     "output_type": "stream",
     "text": [
      "w=[-1 -1 -1]    b=1    y_in=0    y=0    t=1\n",
      "w=[-2 -2  0]    b=0    y_in=0    y=0    t=-1\n",
      "w=[-3 -1 -1]    b=-1    y_in=0    y=0    t=-1\n",
      "w=[-2 -2 -2]    b=-2    y_in=0    y=0    t=-1\n",
      "w=[-1 -1 -3]    b=-3    y_in=0    y=0    t=-1\n",
      "w=[ 0 -2 -2]    b=-4    y_in=0    y=0    t=-1\n",
      "w=[-1 -1 -1]    b=-5    y_in=0    y=0    t=-1\n",
      "w=[-1 -1 -1]    b=-5    y_in=-8    y=-1    t=-1\n"
     ]
    }
   ],
   "source": [
    "data = np.array([[-1,-1,-1], [1,1,-1], [1,-1,1], [-1,1,1], [-1,-1,1], [-1,1,-1], [1,-1,-1], [1,1,1]])\n",
    "target = np.array([1,-1,-1,-1,-1,-1,-1,-1])\n",
    "bias = np.ones((len(data),), dtype=int)\n",
    "perceptron(data, target, bias)"
   ]
  },
  {
   "cell_type": "markdown",
   "metadata": {},
   "source": [
    "# Exercise 2"
   ]
  },
  {
   "cell_type": "raw",
   "metadata": {},
   "source": [
    "Build a Multilayer Perceptron Network by making use of built in functions, which is used further to run on a dataset of your choice.\n",
    "(i) Display the first 5 and the last 5 rows of data.\n",
    "(ii) Run the model on the dataset by splitting the training and testing dataset as follows:\n",
    "    (a) 90%-10%  (b) 80%-20%  (c) 70%-30%  (d) 60%-40%  (e) 50%-50%\n",
    "(iii) Display the confusion matrix\n",
    "(iv) Display the accuracy\n",
    "(v) Display a table containing the test-train split-up and the respective accuracies"
   ]
  },
  {
   "cell_type": "code",
   "execution_count": 6,
   "metadata": {},
   "outputs": [],
   "source": [
    "import pandas as pd"
   ]
  },
  {
   "cell_type": "code",
   "execution_count": 7,
   "metadata": {},
   "outputs": [
    {
     "name": "stdout",
     "output_type": "stream",
     "text": [
      "     Alcohol Type  Alcohol  Malic acid   Ash  Alkalinity of ash  Magnesium  \\\n",
      "0               1    14.23        1.71  2.43               15.6        127   \n",
      "1               1    13.20        1.78  2.14               11.2        100   \n",
      "2               1    13.16        2.36  2.67               18.6        101   \n",
      "3               1    14.37        1.95  2.50               16.8        113   \n",
      "4               1    13.24        2.59  2.87               21.0        118   \n",
      "..            ...      ...         ...   ...                ...        ...   \n",
      "173             3    13.71        5.65  2.45               20.5         95   \n",
      "174             3    13.40        3.91  2.48               23.0        102   \n",
      "175             3    13.27        4.28  2.26               20.0        120   \n",
      "176             3    13.17        2.59  2.37               20.0        120   \n",
      "177             3    14.13        4.10  2.74               24.5         96   \n",
      "\n",
      "     Total phenols  Flavanoids  Nonflavanoid phenols  \\\n",
      "0             2.80        3.06                  0.28   \n",
      "1             2.65        2.76                  0.26   \n",
      "2             2.80        3.24                  0.30   \n",
      "3             3.85        3.49                  0.24   \n",
      "4             2.80        2.69                  0.39   \n",
      "..             ...         ...                   ...   \n",
      "173           1.68        0.61                  0.52   \n",
      "174           1.80        0.75                  0.43   \n",
      "175           1.59        0.69                  0.43   \n",
      "176           1.65        0.68                  0.53   \n",
      "177           2.05        0.76                  0.56   \n",
      "\n",
      "     Proanthocyanins, Color intensity    Hue  OD280/OD315 of diluted wines  \\\n",
      "0                                2.29   5.64                          1.04   \n",
      "1                                1.28   4.38                          1.05   \n",
      "2                                2.81   5.68                          1.03   \n",
      "3                                2.18   7.80                          0.86   \n",
      "4                                1.82   4.32                          1.04   \n",
      "..                                ...    ...                           ...   \n",
      "173                              1.06   7.70                          0.64   \n",
      "174                              1.41   7.30                          0.70   \n",
      "175                              1.35  10.20                          0.59   \n",
      "176                              1.46   9.30                          0.60   \n",
      "177                              1.35   9.20                          0.61   \n",
      "\n",
      "     Proline  \n",
      "0       3.92  \n",
      "1       3.40  \n",
      "2       3.17  \n",
      "3       3.45  \n",
      "4       2.93  \n",
      "..       ...  \n",
      "173     1.74  \n",
      "174     1.56  \n",
      "175     1.56  \n",
      "176     1.62  \n",
      "177     1.60  \n",
      "\n",
      "[178 rows x 13 columns]\n"
     ]
    }
   ],
   "source": [
    "#The dataset chosen is 'wine_data.csv' from the UCI repository. It is a multiIt has 13 attributes and 178 instances.\n",
    "df = pd.read_csv(\"wine_data.csv\",index_col=False, names= [ 'Alcohol Type', 'Alcohol',  'Malic acid', 'Ash',  'Alkalinity of ash',  'Magnesium',  'Total phenols',  'Flavanoids',  'Nonflavanoid phenols',  'Proanthocyanins, Color intensity', 'Hue', 'OD280/OD315 of diluted wines', 'Proline'])\n",
    "print(df)"
   ]
  },
  {
   "cell_type": "code",
   "execution_count": 8,
   "metadata": {},
   "outputs": [
    {
     "data": {
      "text/html": [
       "<div>\n",
       "<style scoped>\n",
       "    .dataframe tbody tr th:only-of-type {\n",
       "        vertical-align: middle;\n",
       "    }\n",
       "\n",
       "    .dataframe tbody tr th {\n",
       "        vertical-align: top;\n",
       "    }\n",
       "\n",
       "    .dataframe thead th {\n",
       "        text-align: right;\n",
       "    }\n",
       "</style>\n",
       "<table border=\"1\" class=\"dataframe\">\n",
       "  <thead>\n",
       "    <tr style=\"text-align: right;\">\n",
       "      <th></th>\n",
       "      <th>Alcohol Type</th>\n",
       "      <th>Alcohol</th>\n",
       "      <th>Malic acid</th>\n",
       "      <th>Ash</th>\n",
       "      <th>Alkalinity of ash</th>\n",
       "      <th>Magnesium</th>\n",
       "      <th>Total phenols</th>\n",
       "      <th>Flavanoids</th>\n",
       "      <th>Nonflavanoid phenols</th>\n",
       "      <th>Proanthocyanins, Color intensity</th>\n",
       "      <th>Hue</th>\n",
       "      <th>OD280/OD315 of diluted wines</th>\n",
       "      <th>Proline</th>\n",
       "    </tr>\n",
       "  </thead>\n",
       "  <tbody>\n",
       "    <tr>\n",
       "      <th>0</th>\n",
       "      <td>1</td>\n",
       "      <td>14.23</td>\n",
       "      <td>1.71</td>\n",
       "      <td>2.43</td>\n",
       "      <td>15.6</td>\n",
       "      <td>127</td>\n",
       "      <td>2.80</td>\n",
       "      <td>3.06</td>\n",
       "      <td>0.28</td>\n",
       "      <td>2.29</td>\n",
       "      <td>5.64</td>\n",
       "      <td>1.04</td>\n",
       "      <td>3.92</td>\n",
       "    </tr>\n",
       "    <tr>\n",
       "      <th>1</th>\n",
       "      <td>1</td>\n",
       "      <td>13.20</td>\n",
       "      <td>1.78</td>\n",
       "      <td>2.14</td>\n",
       "      <td>11.2</td>\n",
       "      <td>100</td>\n",
       "      <td>2.65</td>\n",
       "      <td>2.76</td>\n",
       "      <td>0.26</td>\n",
       "      <td>1.28</td>\n",
       "      <td>4.38</td>\n",
       "      <td>1.05</td>\n",
       "      <td>3.40</td>\n",
       "    </tr>\n",
       "    <tr>\n",
       "      <th>2</th>\n",
       "      <td>1</td>\n",
       "      <td>13.16</td>\n",
       "      <td>2.36</td>\n",
       "      <td>2.67</td>\n",
       "      <td>18.6</td>\n",
       "      <td>101</td>\n",
       "      <td>2.80</td>\n",
       "      <td>3.24</td>\n",
       "      <td>0.30</td>\n",
       "      <td>2.81</td>\n",
       "      <td>5.68</td>\n",
       "      <td>1.03</td>\n",
       "      <td>3.17</td>\n",
       "    </tr>\n",
       "    <tr>\n",
       "      <th>3</th>\n",
       "      <td>1</td>\n",
       "      <td>14.37</td>\n",
       "      <td>1.95</td>\n",
       "      <td>2.50</td>\n",
       "      <td>16.8</td>\n",
       "      <td>113</td>\n",
       "      <td>3.85</td>\n",
       "      <td>3.49</td>\n",
       "      <td>0.24</td>\n",
       "      <td>2.18</td>\n",
       "      <td>7.80</td>\n",
       "      <td>0.86</td>\n",
       "      <td>3.45</td>\n",
       "    </tr>\n",
       "    <tr>\n",
       "      <th>4</th>\n",
       "      <td>1</td>\n",
       "      <td>13.24</td>\n",
       "      <td>2.59</td>\n",
       "      <td>2.87</td>\n",
       "      <td>21.0</td>\n",
       "      <td>118</td>\n",
       "      <td>2.80</td>\n",
       "      <td>2.69</td>\n",
       "      <td>0.39</td>\n",
       "      <td>1.82</td>\n",
       "      <td>4.32</td>\n",
       "      <td>1.04</td>\n",
       "      <td>2.93</td>\n",
       "    </tr>\n",
       "  </tbody>\n",
       "</table>\n",
       "</div>"
      ],
      "text/plain": [
       "   Alcohol Type  Alcohol  Malic acid   Ash  Alkalinity of ash  Magnesium  \\\n",
       "0             1    14.23        1.71  2.43               15.6        127   \n",
       "1             1    13.20        1.78  2.14               11.2        100   \n",
       "2             1    13.16        2.36  2.67               18.6        101   \n",
       "3             1    14.37        1.95  2.50               16.8        113   \n",
       "4             1    13.24        2.59  2.87               21.0        118   \n",
       "\n",
       "   Total phenols  Flavanoids  Nonflavanoid phenols  \\\n",
       "0           2.80        3.06                  0.28   \n",
       "1           2.65        2.76                  0.26   \n",
       "2           2.80        3.24                  0.30   \n",
       "3           3.85        3.49                  0.24   \n",
       "4           2.80        2.69                  0.39   \n",
       "\n",
       "   Proanthocyanins, Color intensity   Hue  OD280/OD315 of diluted wines  \\\n",
       "0                              2.29  5.64                          1.04   \n",
       "1                              1.28  4.38                          1.05   \n",
       "2                              2.81  5.68                          1.03   \n",
       "3                              2.18  7.80                          0.86   \n",
       "4                              1.82  4.32                          1.04   \n",
       "\n",
       "   Proline  \n",
       "0     3.92  \n",
       "1     3.40  \n",
       "2     3.17  \n",
       "3     3.45  \n",
       "4     2.93  "
      ]
     },
     "execution_count": 8,
     "metadata": {},
     "output_type": "execute_result"
    }
   ],
   "source": [
    "#Display the first 5 rows of the data.\n",
    "df.head(5)"
   ]
  },
  {
   "cell_type": "code",
   "execution_count": 9,
   "metadata": {},
   "outputs": [
    {
     "data": {
      "text/html": [
       "<div>\n",
       "<style scoped>\n",
       "    .dataframe tbody tr th:only-of-type {\n",
       "        vertical-align: middle;\n",
       "    }\n",
       "\n",
       "    .dataframe tbody tr th {\n",
       "        vertical-align: top;\n",
       "    }\n",
       "\n",
       "    .dataframe thead th {\n",
       "        text-align: right;\n",
       "    }\n",
       "</style>\n",
       "<table border=\"1\" class=\"dataframe\">\n",
       "  <thead>\n",
       "    <tr style=\"text-align: right;\">\n",
       "      <th></th>\n",
       "      <th>Alcohol Type</th>\n",
       "      <th>Alcohol</th>\n",
       "      <th>Malic acid</th>\n",
       "      <th>Ash</th>\n",
       "      <th>Alkalinity of ash</th>\n",
       "      <th>Magnesium</th>\n",
       "      <th>Total phenols</th>\n",
       "      <th>Flavanoids</th>\n",
       "      <th>Nonflavanoid phenols</th>\n",
       "      <th>Proanthocyanins, Color intensity</th>\n",
       "      <th>Hue</th>\n",
       "      <th>OD280/OD315 of diluted wines</th>\n",
       "      <th>Proline</th>\n",
       "    </tr>\n",
       "  </thead>\n",
       "  <tbody>\n",
       "    <tr>\n",
       "      <th>173</th>\n",
       "      <td>3</td>\n",
       "      <td>13.71</td>\n",
       "      <td>5.65</td>\n",
       "      <td>2.45</td>\n",
       "      <td>20.5</td>\n",
       "      <td>95</td>\n",
       "      <td>1.68</td>\n",
       "      <td>0.61</td>\n",
       "      <td>0.52</td>\n",
       "      <td>1.06</td>\n",
       "      <td>7.7</td>\n",
       "      <td>0.64</td>\n",
       "      <td>1.74</td>\n",
       "    </tr>\n",
       "    <tr>\n",
       "      <th>174</th>\n",
       "      <td>3</td>\n",
       "      <td>13.40</td>\n",
       "      <td>3.91</td>\n",
       "      <td>2.48</td>\n",
       "      <td>23.0</td>\n",
       "      <td>102</td>\n",
       "      <td>1.80</td>\n",
       "      <td>0.75</td>\n",
       "      <td>0.43</td>\n",
       "      <td>1.41</td>\n",
       "      <td>7.3</td>\n",
       "      <td>0.70</td>\n",
       "      <td>1.56</td>\n",
       "    </tr>\n",
       "    <tr>\n",
       "      <th>175</th>\n",
       "      <td>3</td>\n",
       "      <td>13.27</td>\n",
       "      <td>4.28</td>\n",
       "      <td>2.26</td>\n",
       "      <td>20.0</td>\n",
       "      <td>120</td>\n",
       "      <td>1.59</td>\n",
       "      <td>0.69</td>\n",
       "      <td>0.43</td>\n",
       "      <td>1.35</td>\n",
       "      <td>10.2</td>\n",
       "      <td>0.59</td>\n",
       "      <td>1.56</td>\n",
       "    </tr>\n",
       "    <tr>\n",
       "      <th>176</th>\n",
       "      <td>3</td>\n",
       "      <td>13.17</td>\n",
       "      <td>2.59</td>\n",
       "      <td>2.37</td>\n",
       "      <td>20.0</td>\n",
       "      <td>120</td>\n",
       "      <td>1.65</td>\n",
       "      <td>0.68</td>\n",
       "      <td>0.53</td>\n",
       "      <td>1.46</td>\n",
       "      <td>9.3</td>\n",
       "      <td>0.60</td>\n",
       "      <td>1.62</td>\n",
       "    </tr>\n",
       "    <tr>\n",
       "      <th>177</th>\n",
       "      <td>3</td>\n",
       "      <td>14.13</td>\n",
       "      <td>4.10</td>\n",
       "      <td>2.74</td>\n",
       "      <td>24.5</td>\n",
       "      <td>96</td>\n",
       "      <td>2.05</td>\n",
       "      <td>0.76</td>\n",
       "      <td>0.56</td>\n",
       "      <td>1.35</td>\n",
       "      <td>9.2</td>\n",
       "      <td>0.61</td>\n",
       "      <td>1.60</td>\n",
       "    </tr>\n",
       "  </tbody>\n",
       "</table>\n",
       "</div>"
      ],
      "text/plain": [
       "     Alcohol Type  Alcohol  Malic acid   Ash  Alkalinity of ash  Magnesium  \\\n",
       "173             3    13.71        5.65  2.45               20.5         95   \n",
       "174             3    13.40        3.91  2.48               23.0        102   \n",
       "175             3    13.27        4.28  2.26               20.0        120   \n",
       "176             3    13.17        2.59  2.37               20.0        120   \n",
       "177             3    14.13        4.10  2.74               24.5         96   \n",
       "\n",
       "     Total phenols  Flavanoids  Nonflavanoid phenols  \\\n",
       "173           1.68        0.61                  0.52   \n",
       "174           1.80        0.75                  0.43   \n",
       "175           1.59        0.69                  0.43   \n",
       "176           1.65        0.68                  0.53   \n",
       "177           2.05        0.76                  0.56   \n",
       "\n",
       "     Proanthocyanins, Color intensity   Hue  OD280/OD315 of diluted wines  \\\n",
       "173                              1.06   7.7                          0.64   \n",
       "174                              1.41   7.3                          0.70   \n",
       "175                              1.35  10.2                          0.59   \n",
       "176                              1.46   9.3                          0.60   \n",
       "177                              1.35   9.2                          0.61   \n",
       "\n",
       "     Proline  \n",
       "173     1.74  \n",
       "174     1.56  \n",
       "175     1.56  \n",
       "176     1.62  \n",
       "177     1.60  "
      ]
     },
     "execution_count": 9,
     "metadata": {},
     "output_type": "execute_result"
    }
   ],
   "source": [
    "#Display the last 5 rows of the data.\n",
    "df.tail(5)"
   ]
  },
  {
   "cell_type": "code",
   "execution_count": 10,
   "metadata": {},
   "outputs": [
    {
     "name": "stdout",
     "output_type": "stream",
     "text": [
      "     Alcohol  Malic acid   Ash  Alkalinity of ash  Magnesium  Total phenols  \\\n",
      "0      14.23        1.71  2.43               15.6        127           2.80   \n",
      "1      13.20        1.78  2.14               11.2        100           2.65   \n",
      "2      13.16        2.36  2.67               18.6        101           2.80   \n",
      "3      14.37        1.95  2.50               16.8        113           3.85   \n",
      "4      13.24        2.59  2.87               21.0        118           2.80   \n",
      "..       ...         ...   ...                ...        ...            ...   \n",
      "173    13.71        5.65  2.45               20.5         95           1.68   \n",
      "174    13.40        3.91  2.48               23.0        102           1.80   \n",
      "175    13.27        4.28  2.26               20.0        120           1.59   \n",
      "176    13.17        2.59  2.37               20.0        120           1.65   \n",
      "177    14.13        4.10  2.74               24.5         96           2.05   \n",
      "\n",
      "     Flavanoids  Nonflavanoid phenols  Proanthocyanins, Color intensity  \\\n",
      "0          3.06                  0.28                              2.29   \n",
      "1          2.76                  0.26                              1.28   \n",
      "2          3.24                  0.30                              2.81   \n",
      "3          3.49                  0.24                              2.18   \n",
      "4          2.69                  0.39                              1.82   \n",
      "..          ...                   ...                               ...   \n",
      "173        0.61                  0.52                              1.06   \n",
      "174        0.75                  0.43                              1.41   \n",
      "175        0.69                  0.43                              1.35   \n",
      "176        0.68                  0.53                              1.46   \n",
      "177        0.76                  0.56                              1.35   \n",
      "\n",
      "       Hue  OD280/OD315 of diluted wines  Proline  \n",
      "0     5.64                          1.04     3.92  \n",
      "1     4.38                          1.05     3.40  \n",
      "2     5.68                          1.03     3.17  \n",
      "3     7.80                          0.86     3.45  \n",
      "4     4.32                          1.04     2.93  \n",
      "..     ...                           ...      ...  \n",
      "173   7.70                          0.64     1.74  \n",
      "174   7.30                          0.70     1.56  \n",
      "175  10.20                          0.59     1.56  \n",
      "176   9.30                          0.60     1.62  \n",
      "177   9.20                          0.61     1.60  \n",
      "\n",
      "[178 rows x 12 columns]\n"
     ]
    }
   ],
   "source": [
    "#Splitting the dataset to obtain the input features and the target.\n",
    "X, y = df.loc[:, df.columns != 'Alcohol Type'],  df.loc[:,df.columns == 'Alcohol Type']\n",
    "print(X)"
   ]
  },
  {
   "cell_type": "code",
   "execution_count": 11,
   "metadata": {},
   "outputs": [
    {
     "name": "stdout",
     "output_type": "stream",
     "text": [
      "     Alcohol Type\n",
      "0               1\n",
      "1               1\n",
      "2               1\n",
      "3               1\n",
      "4               1\n",
      "..            ...\n",
      "173             3\n",
      "174             3\n",
      "175             3\n",
      "176             3\n",
      "177             3\n",
      "\n",
      "[178 rows x 1 columns]\n"
     ]
    }
   ],
   "source": [
    "print(y)"
   ]
  },
  {
   "cell_type": "code",
   "execution_count": 12,
   "metadata": {},
   "outputs": [],
   "source": [
    "from sklearn.neural_network import MLPClassifier\n",
    "from sklearn.model_selection import train_test_split\n",
    "from sklearn.metrics import confusion_matrix \n",
    "from sklearn.metrics import classification_report"
   ]
  },
  {
   "cell_type": "raw",
   "metadata": {},
   "source": [
    "90% training data- 10% test data "
   ]
  },
  {
   "cell_type": "code",
   "execution_count": 13,
   "metadata": {},
   "outputs": [],
   "source": [
    "X_train_1, X_test_1, y_train_1, y_test_1 = train_test_split(X, y, train_size=0.9)\n",
    "clf = MLPClassifier(hidden_layer_sizes=200, max_iter=200, verbose=True)"
   ]
  },
  {
   "cell_type": "code",
   "execution_count": 14,
   "metadata": {},
   "outputs": [
    {
     "name": "stderr",
     "output_type": "stream",
     "text": [
      "C:\\Anaconda\\lib\\site-packages\\sklearn\\neural_network\\_multilayer_perceptron.py:934: DataConversionWarning: A column-vector y was passed when a 1d array was expected. Please change the shape of y to (n_samples, ), for example using ravel().\n",
      "  y = column_or_1d(y, warn=True)\n"
     ]
    },
    {
     "name": "stdout",
     "output_type": "stream",
     "text": [
      "Iteration 1, loss = 5.88312276\n",
      "Iteration 2, loss = 4.13010148\n",
      "Iteration 3, loss = 2.70790110\n",
      "Iteration 4, loss = 2.41266366\n",
      "Iteration 5, loss = 2.35967339\n",
      "Iteration 6, loss = 1.96867424\n",
      "Iteration 7, loss = 1.41532138\n",
      "Iteration 8, loss = 1.15562397\n",
      "Iteration 9, loss = 1.46194652\n",
      "Iteration 10, loss = 1.71141210\n",
      "Iteration 11, loss = 1.67575879\n",
      "Iteration 12, loss = 1.46627596\n",
      "Iteration 13, loss = 1.24462438\n",
      "Iteration 14, loss = 1.11017346\n",
      "Iteration 15, loss = 1.04377756\n",
      "Iteration 16, loss = 0.99122119\n",
      "Iteration 17, loss = 0.95124184\n",
      "Iteration 18, loss = 0.96080240\n",
      "Iteration 19, loss = 1.01249767\n",
      "Iteration 20, loss = 1.04478900\n",
      "Iteration 21, loss = 1.00992333\n",
      "Iteration 22, loss = 0.91262400\n",
      "Iteration 23, loss = 0.79889239\n",
      "Iteration 24, loss = 0.72260510\n",
      "Iteration 25, loss = 0.70775795\n",
      "Iteration 26, loss = 0.73805586\n",
      "Iteration 27, loss = 0.77908841\n",
      "Iteration 28, loss = 0.80144057\n",
      "Iteration 29, loss = 0.79131372\n",
      "Iteration 30, loss = 0.75301762\n",
      "Iteration 31, loss = 0.70584385\n",
      "Iteration 32, loss = 0.67209768\n",
      "Iteration 33, loss = 0.66184436\n",
      "Iteration 34, loss = 0.66765639\n",
      "Iteration 35, loss = 0.67468018\n",
      "Iteration 36, loss = 0.67431754\n",
      "Iteration 37, loss = 0.66801177\n",
      "Iteration 38, loss = 0.66055187\n",
      "Iteration 39, loss = 0.65252989\n",
      "Iteration 40, loss = 0.64088858\n",
      "Iteration 41, loss = 0.62512948\n",
      "Iteration 42, loss = 0.61057965\n",
      "Iteration 43, loss = 0.60303453\n",
      "Iteration 44, loss = 0.60381148\n",
      "Iteration 45, loss = 0.60786770\n",
      "Iteration 46, loss = 0.60830053\n",
      "Iteration 47, loss = 0.60178141\n",
      "Iteration 48, loss = 0.59002079\n",
      "Iteration 49, loss = 0.57801449\n",
      "Iteration 50, loss = 0.57014720\n",
      "Iteration 51, loss = 0.56755705\n",
      "Iteration 52, loss = 0.56788826\n",
      "Iteration 53, loss = 0.56696818\n",
      "Iteration 54, loss = 0.56277996\n",
      "Iteration 55, loss = 0.55622321\n",
      "Iteration 56, loss = 0.54924553\n",
      "Iteration 57, loss = 0.54315759\n",
      "Iteration 58, loss = 0.53804490\n",
      "Iteration 59, loss = 0.53376292\n",
      "Iteration 60, loss = 0.53012849\n",
      "Iteration 61, loss = 0.52704519\n",
      "Iteration 62, loss = 0.52404576\n",
      "Iteration 63, loss = 0.52055940\n",
      "Iteration 64, loss = 0.51633527\n",
      "Iteration 65, loss = 0.51155004\n",
      "Iteration 66, loss = 0.50690846\n",
      "Iteration 67, loss = 0.50305164\n",
      "Iteration 68, loss = 0.50007991\n",
      "Iteration 69, loss = 0.49734342\n",
      "Iteration 70, loss = 0.49416434\n",
      "Iteration 71, loss = 0.49027419\n",
      "Iteration 72, loss = 0.48609935\n",
      "Iteration 73, loss = 0.48214645\n",
      "Iteration 74, loss = 0.47870520\n",
      "Iteration 75, loss = 0.47552107\n",
      "Iteration 76, loss = 0.47240519\n",
      "Iteration 77, loss = 0.46913330\n",
      "Iteration 78, loss = 0.46580191\n",
      "Iteration 79, loss = 0.46240347\n",
      "Iteration 80, loss = 0.45909402\n",
      "Iteration 81, loss = 0.45584312\n",
      "Iteration 82, loss = 0.45257787\n",
      "Iteration 83, loss = 0.44929728\n",
      "Iteration 84, loss = 0.44612980\n",
      "Iteration 85, loss = 0.44290351\n",
      "Iteration 86, loss = 0.43993038\n",
      "Iteration 87, loss = 0.43677546\n",
      "Iteration 88, loss = 0.43352787\n",
      "Iteration 89, loss = 0.43044388\n",
      "Iteration 90, loss = 0.42739264\n",
      "Iteration 91, loss = 0.42433157\n",
      "Iteration 92, loss = 0.42111976\n",
      "Iteration 93, loss = 0.41803186\n",
      "Iteration 94, loss = 0.41512987\n",
      "Iteration 95, loss = 0.41225801\n",
      "Iteration 96, loss = 0.40929425\n",
      "Iteration 97, loss = 0.40631376\n",
      "Iteration 98, loss = 0.40334604\n",
      "Iteration 99, loss = 0.40051277\n",
      "Iteration 100, loss = 0.39762584\n",
      "Iteration 101, loss = 0.39470531\n",
      "Iteration 102, loss = 0.39179142\n",
      "Iteration 103, loss = 0.38877307\n",
      "Iteration 104, loss = 0.38567332\n",
      "Iteration 105, loss = 0.38331117\n",
      "Iteration 106, loss = 0.38003727\n",
      "Iteration 107, loss = 0.37717495\n",
      "Iteration 108, loss = 0.37447168\n",
      "Iteration 109, loss = 0.37172698\n",
      "Iteration 110, loss = 0.36893928\n",
      "Iteration 111, loss = 0.36619015\n",
      "Iteration 112, loss = 0.36334481\n",
      "Iteration 113, loss = 0.36046222\n",
      "Iteration 114, loss = 0.35789251\n",
      "Iteration 115, loss = 0.35514327\n",
      "Iteration 116, loss = 0.35229123\n",
      "Iteration 117, loss = 0.34955273\n",
      "Iteration 118, loss = 0.34678695\n",
      "Iteration 119, loss = 0.34384938\n",
      "Iteration 120, loss = 0.34091384\n",
      "Iteration 121, loss = 0.33812648\n",
      "Iteration 122, loss = 0.33524863\n",
      "Iteration 123, loss = 0.33211773\n",
      "Iteration 124, loss = 0.32884102\n",
      "Iteration 125, loss = 0.32580481\n",
      "Iteration 126, loss = 0.32285479\n",
      "Iteration 127, loss = 0.32004993\n",
      "Iteration 128, loss = 0.31731829\n",
      "Iteration 129, loss = 0.31466911\n",
      "Iteration 130, loss = 0.31217166\n",
      "Iteration 131, loss = 0.30963049\n",
      "Iteration 132, loss = 0.30674593\n",
      "Iteration 133, loss = 0.30400050\n",
      "Iteration 134, loss = 0.30138261\n",
      "Iteration 135, loss = 0.29886627\n",
      "Iteration 136, loss = 0.29634926\n",
      "Iteration 137, loss = 0.29377325\n",
      "Iteration 138, loss = 0.29136322\n",
      "Iteration 139, loss = 0.28892754\n",
      "Iteration 140, loss = 0.28648799\n",
      "Iteration 141, loss = 0.28421749\n",
      "Iteration 142, loss = 0.28201503\n",
      "Iteration 143, loss = 0.27980570\n",
      "Iteration 144, loss = 0.27752743\n",
      "Iteration 145, loss = 0.27529691\n",
      "Iteration 146, loss = 0.27309876\n",
      "Iteration 147, loss = 0.27109989\n",
      "Iteration 148, loss = 0.26902157\n",
      "Iteration 149, loss = 0.26694525\n",
      "Iteration 150, loss = 0.26496661\n",
      "Iteration 151, loss = 0.26302122\n",
      "Iteration 152, loss = 0.26111715\n",
      "Iteration 153, loss = 0.25920910\n",
      "Iteration 154, loss = 0.25735481\n",
      "Iteration 155, loss = 0.25547443\n",
      "Iteration 156, loss = 0.25367668\n",
      "Iteration 157, loss = 0.25189653\n",
      "Iteration 158, loss = 0.25015613\n",
      "Iteration 159, loss = 0.24844385\n",
      "Iteration 160, loss = 0.24673108\n",
      "Iteration 161, loss = 0.24506617\n",
      "Iteration 162, loss = 0.24336416\n",
      "Iteration 163, loss = 0.24173453\n",
      "Iteration 164, loss = 0.24007979\n",
      "Iteration 165, loss = 0.23844508\n",
      "Iteration 166, loss = 0.23701243\n",
      "Iteration 167, loss = 0.23530447\n",
      "Iteration 168, loss = 0.23374650\n",
      "Iteration 169, loss = 0.23223994\n",
      "Iteration 170, loss = 0.23072980\n",
      "Iteration 171, loss = 0.22918213\n",
      "Iteration 172, loss = 0.22749737\n",
      "Iteration 173, loss = 0.22595271\n",
      "Iteration 174, loss = 0.22451097\n",
      "Iteration 175, loss = 0.22304453\n",
      "Iteration 176, loss = 0.22157962\n",
      "Iteration 177, loss = 0.22019570\n",
      "Iteration 178, loss = 0.21875580\n",
      "Iteration 179, loss = 0.21734075\n",
      "Iteration 180, loss = 0.21596285\n",
      "Iteration 181, loss = 0.21460152\n",
      "Iteration 182, loss = 0.21323855\n",
      "Iteration 183, loss = 0.21192638\n",
      "Iteration 184, loss = 0.21055085\n",
      "Iteration 185, loss = 0.20921161\n",
      "Iteration 186, loss = 0.20790003\n",
      "Iteration 187, loss = 0.20665077\n",
      "Iteration 188, loss = 0.20535432\n",
      "Iteration 189, loss = 0.20409810\n",
      "Iteration 190, loss = 0.20286716\n",
      "Iteration 191, loss = 0.20168324\n",
      "Iteration 192, loss = 0.20038068\n",
      "Iteration 193, loss = 0.19928066\n",
      "Iteration 194, loss = 0.19801820\n",
      "Iteration 195, loss = 0.19690548\n",
      "Iteration 196, loss = 0.19570564\n",
      "Iteration 197, loss = 0.19447642\n",
      "Iteration 198, loss = 0.19344010\n",
      "Iteration 199, loss = 0.19230447\n",
      "Iteration 200, loss = 0.19125013\n"
     ]
    },
    {
     "name": "stderr",
     "output_type": "stream",
     "text": [
      "C:\\Anaconda\\lib\\site-packages\\sklearn\\neural_network\\_multilayer_perceptron.py:571: ConvergenceWarning: Stochastic Optimizer: Maximum iterations (200) reached and the optimization hasn't converged yet.\n",
      "  % self.max_iter, ConvergenceWarning)\n"
     ]
    },
    {
     "data": {
      "text/plain": [
       "MLPClassifier(activation='relu', alpha=0.0001, batch_size='auto', beta_1=0.9,\n",
       "              beta_2=0.999, early_stopping=False, epsilon=1e-08,\n",
       "              hidden_layer_sizes=200, learning_rate='constant',\n",
       "              learning_rate_init=0.001, max_fun=15000, max_iter=200,\n",
       "              momentum=0.9, n_iter_no_change=10, nesterovs_momentum=True,\n",
       "              power_t=0.5, random_state=None, shuffle=True, solver='adam',\n",
       "              tol=0.0001, validation_fraction=0.1, verbose=True,\n",
       "              warm_start=False)"
      ]
     },
     "execution_count": 14,
     "metadata": {},
     "output_type": "execute_result"
    }
   ],
   "source": [
    "clf.fit(X_train_1, y_train_1)"
   ]
  },
  {
   "cell_type": "code",
   "execution_count": 15,
   "metadata": {},
   "outputs": [
    {
     "name": "stdout",
     "output_type": "stream",
     "text": [
      "Accuracy=0.8888888888888888\n"
     ]
    }
   ],
   "source": [
    "acc1 = clf.score(X_test_1, y_test_1)\n",
    "print(\"Accuracy={}\".format(acc1))"
   ]
  },
  {
   "cell_type": "code",
   "execution_count": 16,
   "metadata": {},
   "outputs": [
    {
     "name": "stdout",
     "output_type": "stream",
     "text": [
      "Predicted values=[1 1 3 3 2 3 1 2 3 2 2 2 2 3 1 2 2 1]\n"
     ]
    }
   ],
   "source": [
    "y_pred_1 = clf.predict(X_test_1)\n",
    "print(\"Predicted values={}\".format(y_pred_1))"
   ]
  },
  {
   "cell_type": "code",
   "execution_count": 17,
   "metadata": {},
   "outputs": [
    {
     "data": {
      "text/plain": [
       "array([[4, 0, 0],\n",
       "       [1, 8, 1],\n",
       "       [0, 0, 4]], dtype=int64)"
      ]
     },
     "execution_count": 17,
     "metadata": {},
     "output_type": "execute_result"
    }
   ],
   "source": [
    "confusion_matrix(y_test_1, y_pred_1)"
   ]
  },
  {
   "cell_type": "raw",
   "metadata": {},
   "source": [
    "80% training data- 20% test data "
   ]
  },
  {
   "cell_type": "code",
   "execution_count": 18,
   "metadata": {},
   "outputs": [],
   "source": [
    "X_train_2, X_test_2, y_train_2, y_test_2 = train_test_split(X, y, train_size=0.8)\n",
    "clf = MLPClassifier(hidden_layer_sizes=200, max_iter=200, verbose=True)"
   ]
  },
  {
   "cell_type": "code",
   "execution_count": 19,
   "metadata": {},
   "outputs": [
    {
     "name": "stderr",
     "output_type": "stream",
     "text": [
      "C:\\Anaconda\\lib\\site-packages\\sklearn\\neural_network\\_multilayer_perceptron.py:934: DataConversionWarning: A column-vector y was passed when a 1d array was expected. Please change the shape of y to (n_samples, ), for example using ravel().\n",
      "  y = column_or_1d(y, warn=True)\n"
     ]
    },
    {
     "name": "stdout",
     "output_type": "stream",
     "text": [
      "Iteration 1, loss = 10.60217180\n",
      "Iteration 2, loss = 9.85556054\n",
      "Iteration 3, loss = 8.62534204\n",
      "Iteration 4, loss = 7.43633239\n",
      "Iteration 5, loss = 6.37143061\n",
      "Iteration 6, loss = 5.28267703\n",
      "Iteration 7, loss = 4.13188899\n",
      "Iteration 8, loss = 2.95640870\n",
      "Iteration 9, loss = 1.81477990\n",
      "Iteration 10, loss = 0.93862841\n",
      "Iteration 11, loss = 1.26712265\n",
      "Iteration 12, loss = 2.19902940\n",
      "Iteration 13, loss = 2.73801299\n",
      "Iteration 14, loss = 2.85871081\n",
      "Iteration 15, loss = 2.64283350\n",
      "Iteration 16, loss = 2.17105329\n",
      "Iteration 17, loss = 1.55096129\n",
      "Iteration 18, loss = 1.02082481\n",
      "Iteration 19, loss = 0.89620758\n",
      "Iteration 20, loss = 1.04631184\n",
      "Iteration 21, loss = 1.23351820\n",
      "Iteration 22, loss = 1.41059850\n",
      "Iteration 23, loss = 1.52520357\n",
      "Iteration 24, loss = 1.51290167\n",
      "Iteration 25, loss = 1.36339557\n",
      "Iteration 26, loss = 1.12519275\n",
      "Iteration 27, loss = 0.88445178\n",
      "Iteration 28, loss = 0.73628009\n",
      "Iteration 29, loss = 0.74000940\n",
      "Iteration 30, loss = 0.86294960\n",
      "Iteration 31, loss = 0.99151393\n",
      "Iteration 32, loss = 1.03546164\n",
      "Iteration 33, loss = 0.97734580\n",
      "Iteration 34, loss = 0.85722894\n",
      "Iteration 35, loss = 0.74217676\n",
      "Iteration 36, loss = 0.68287132\n",
      "Iteration 37, loss = 0.68628706\n",
      "Iteration 38, loss = 0.72878148\n",
      "Iteration 39, loss = 0.77472600\n",
      "Iteration 40, loss = 0.79010825\n",
      "Iteration 41, loss = 0.76076220\n",
      "Iteration 42, loss = 0.70046673\n",
      "Iteration 43, loss = 0.64197191\n",
      "Iteration 44, loss = 0.61428343\n",
      "Iteration 45, loss = 0.62442502\n",
      "Iteration 46, loss = 0.65389305\n",
      "Iteration 47, loss = 0.67027397\n",
      "Iteration 48, loss = 0.65983748\n",
      "Iteration 49, loss = 0.63044744\n",
      "Iteration 50, loss = 0.59935924\n",
      "Iteration 51, loss = 0.58117493\n",
      "Iteration 52, loss = 0.58039809\n",
      "Iteration 53, loss = 0.59014051\n",
      "Iteration 54, loss = 0.59766058\n",
      "Iteration 55, loss = 0.59323782\n",
      "Iteration 56, loss = 0.57678687\n",
      "Iteration 57, loss = 0.55678222\n",
      "Iteration 58, loss = 0.54382275\n",
      "Iteration 59, loss = 0.54177868\n",
      "Iteration 60, loss = 0.54568935\n",
      "Iteration 61, loss = 0.54756587\n",
      "Iteration 62, loss = 0.54259752\n",
      "Iteration 63, loss = 0.53181037\n",
      "Iteration 64, loss = 0.52060203\n",
      "Iteration 65, loss = 0.51386854\n",
      "Iteration 66, loss = 0.51244078\n",
      "Iteration 67, loss = 0.51311335\n",
      "Iteration 68, loss = 0.51170090\n",
      "Iteration 69, loss = 0.50639877\n",
      "Iteration 70, loss = 0.49882398\n",
      "Iteration 71, loss = 0.49214236\n",
      "Iteration 72, loss = 0.48829748\n",
      "Iteration 73, loss = 0.48681804\n",
      "Iteration 74, loss = 0.48554978\n",
      "Iteration 75, loss = 0.48263580\n",
      "Iteration 76, loss = 0.47792624\n",
      "Iteration 77, loss = 0.47276459\n",
      "Iteration 78, loss = 0.46868770\n",
      "Iteration 79, loss = 0.46613180\n",
      "Iteration 80, loss = 0.46422025\n",
      "Iteration 81, loss = 0.46169760\n",
      "Iteration 82, loss = 0.45811163\n",
      "Iteration 83, loss = 0.45406032\n",
      "Iteration 84, loss = 0.45033036\n",
      "Iteration 85, loss = 0.44733647\n",
      "Iteration 86, loss = 0.44488899\n",
      "Iteration 87, loss = 0.44238855\n",
      "Iteration 88, loss = 0.43925961\n",
      "Iteration 89, loss = 0.43550160\n",
      "Iteration 90, loss = 0.43191522\n",
      "Iteration 91, loss = 0.42907002\n",
      "Iteration 92, loss = 0.42670850\n",
      "Iteration 93, loss = 0.42428107\n",
      "Iteration 94, loss = 0.42143433\n",
      "Iteration 95, loss = 0.41832452\n",
      "Iteration 96, loss = 0.41536720\n",
      "Iteration 97, loss = 0.41276852\n",
      "Iteration 98, loss = 0.41035713\n",
      "Iteration 99, loss = 0.40783752\n",
      "Iteration 100, loss = 0.40511897\n",
      "Iteration 101, loss = 0.40238301\n",
      "Iteration 102, loss = 0.39983038\n",
      "Iteration 103, loss = 0.39743472\n",
      "Iteration 104, loss = 0.39502666\n",
      "Iteration 105, loss = 0.39252480\n",
      "Iteration 106, loss = 0.39001684\n",
      "Iteration 107, loss = 0.38760923\n",
      "Iteration 108, loss = 0.38528239\n",
      "Iteration 109, loss = 0.38294200\n",
      "Iteration 110, loss = 0.38057520\n",
      "Iteration 111, loss = 0.37825603\n",
      "Iteration 112, loss = 0.37601732\n",
      "Iteration 113, loss = 0.37379645\n",
      "Iteration 114, loss = 0.37153950\n",
      "Iteration 115, loss = 0.36928901\n",
      "Iteration 116, loss = 0.36711487\n",
      "Iteration 117, loss = 0.36504727\n",
      "Iteration 118, loss = 0.36290769\n",
      "Iteration 119, loss = 0.36066613\n",
      "Iteration 120, loss = 0.35845788\n",
      "Iteration 121, loss = 0.35626412\n",
      "Iteration 122, loss = 0.35389061\n",
      "Iteration 123, loss = 0.35165684\n",
      "Iteration 124, loss = 0.34966870\n",
      "Iteration 125, loss = 0.34764967\n",
      "Iteration 126, loss = 0.34560972\n",
      "Iteration 127, loss = 0.34349612\n",
      "Iteration 128, loss = 0.34156833\n",
      "Iteration 129, loss = 0.33946878\n",
      "Iteration 130, loss = 0.33742833\n",
      "Iteration 131, loss = 0.33530829\n",
      "Iteration 132, loss = 0.33316203\n",
      "Iteration 133, loss = 0.33106034\n",
      "Iteration 134, loss = 0.32897649\n",
      "Iteration 135, loss = 0.32686920\n",
      "Iteration 136, loss = 0.32470607\n",
      "Iteration 137, loss = 0.32271983\n",
      "Iteration 138, loss = 0.32070836\n",
      "Iteration 139, loss = 0.31876802\n",
      "Iteration 140, loss = 0.31679723\n",
      "Iteration 141, loss = 0.31477889\n",
      "Iteration 142, loss = 0.31278536\n",
      "Iteration 143, loss = 0.31078191\n",
      "Iteration 144, loss = 0.30879767\n",
      "Iteration 145, loss = 0.30690296\n",
      "Iteration 146, loss = 0.30500093\n",
      "Iteration 147, loss = 0.30308828\n",
      "Iteration 148, loss = 0.30117281\n",
      "Iteration 149, loss = 0.29931801\n",
      "Iteration 150, loss = 0.29744300\n",
      "Iteration 151, loss = 0.29559853\n",
      "Iteration 152, loss = 0.29378803\n",
      "Iteration 153, loss = 0.29199046\n",
      "Iteration 154, loss = 0.29020470\n",
      "Iteration 155, loss = 0.28845623\n",
      "Iteration 156, loss = 0.28663358\n",
      "Iteration 157, loss = 0.28481317\n",
      "Iteration 158, loss = 0.28312684\n",
      "Iteration 159, loss = 0.28138883\n",
      "Iteration 160, loss = 0.27968778\n",
      "Iteration 161, loss = 0.27800145\n",
      "Iteration 162, loss = 0.27630706\n",
      "Iteration 163, loss = 0.27466438\n",
      "Iteration 164, loss = 0.27303021\n",
      "Iteration 165, loss = 0.27142105\n",
      "Iteration 166, loss = 0.26979492\n",
      "Iteration 167, loss = 0.26819128\n",
      "Iteration 168, loss = 0.26662438\n",
      "Iteration 169, loss = 0.26507067\n",
      "Iteration 170, loss = 0.26351705\n",
      "Iteration 171, loss = 0.26202169\n",
      "Iteration 172, loss = 0.26049878\n",
      "Iteration 173, loss = 0.25898100\n",
      "Iteration 174, loss = 0.25751518\n",
      "Iteration 175, loss = 0.25604886\n",
      "Iteration 176, loss = 0.25459928\n",
      "Iteration 177, loss = 0.25318871\n",
      "Iteration 178, loss = 0.25176901\n",
      "Iteration 179, loss = 0.25036063\n",
      "Iteration 180, loss = 0.24898740\n",
      "Iteration 181, loss = 0.24760846\n",
      "Iteration 182, loss = 0.24626682\n",
      "Iteration 183, loss = 0.24492722\n",
      "Iteration 184, loss = 0.24361252\n",
      "Iteration 185, loss = 0.24231476\n",
      "Iteration 186, loss = 0.24102177\n",
      "Iteration 187, loss = 0.23974759\n",
      "Iteration 188, loss = 0.23849399\n",
      "Iteration 189, loss = 0.23725175\n",
      "Iteration 190, loss = 0.23601829\n",
      "Iteration 191, loss = 0.23481474\n",
      "Iteration 192, loss = 0.23361971\n",
      "Iteration 193, loss = 0.23243276\n",
      "Iteration 194, loss = 0.23126864\n",
      "Iteration 195, loss = 0.23012028\n",
      "Iteration 196, loss = 0.22897088\n",
      "Iteration 197, loss = 0.22784707\n",
      "Iteration 198, loss = 0.22674508\n",
      "Iteration 199, loss = 0.22564154\n",
      "Iteration 200, loss = 0.22456396\n"
     ]
    },
    {
     "name": "stderr",
     "output_type": "stream",
     "text": [
      "C:\\Anaconda\\lib\\site-packages\\sklearn\\neural_network\\_multilayer_perceptron.py:571: ConvergenceWarning: Stochastic Optimizer: Maximum iterations (200) reached and the optimization hasn't converged yet.\n",
      "  % self.max_iter, ConvergenceWarning)\n"
     ]
    },
    {
     "data": {
      "text/plain": [
       "MLPClassifier(activation='relu', alpha=0.0001, batch_size='auto', beta_1=0.9,\n",
       "              beta_2=0.999, early_stopping=False, epsilon=1e-08,\n",
       "              hidden_layer_sizes=200, learning_rate='constant',\n",
       "              learning_rate_init=0.001, max_fun=15000, max_iter=200,\n",
       "              momentum=0.9, n_iter_no_change=10, nesterovs_momentum=True,\n",
       "              power_t=0.5, random_state=None, shuffle=True, solver='adam',\n",
       "              tol=0.0001, validation_fraction=0.1, verbose=True,\n",
       "              warm_start=False)"
      ]
     },
     "execution_count": 19,
     "metadata": {},
     "output_type": "execute_result"
    }
   ],
   "source": [
    "clf.fit(X_train_2, y_train_2)"
   ]
  },
  {
   "cell_type": "code",
   "execution_count": 20,
   "metadata": {},
   "outputs": [
    {
     "name": "stdout",
     "output_type": "stream",
     "text": [
      "Accuracy=0.9166666666666666\n"
     ]
    }
   ],
   "source": [
    "acc2 = clf.score(X_test_2, y_test_2)\n",
    "print(\"Accuracy={}\".format(acc2))"
   ]
  },
  {
   "cell_type": "code",
   "execution_count": 21,
   "metadata": {},
   "outputs": [
    {
     "name": "stdout",
     "output_type": "stream",
     "text": [
      "Predicted values=[1 1 2 2 1 1 3 1 2 2 3 3 3 2 2 1 2 2 1 3 3 3 2 1 3 3 1 3 1 2 2 3 1 3 2 2]\n"
     ]
    }
   ],
   "source": [
    "y_pred_2 = clf.predict(X_test_2)\n",
    "print(\"Predicted values={}\".format(y_pred_2))"
   ]
  },
  {
   "cell_type": "code",
   "execution_count": 22,
   "metadata": {},
   "outputs": [
    {
     "data": {
      "text/plain": [
       "array([[11,  2,  0],\n",
       "       [ 0, 11,  1],\n",
       "       [ 0,  0, 11]], dtype=int64)"
      ]
     },
     "execution_count": 22,
     "metadata": {},
     "output_type": "execute_result"
    }
   ],
   "source": [
    "confusion_matrix(y_test_2, y_pred_2)"
   ]
  },
  {
   "cell_type": "raw",
   "metadata": {},
   "source": [
    "70% training data- 30% test data "
   ]
  },
  {
   "cell_type": "code",
   "execution_count": 23,
   "metadata": {},
   "outputs": [],
   "source": [
    "X_train_3, X_test_3, y_train_3, y_test_3 = train_test_split(X, y, train_size=0.7)\n",
    "clf = MLPClassifier(hidden_layer_sizes=200, max_iter=200, verbose=True)"
   ]
  },
  {
   "cell_type": "code",
   "execution_count": 24,
   "metadata": {},
   "outputs": [
    {
     "name": "stderr",
     "output_type": "stream",
     "text": [
      "C:\\Anaconda\\lib\\site-packages\\sklearn\\neural_network\\_multilayer_perceptron.py:934: DataConversionWarning: A column-vector y was passed when a 1d array was expected. Please change the shape of y to (n_samples, ), for example using ravel().\n",
      "  y = column_or_1d(y, warn=True)\n"
     ]
    },
    {
     "name": "stdout",
     "output_type": "stream",
     "text": [
      "Iteration 1, loss = 7.79938268\n",
      "Iteration 2, loss = 5.64260556\n",
      "Iteration 3, loss = 4.80684291\n",
      "Iteration 4, loss = 4.12190902\n",
      "Iteration 5, loss = 3.05480625\n",
      "Iteration 6, loss = 1.89715522\n",
      "Iteration 7, loss = 1.44144094\n",
      "Iteration 8, loss = 2.06271600\n",
      "Iteration 9, loss = 2.48487966\n",
      "Iteration 10, loss = 2.49348080\n",
      "Iteration 11, loss = 2.26542832\n",
      "Iteration 12, loss = 2.10744729\n",
      "Iteration 13, loss = 2.17990214\n",
      "Iteration 14, loss = 2.21079688\n",
      "Iteration 15, loss = 2.02953773\n",
      "Iteration 16, loss = 1.68470733\n",
      "Iteration 17, loss = 1.34932674\n",
      "Iteration 18, loss = 1.22726142\n",
      "Iteration 19, loss = 1.34039672\n",
      "Iteration 20, loss = 1.53116632\n",
      "Iteration 21, loss = 1.65031534\n",
      "Iteration 22, loss = 1.63602265\n",
      "Iteration 23, loss = 1.50892428\n",
      "Iteration 24, loss = 1.33531629\n",
      "Iteration 25, loss = 1.18851085\n",
      "Iteration 26, loss = 1.12542063\n",
      "Iteration 27, loss = 1.16681897\n",
      "Iteration 28, loss = 1.25714355\n",
      "Iteration 29, loss = 1.30338703\n",
      "Iteration 30, loss = 1.26555391\n",
      "Iteration 31, loss = 1.17524445\n",
      "Iteration 32, loss = 1.09400408\n",
      "Iteration 33, loss = 1.05543266\n",
      "Iteration 34, loss = 1.05140778\n",
      "Iteration 35, loss = 1.06490902\n",
      "Iteration 36, loss = 1.07935067\n",
      "Iteration 37, loss = 1.07339431\n",
      "Iteration 38, loss = 1.03742957\n",
      "Iteration 39, loss = 0.98898915\n",
      "Iteration 40, loss = 0.95748379\n",
      "Iteration 41, loss = 0.95213700\n",
      "Iteration 42, loss = 0.95682078\n",
      "Iteration 43, loss = 0.95513511\n",
      "Iteration 44, loss = 0.94465289\n",
      "Iteration 45, loss = 0.92882704\n",
      "Iteration 46, loss = 0.90856373\n",
      "Iteration 47, loss = 0.88614076\n",
      "Iteration 48, loss = 0.86927545\n",
      "Iteration 49, loss = 0.86358716\n",
      "Iteration 50, loss = 0.86392340\n",
      "Iteration 51, loss = 0.85943049\n",
      "Iteration 52, loss = 0.84548532\n",
      "Iteration 53, loss = 0.82680840\n",
      "Iteration 54, loss = 0.81118317\n",
      "Iteration 55, loss = 0.80264987\n",
      "Iteration 56, loss = 0.79941525\n",
      "Iteration 57, loss = 0.79590222\n",
      "Iteration 58, loss = 0.78736823\n",
      "Iteration 59, loss = 0.77395854\n",
      "Iteration 60, loss = 0.76028942\n",
      "Iteration 61, loss = 0.75081731\n",
      "Iteration 62, loss = 0.74576075\n",
      "Iteration 63, loss = 0.74153200\n",
      "Iteration 64, loss = 0.73460060\n",
      "Iteration 65, loss = 0.72466128\n",
      "Iteration 66, loss = 0.71431712\n",
      "Iteration 67, loss = 0.70611579\n",
      "Iteration 68, loss = 0.70020567\n",
      "Iteration 69, loss = 0.69481271\n",
      "Iteration 70, loss = 0.68839216\n",
      "Iteration 71, loss = 0.68087193\n",
      "Iteration 72, loss = 0.67314760\n",
      "Iteration 73, loss = 0.66602515\n",
      "Iteration 74, loss = 0.65972053\n",
      "Iteration 75, loss = 0.65394338\n",
      "Iteration 76, loss = 0.64821298\n",
      "Iteration 77, loss = 0.64220423\n",
      "Iteration 78, loss = 0.63593346\n",
      "Iteration 79, loss = 0.62966977\n",
      "Iteration 80, loss = 0.62371082\n",
      "Iteration 81, loss = 0.61819843\n",
      "Iteration 82, loss = 0.61302271\n",
      "Iteration 83, loss = 0.60787594\n",
      "Iteration 84, loss = 0.60250692\n",
      "Iteration 85, loss = 0.59696847\n",
      "Iteration 86, loss = 0.59157393\n",
      "Iteration 87, loss = 0.58655459\n",
      "Iteration 88, loss = 0.58185125\n",
      "Iteration 89, loss = 0.57697764\n",
      "Iteration 90, loss = 0.57154825\n",
      "Iteration 91, loss = 0.56615010\n",
      "Iteration 92, loss = 0.56069113\n",
      "Iteration 93, loss = 0.55590876\n",
      "Iteration 94, loss = 0.55173224\n",
      "Iteration 95, loss = 0.54742265\n",
      "Iteration 96, loss = 0.54294416\n",
      "Iteration 97, loss = 0.53845874\n",
      "Iteration 98, loss = 0.53400732\n",
      "Iteration 99, loss = 0.52957436\n",
      "Iteration 100, loss = 0.52523197\n",
      "Iteration 101, loss = 0.52103824\n",
      "Iteration 102, loss = 0.51698309\n",
      "Iteration 103, loss = 0.51296950\n",
      "Iteration 104, loss = 0.50897921\n",
      "Iteration 105, loss = 0.50513317\n",
      "Iteration 106, loss = 0.50138337\n",
      "Iteration 107, loss = 0.49764487\n",
      "Iteration 108, loss = 0.49389522\n",
      "Iteration 109, loss = 0.49013427\n",
      "Iteration 110, loss = 0.48645204\n",
      "Iteration 111, loss = 0.48293147\n",
      "Iteration 112, loss = 0.47948800\n",
      "Iteration 113, loss = 0.47603119\n",
      "Iteration 114, loss = 0.47257684\n",
      "Iteration 115, loss = 0.46915111\n",
      "Iteration 116, loss = 0.46575359\n",
      "Iteration 117, loss = 0.46239936\n",
      "Iteration 118, loss = 0.45916821\n",
      "Iteration 119, loss = 0.45595067\n",
      "Iteration 120, loss = 0.45255461\n",
      "Iteration 121, loss = 0.44932536\n",
      "Iteration 122, loss = 0.44604990\n",
      "Iteration 123, loss = 0.44279436\n",
      "Iteration 124, loss = 0.43956894\n",
      "Iteration 125, loss = 0.43648068\n",
      "Iteration 126, loss = 0.43326176\n",
      "Iteration 127, loss = 0.43008875\n",
      "Iteration 128, loss = 0.42694068\n",
      "Iteration 129, loss = 0.42378083\n",
      "Iteration 130, loss = 0.42068756\n",
      "Iteration 131, loss = 0.41757990\n",
      "Iteration 132, loss = 0.41443433\n",
      "Iteration 133, loss = 0.41129047\n",
      "Iteration 134, loss = 0.40819396\n",
      "Iteration 135, loss = 0.40510524\n",
      "Iteration 136, loss = 0.40202315\n",
      "Iteration 137, loss = 0.39891807\n",
      "Iteration 138, loss = 0.39576280\n",
      "Iteration 139, loss = 0.39262691\n",
      "Iteration 140, loss = 0.38912826\n",
      "Iteration 141, loss = 0.38565921\n",
      "Iteration 142, loss = 0.38258594\n",
      "Iteration 143, loss = 0.37949492\n",
      "Iteration 144, loss = 0.37629586\n",
      "Iteration 145, loss = 0.37314943\n",
      "Iteration 146, loss = 0.37001247\n",
      "Iteration 147, loss = 0.36690246\n",
      "Iteration 148, loss = 0.36375905\n",
      "Iteration 149, loss = 0.36054891\n",
      "Iteration 150, loss = 0.35750427\n",
      "Iteration 151, loss = 0.35439141\n",
      "Iteration 152, loss = 0.35136062\n",
      "Iteration 153, loss = 0.34825812\n",
      "Iteration 154, loss = 0.34512928\n",
      "Iteration 155, loss = 0.34190184\n",
      "Iteration 156, loss = 0.33871015\n",
      "Iteration 157, loss = 0.33565062\n",
      "Iteration 158, loss = 0.33267768\n",
      "Iteration 159, loss = 0.32966318\n",
      "Iteration 160, loss = 0.32648771\n",
      "Iteration 161, loss = 0.32324148\n",
      "Iteration 162, loss = 0.32006188\n",
      "Iteration 163, loss = 0.31710786\n",
      "Iteration 164, loss = 0.31418959\n",
      "Iteration 165, loss = 0.31119167\n",
      "Iteration 166, loss = 0.30814530\n",
      "Iteration 167, loss = 0.30514355\n",
      "Iteration 168, loss = 0.30206657\n",
      "Iteration 169, loss = 0.29915653\n",
      "Iteration 170, loss = 0.29629314\n",
      "Iteration 171, loss = 0.29332349\n",
      "Iteration 172, loss = 0.29013051\n",
      "Iteration 173, loss = 0.28719582\n",
      "Iteration 174, loss = 0.28432471\n",
      "Iteration 175, loss = 0.28156715\n",
      "Iteration 176, loss = 0.27877029\n",
      "Iteration 177, loss = 0.27597917\n",
      "Iteration 178, loss = 0.27323837\n",
      "Iteration 179, loss = 0.27052206\n",
      "Iteration 180, loss = 0.26786724\n",
      "Iteration 181, loss = 0.26526186\n",
      "Iteration 182, loss = 0.26265967\n",
      "Iteration 183, loss = 0.26014263\n",
      "Iteration 184, loss = 0.25763372\n",
      "Iteration 185, loss = 0.25518505\n",
      "Iteration 186, loss = 0.25280143\n",
      "Iteration 187, loss = 0.25041254\n",
      "Iteration 188, loss = 0.24813794\n",
      "Iteration 189, loss = 0.24582792\n",
      "Iteration 190, loss = 0.24361777\n",
      "Iteration 191, loss = 0.24145488\n",
      "Iteration 192, loss = 0.23930401\n",
      "Iteration 193, loss = 0.23722397\n",
      "Iteration 194, loss = 0.23520781\n",
      "Iteration 195, loss = 0.23322323\n",
      "Iteration 196, loss = 0.23126439\n",
      "Iteration 197, loss = 0.22942140\n",
      "Iteration 198, loss = 0.22752257\n",
      "Iteration 199, loss = 0.22569598\n",
      "Iteration 200, loss = 0.22394946\n"
     ]
    },
    {
     "name": "stderr",
     "output_type": "stream",
     "text": [
      "C:\\Anaconda\\lib\\site-packages\\sklearn\\neural_network\\_multilayer_perceptron.py:571: ConvergenceWarning: Stochastic Optimizer: Maximum iterations (200) reached and the optimization hasn't converged yet.\n",
      "  % self.max_iter, ConvergenceWarning)\n"
     ]
    },
    {
     "data": {
      "text/plain": [
       "MLPClassifier(activation='relu', alpha=0.0001, batch_size='auto', beta_1=0.9,\n",
       "              beta_2=0.999, early_stopping=False, epsilon=1e-08,\n",
       "              hidden_layer_sizes=200, learning_rate='constant',\n",
       "              learning_rate_init=0.001, max_fun=15000, max_iter=200,\n",
       "              momentum=0.9, n_iter_no_change=10, nesterovs_momentum=True,\n",
       "              power_t=0.5, random_state=None, shuffle=True, solver='adam',\n",
       "              tol=0.0001, validation_fraction=0.1, verbose=True,\n",
       "              warm_start=False)"
      ]
     },
     "execution_count": 24,
     "metadata": {},
     "output_type": "execute_result"
    }
   ],
   "source": [
    "clf.fit(X_train_3, y_train_3)"
   ]
  },
  {
   "cell_type": "code",
   "execution_count": 25,
   "metadata": {},
   "outputs": [
    {
     "name": "stdout",
     "output_type": "stream",
     "text": [
      "Accuracy=0.9074074074074074\n"
     ]
    }
   ],
   "source": [
    "acc3 = clf.score(X_test_3, y_test_3)\n",
    "print(\"Accuracy={}\".format(acc3))"
   ]
  },
  {
   "cell_type": "code",
   "execution_count": 26,
   "metadata": {},
   "outputs": [
    {
     "name": "stdout",
     "output_type": "stream",
     "text": [
      "Predicted values=[2 3 3 1 1 2 1 3 1 3 2 2 1 1 2 1 1 2 1 3 2 2 3 2 2 3 3 2 1 3 1 2 3 3 1 2 1\n",
      " 2 2 1 1 1 1 3 1 3 1 2 3 3 3 2 2 2]\n"
     ]
    }
   ],
   "source": [
    "y_pred_3 = clf.predict(X_test_3)\n",
    "print(\"Predicted values={}\".format(y_pred_3))"
   ]
  },
  {
   "cell_type": "code",
   "execution_count": 27,
   "metadata": {},
   "outputs": [
    {
     "data": {
      "text/plain": [
       "array([[17,  1,  0],\n",
       "       [ 2, 18,  2],\n",
       "       [ 0,  0, 14]], dtype=int64)"
      ]
     },
     "execution_count": 27,
     "metadata": {},
     "output_type": "execute_result"
    }
   ],
   "source": [
    "confusion_matrix(y_test_3, y_pred_3)"
   ]
  },
  {
   "cell_type": "raw",
   "metadata": {},
   "source": [
    "60% training data- 40% test data "
   ]
  },
  {
   "cell_type": "code",
   "execution_count": 28,
   "metadata": {},
   "outputs": [],
   "source": [
    "X_train_4, X_test_4, y_train_4, y_test_4 = train_test_split(X, y, train_size=0.6)\n",
    "clf = MLPClassifier(hidden_layer_sizes=200, max_iter=200, verbose=True)"
   ]
  },
  {
   "cell_type": "code",
   "execution_count": 29,
   "metadata": {},
   "outputs": [
    {
     "name": "stderr",
     "output_type": "stream",
     "text": [
      "C:\\Anaconda\\lib\\site-packages\\sklearn\\neural_network\\_multilayer_perceptron.py:934: DataConversionWarning: A column-vector y was passed when a 1d array was expected. Please change the shape of y to (n_samples, ), for example using ravel().\n",
      "  y = column_or_1d(y, warn=True)\n"
     ]
    },
    {
     "name": "stdout",
     "output_type": "stream",
     "text": [
      "Iteration 1, loss = 1.55100633\n",
      "Iteration 2, loss = 1.46455350\n",
      "Iteration 3, loss = 1.50288428\n",
      "Iteration 4, loss = 1.37520694\n",
      "Iteration 5, loss = 1.23167150\n",
      "Iteration 6, loss = 1.21375932\n",
      "Iteration 7, loss = 1.26091987\n",
      "Iteration 8, loss = 1.18417892\n",
      "Iteration 9, loss = 1.09406891\n",
      "Iteration 10, loss = 1.07070596\n",
      "Iteration 11, loss = 1.08115336\n",
      "Iteration 12, loss = 1.05659482\n",
      "Iteration 13, loss = 0.99460096\n",
      "Iteration 14, loss = 0.93871753\n",
      "Iteration 15, loss = 0.91307694\n",
      "Iteration 16, loss = 0.91289302\n",
      "Iteration 17, loss = 0.88788584\n",
      "Iteration 18, loss = 0.83673766\n",
      "Iteration 19, loss = 0.80637698\n",
      "Iteration 20, loss = 0.79966485\n",
      "Iteration 21, loss = 0.78867269\n",
      "Iteration 22, loss = 0.76266148\n",
      "Iteration 23, loss = 0.73144350\n",
      "Iteration 24, loss = 0.71163218\n",
      "Iteration 25, loss = 0.70579869\n",
      "Iteration 26, loss = 0.69533639\n",
      "Iteration 27, loss = 0.67304640\n",
      "Iteration 28, loss = 0.65268714\n",
      "Iteration 29, loss = 0.64295475\n",
      "Iteration 30, loss = 0.63630490\n",
      "Iteration 31, loss = 0.62294174\n",
      "Iteration 32, loss = 0.60599719\n",
      "Iteration 33, loss = 0.59313240\n",
      "Iteration 34, loss = 0.58530040\n",
      "Iteration 35, loss = 0.57733888\n",
      "Iteration 36, loss = 0.56531550\n",
      "Iteration 37, loss = 0.55263757\n",
      "Iteration 38, loss = 0.54395931\n",
      "Iteration 39, loss = 0.53751620\n",
      "Iteration 40, loss = 0.52910528\n",
      "Iteration 41, loss = 0.51873375\n",
      "Iteration 42, loss = 0.50966175\n",
      "Iteration 43, loss = 0.50301112\n",
      "Iteration 44, loss = 0.49671278\n",
      "Iteration 45, loss = 0.48896224\n",
      "Iteration 46, loss = 0.48069112\n",
      "Iteration 47, loss = 0.47380725\n",
      "Iteration 48, loss = 0.46818203\n",
      "Iteration 49, loss = 0.46209278\n",
      "Iteration 50, loss = 0.45516576\n",
      "Iteration 51, loss = 0.44867501\n",
      "Iteration 52, loss = 0.44315465\n",
      "Iteration 53, loss = 0.43803614\n",
      "Iteration 54, loss = 0.43254450\n",
      "Iteration 55, loss = 0.42678382\n",
      "Iteration 56, loss = 0.42155925\n",
      "Iteration 57, loss = 0.41695074\n",
      "Iteration 58, loss = 0.41232286\n",
      "Iteration 59, loss = 0.40752832\n",
      "Iteration 60, loss = 0.40283185\n",
      "Iteration 61, loss = 0.39851384\n",
      "Iteration 62, loss = 0.39453901\n",
      "Iteration 63, loss = 0.39033794\n",
      "Iteration 64, loss = 0.38553863\n",
      "Iteration 65, loss = 0.38063877\n",
      "Iteration 66, loss = 0.37588416\n",
      "Iteration 67, loss = 0.37147129\n",
      "Iteration 68, loss = 0.36785290\n",
      "Iteration 69, loss = 0.36448246\n",
      "Iteration 70, loss = 0.36123293\n",
      "Iteration 71, loss = 0.35801761\n",
      "Iteration 72, loss = 0.35476938\n",
      "Iteration 73, loss = 0.35141261\n",
      "Iteration 74, loss = 0.34798794\n",
      "Iteration 75, loss = 0.34465379\n",
      "Iteration 76, loss = 0.34144934\n",
      "Iteration 77, loss = 0.33834903\n",
      "Iteration 78, loss = 0.33510975\n",
      "Iteration 79, loss = 0.33179111\n",
      "Iteration 80, loss = 0.32861849\n",
      "Iteration 81, loss = 0.32549538\n",
      "Iteration 82, loss = 0.32218474\n",
      "Iteration 83, loss = 0.31877069\n",
      "Iteration 84, loss = 0.31572053\n",
      "Iteration 85, loss = 0.31313449\n",
      "Iteration 86, loss = 0.31044006\n",
      "Iteration 87, loss = 0.30770898\n",
      "Iteration 88, loss = 0.30497079\n",
      "Iteration 89, loss = 0.30247042\n",
      "Iteration 90, loss = 0.30009602\n",
      "Iteration 91, loss = 0.29775976\n",
      "Iteration 92, loss = 0.29538965\n",
      "Iteration 93, loss = 0.29294193\n",
      "Iteration 94, loss = 0.29061179\n",
      "Iteration 95, loss = 0.28830837\n",
      "Iteration 96, loss = 0.28596836\n",
      "Iteration 97, loss = 0.28365381\n",
      "Iteration 98, loss = 0.28144732\n",
      "Iteration 99, loss = 0.27940016\n",
      "Iteration 100, loss = 0.27735162\n",
      "Iteration 101, loss = 0.27528364\n",
      "Iteration 102, loss = 0.27319732\n",
      "Iteration 103, loss = 0.27113721\n",
      "Iteration 104, loss = 0.26913261\n",
      "Iteration 105, loss = 0.26718693\n",
      "Iteration 106, loss = 0.26526481\n",
      "Iteration 107, loss = 0.26335787\n",
      "Iteration 108, loss = 0.26150426\n",
      "Iteration 109, loss = 0.25966565\n",
      "Iteration 110, loss = 0.25783820\n",
      "Iteration 111, loss = 0.25608138\n",
      "Iteration 112, loss = 0.25433389\n",
      "Iteration 113, loss = 0.25260188\n",
      "Iteration 114, loss = 0.25091171\n",
      "Iteration 115, loss = 0.24924895\n",
      "Iteration 116, loss = 0.24760548\n",
      "Iteration 117, loss = 0.24596352\n",
      "Iteration 118, loss = 0.24437662\n",
      "Iteration 119, loss = 0.24283715\n",
      "Iteration 120, loss = 0.24125357\n",
      "Iteration 121, loss = 0.23967948\n",
      "Iteration 122, loss = 0.23814303\n",
      "Iteration 123, loss = 0.23663187\n",
      "Iteration 124, loss = 0.23509422\n",
      "Iteration 125, loss = 0.23383573\n",
      "Iteration 126, loss = 0.23214566\n",
      "Iteration 127, loss = 0.23073468\n",
      "Iteration 128, loss = 0.22936887\n",
      "Iteration 129, loss = 0.22798923\n",
      "Iteration 130, loss = 0.22658554\n",
      "Iteration 131, loss = 0.22518589\n",
      "Iteration 132, loss = 0.22382853\n",
      "Iteration 133, loss = 0.22248128\n",
      "Iteration 134, loss = 0.22116731\n",
      "Iteration 135, loss = 0.21985567\n",
      "Iteration 136, loss = 0.21855539\n",
      "Iteration 137, loss = 0.21726915\n",
      "Iteration 138, loss = 0.21600650\n",
      "Iteration 139, loss = 0.21476266\n",
      "Iteration 140, loss = 0.21352271\n",
      "Iteration 141, loss = 0.21229418\n",
      "Iteration 142, loss = 0.21106745\n",
      "Iteration 143, loss = 0.20986563\n",
      "Iteration 144, loss = 0.20869607\n",
      "Iteration 145, loss = 0.20750631\n",
      "Iteration 146, loss = 0.20630135\n",
      "Iteration 147, loss = 0.20522851\n",
      "Iteration 148, loss = 0.20398067\n",
      "Iteration 149, loss = 0.20283932\n",
      "Iteration 150, loss = 0.20173469\n",
      "Iteration 151, loss = 0.20062719\n",
      "Iteration 152, loss = 0.19949547\n",
      "Iteration 153, loss = 0.19836901\n",
      "Iteration 154, loss = 0.19724742\n",
      "Iteration 155, loss = 0.19623625\n",
      "Iteration 156, loss = 0.19515833\n",
      "Iteration 157, loss = 0.19404661\n",
      "Iteration 158, loss = 0.19297337\n",
      "Iteration 159, loss = 0.19192445\n",
      "Iteration 160, loss = 0.19089126\n",
      "Iteration 161, loss = 0.18981455\n",
      "Iteration 162, loss = 0.18880402\n",
      "Iteration 163, loss = 0.18779580\n",
      "Iteration 164, loss = 0.18678546\n",
      "Iteration 165, loss = 0.18580755\n",
      "Iteration 166, loss = 0.18481360\n",
      "Iteration 167, loss = 0.18381485\n",
      "Iteration 168, loss = 0.18286987\n",
      "Iteration 169, loss = 0.18187401\n",
      "Iteration 170, loss = 0.18091266\n",
      "Iteration 171, loss = 0.17995514\n",
      "Iteration 172, loss = 0.17899589\n",
      "Iteration 173, loss = 0.17807382\n",
      "Iteration 174, loss = 0.17711823\n",
      "Iteration 175, loss = 0.17616786\n",
      "Iteration 176, loss = 0.17529557\n",
      "Iteration 177, loss = 0.17435553\n",
      "Iteration 178, loss = 0.17343371\n",
      "Iteration 179, loss = 0.17256629\n",
      "Iteration 180, loss = 0.17167225\n",
      "Iteration 181, loss = 0.17076600\n",
      "Iteration 182, loss = 0.16991281\n",
      "Iteration 183, loss = 0.16904358\n",
      "Iteration 184, loss = 0.16816765\n",
      "Iteration 185, loss = 0.16733576\n",
      "Iteration 186, loss = 0.16646419\n",
      "Iteration 187, loss = 0.16564798\n",
      "Iteration 188, loss = 0.16483446\n",
      "Iteration 189, loss = 0.16396826\n",
      "Iteration 190, loss = 0.16319714\n",
      "Iteration 191, loss = 0.16226581\n",
      "Iteration 192, loss = 0.16141915\n",
      "Iteration 193, loss = 0.16060756\n",
      "Iteration 194, loss = 0.15976043\n",
      "Iteration 195, loss = 0.15895837\n",
      "Iteration 196, loss = 0.15813183\n",
      "Iteration 197, loss = 0.15730312\n",
      "Iteration 198, loss = 0.15646363\n",
      "Iteration 199, loss = 0.15569757\n",
      "Iteration 200, loss = 0.15488510\n"
     ]
    },
    {
     "name": "stderr",
     "output_type": "stream",
     "text": [
      "C:\\Anaconda\\lib\\site-packages\\sklearn\\neural_network\\_multilayer_perceptron.py:571: ConvergenceWarning: Stochastic Optimizer: Maximum iterations (200) reached and the optimization hasn't converged yet.\n",
      "  % self.max_iter, ConvergenceWarning)\n"
     ]
    },
    {
     "data": {
      "text/plain": [
       "MLPClassifier(activation='relu', alpha=0.0001, batch_size='auto', beta_1=0.9,\n",
       "              beta_2=0.999, early_stopping=False, epsilon=1e-08,\n",
       "              hidden_layer_sizes=200, learning_rate='constant',\n",
       "              learning_rate_init=0.001, max_fun=15000, max_iter=200,\n",
       "              momentum=0.9, n_iter_no_change=10, nesterovs_momentum=True,\n",
       "              power_t=0.5, random_state=None, shuffle=True, solver='adam',\n",
       "              tol=0.0001, validation_fraction=0.1, verbose=True,\n",
       "              warm_start=False)"
      ]
     },
     "execution_count": 29,
     "metadata": {},
     "output_type": "execute_result"
    }
   ],
   "source": [
    "clf.fit(X_train_4, y_train_4)"
   ]
  },
  {
   "cell_type": "code",
   "execution_count": 30,
   "metadata": {},
   "outputs": [
    {
     "name": "stdout",
     "output_type": "stream",
     "text": [
      "Accuracy=0.9305555555555556\n"
     ]
    }
   ],
   "source": [
    "acc4 = clf.score(X_test_4, y_test_4)\n",
    "print(\"Accuracy={}\".format(acc4))"
   ]
  },
  {
   "cell_type": "code",
   "execution_count": 31,
   "metadata": {},
   "outputs": [
    {
     "name": "stdout",
     "output_type": "stream",
     "text": [
      "Predicted values=[1 1 3 3 3 1 1 3 3 2 1 2 3 3 2 3 1 2 2 1 3 1 2 2 2 3 3 2 2 2 2 2 3 3 2 3 2\n",
      " 2 3 3 3 3 2 3 1 1 1 3 2 2 3 2 3 1 2 1 1 1 1 2 3 3 1 3 2 3 1 1 3 2 2 2]\n"
     ]
    }
   ],
   "source": [
    "y_pred_4 = clf.predict(X_test_4)\n",
    "print(\"Predicted values={}\".format(y_pred_4))"
   ]
  },
  {
   "cell_type": "code",
   "execution_count": 32,
   "metadata": {},
   "outputs": [
    {
     "data": {
      "text/plain": [
       "array([[18,  2,  0],\n",
       "       [ 1, 23,  1],\n",
       "       [ 0,  1, 26]], dtype=int64)"
      ]
     },
     "execution_count": 32,
     "metadata": {},
     "output_type": "execute_result"
    }
   ],
   "source": [
    "confusion_matrix(y_test_4, y_pred_4)"
   ]
  },
  {
   "cell_type": "raw",
   "metadata": {},
   "source": [
    "50% training data- 50% test data "
   ]
  },
  {
   "cell_type": "code",
   "execution_count": 33,
   "metadata": {},
   "outputs": [],
   "source": [
    "X_train_5, X_test_5, y_train_5, y_test_5 = train_test_split(X, y, train_size=0.5)\n",
    "clf = MLPClassifier(hidden_layer_sizes=200, max_iter=200, verbose=True)"
   ]
  },
  {
   "cell_type": "code",
   "execution_count": 34,
   "metadata": {},
   "outputs": [
    {
     "name": "stderr",
     "output_type": "stream",
     "text": [
      "C:\\Anaconda\\lib\\site-packages\\sklearn\\neural_network\\_multilayer_perceptron.py:934: DataConversionWarning: A column-vector y was passed when a 1d array was expected. Please change the shape of y to (n_samples, ), for example using ravel().\n",
      "  y = column_or_1d(y, warn=True)\n"
     ]
    },
    {
     "name": "stdout",
     "output_type": "stream",
     "text": [
      "Iteration 1, loss = 4.90817533\n",
      "Iteration 2, loss = 2.85927875\n",
      "Iteration 3, loss = 2.18190856\n",
      "Iteration 4, loss = 1.34060964\n",
      "Iteration 5, loss = 1.11290029\n",
      "Iteration 6, loss = 1.72455335\n",
      "Iteration 7, loss = 1.98142519\n",
      "Iteration 8, loss = 1.77887101\n",
      "Iteration 9, loss = 1.31047998\n",
      "Iteration 10, loss = 0.86956589\n",
      "Iteration 11, loss = 0.77188281\n",
      "Iteration 12, loss = 0.97875283\n",
      "Iteration 13, loss = 1.19205654\n",
      "Iteration 14, loss = 1.27242852\n",
      "Iteration 15, loss = 1.21043576\n",
      "Iteration 16, loss = 1.04206511\n",
      "Iteration 17, loss = 0.83837660\n",
      "Iteration 18, loss = 0.70930929\n",
      "Iteration 19, loss = 0.73212604\n",
      "Iteration 20, loss = 0.84864241\n",
      "Iteration 21, loss = 0.93184306\n",
      "Iteration 22, loss = 0.91334391\n",
      "Iteration 23, loss = 0.81183165\n",
      "Iteration 24, loss = 0.70085944\n",
      "Iteration 25, loss = 0.65205663\n",
      "Iteration 26, loss = 0.67741119\n",
      "Iteration 27, loss = 0.72977361\n",
      "Iteration 28, loss = 0.75716660\n",
      "Iteration 29, loss = 0.73852298\n",
      "Iteration 30, loss = 0.68533275\n",
      "Iteration 31, loss = 0.63036521\n",
      "Iteration 32, loss = 0.60628104\n",
      "Iteration 33, loss = 0.61891139\n",
      "Iteration 34, loss = 0.64367526\n",
      "Iteration 35, loss = 0.65092321\n",
      "Iteration 36, loss = 0.63122727\n",
      "Iteration 37, loss = 0.59865610\n",
      "Iteration 38, loss = 0.57478568\n",
      "Iteration 39, loss = 0.56973748\n",
      "Iteration 40, loss = 0.57682576\n",
      "Iteration 41, loss = 0.58248287\n",
      "Iteration 42, loss = 0.57778636\n",
      "Iteration 43, loss = 0.56301649\n",
      "Iteration 44, loss = 0.54597403\n",
      "Iteration 45, loss = 0.53544744\n",
      "Iteration 46, loss = 0.53378368\n",
      "Iteration 47, loss = 0.53565476\n",
      "Iteration 48, loss = 0.53411499\n",
      "Iteration 49, loss = 0.52686463\n",
      "Iteration 50, loss = 0.51691653\n",
      "Iteration 51, loss = 0.50855995\n",
      "Iteration 52, loss = 0.50365334\n",
      "Iteration 53, loss = 0.50124921\n",
      "Iteration 54, loss = 0.49918295\n",
      "Iteration 55, loss = 0.49558976\n",
      "Iteration 56, loss = 0.48996615\n",
      "Iteration 57, loss = 0.48355810\n",
      "Iteration 58, loss = 0.47810973\n",
      "Iteration 59, loss = 0.47442639\n",
      "Iteration 60, loss = 0.47193923\n",
      "Iteration 61, loss = 0.46919531\n",
      "Iteration 62, loss = 0.46531813\n",
      "Iteration 63, loss = 0.46051287\n",
      "Iteration 64, loss = 0.45586095\n",
      "Iteration 65, loss = 0.45207615\n",
      "Iteration 66, loss = 0.44917167\n",
      "Iteration 67, loss = 0.44647936\n",
      "Iteration 68, loss = 0.44327399\n",
      "Iteration 69, loss = 0.43935776\n",
      "Iteration 70, loss = 0.43534451\n",
      "Iteration 71, loss = 0.43196657\n",
      "Iteration 72, loss = 0.42925552\n",
      "Iteration 73, loss = 0.42675328\n",
      "Iteration 74, loss = 0.42393291\n",
      "Iteration 75, loss = 0.42068192\n",
      "Iteration 76, loss = 0.41733620\n",
      "Iteration 77, loss = 0.41429006\n",
      "Iteration 78, loss = 0.41165893\n",
      "Iteration 79, loss = 0.40919416\n",
      "Iteration 80, loss = 0.40658715\n",
      "Iteration 81, loss = 0.40376692\n",
      "Iteration 82, loss = 0.40091377\n",
      "Iteration 83, loss = 0.39823532\n",
      "Iteration 84, loss = 0.39577124\n",
      "Iteration 85, loss = 0.39340000\n",
      "Iteration 86, loss = 0.39098499\n",
      "Iteration 87, loss = 0.38849339\n",
      "Iteration 88, loss = 0.38599403\n",
      "Iteration 89, loss = 0.38357509\n",
      "Iteration 90, loss = 0.38126875\n",
      "Iteration 91, loss = 0.37903694\n",
      "Iteration 92, loss = 0.37681845\n",
      "Iteration 93, loss = 0.37458259\n",
      "Iteration 94, loss = 0.37234582\n",
      "Iteration 95, loss = 0.37014906\n",
      "Iteration 96, loss = 0.36802100\n",
      "Iteration 97, loss = 0.36595529\n",
      "Iteration 98, loss = 0.36391862\n",
      "Iteration 99, loss = 0.36188180\n",
      "Iteration 100, loss = 0.35984696\n",
      "Iteration 101, loss = 0.35784262\n",
      "Iteration 102, loss = 0.35589516\n",
      "Iteration 103, loss = 0.35399842\n",
      "Iteration 104, loss = 0.35212775\n",
      "Iteration 105, loss = 0.35026286\n",
      "Iteration 106, loss = 0.34840753\n",
      "Iteration 107, loss = 0.34659443\n",
      "Iteration 108, loss = 0.34480369\n",
      "Iteration 109, loss = 0.34305268\n",
      "Iteration 110, loss = 0.34132700\n",
      "Iteration 111, loss = 0.33960526\n",
      "Iteration 112, loss = 0.33790783\n",
      "Iteration 113, loss = 0.33617481\n",
      "Iteration 114, loss = 0.33414947\n",
      "Iteration 115, loss = 0.33197920\n",
      "Iteration 116, loss = 0.33034199\n",
      "Iteration 117, loss = 0.32870293\n",
      "Iteration 118, loss = 0.32702624\n",
      "Iteration 119, loss = 0.32540206\n",
      "Iteration 120, loss = 0.32383882\n",
      "Iteration 121, loss = 0.32226350\n",
      "Iteration 122, loss = 0.32059848\n",
      "Iteration 123, loss = 0.31882019\n",
      "Iteration 124, loss = 0.31704396\n",
      "Iteration 125, loss = 0.31523945\n",
      "Iteration 126, loss = 0.31393921\n",
      "Iteration 127, loss = 0.31249154\n",
      "Iteration 128, loss = 0.31096340\n",
      "Iteration 129, loss = 0.30937051\n",
      "Iteration 130, loss = 0.30779384\n",
      "Iteration 131, loss = 0.30613413\n",
      "Iteration 132, loss = 0.30470481\n",
      "Iteration 133, loss = 0.30323655\n",
      "Iteration 134, loss = 0.30173989\n",
      "Iteration 135, loss = 0.30034361\n",
      "Iteration 136, loss = 0.29892883\n",
      "Iteration 137, loss = 0.29751361\n",
      "Iteration 138, loss = 0.29612387\n",
      "Iteration 139, loss = 0.29472616\n",
      "Iteration 140, loss = 0.29334812\n",
      "Iteration 141, loss = 0.29203473\n",
      "Iteration 142, loss = 0.29071723\n",
      "Iteration 143, loss = 0.28939739\n",
      "Iteration 144, loss = 0.28801094\n",
      "Iteration 145, loss = 0.28679173\n",
      "Iteration 146, loss = 0.28551720\n",
      "Iteration 147, loss = 0.28420368\n",
      "Iteration 148, loss = 0.28295992\n",
      "Iteration 149, loss = 0.28173066\n",
      "Iteration 150, loss = 0.28049879\n",
      "Iteration 151, loss = 0.27926693\n",
      "Iteration 152, loss = 0.27809227\n",
      "Iteration 153, loss = 0.27688518\n",
      "Iteration 154, loss = 0.27579436\n",
      "Iteration 155, loss = 0.27457069\n",
      "Iteration 156, loss = 0.27340570\n",
      "Iteration 157, loss = 0.27228927\n",
      "Iteration 158, loss = 0.27114029\n",
      "Iteration 159, loss = 0.27000294\n",
      "Iteration 160, loss = 0.26897257\n",
      "Iteration 161, loss = 0.26787555\n",
      "Iteration 162, loss = 0.26672630\n",
      "Iteration 163, loss = 0.26566315\n",
      "Iteration 164, loss = 0.26457947\n",
      "Iteration 165, loss = 0.26361235\n",
      "Iteration 166, loss = 0.26251728\n",
      "Iteration 167, loss = 0.26146566\n",
      "Iteration 168, loss = 0.26043595\n",
      "Iteration 169, loss = 0.25943622\n",
      "Iteration 170, loss = 0.25844618\n",
      "Iteration 171, loss = 0.25737709\n",
      "Iteration 172, loss = 0.25635418\n",
      "Iteration 173, loss = 0.25545460\n",
      "Iteration 174, loss = 0.25441556\n",
      "Iteration 175, loss = 0.25343844\n",
      "Iteration 176, loss = 0.25243129\n",
      "Iteration 177, loss = 0.25149338\n",
      "Iteration 178, loss = 0.25045975\n",
      "Iteration 179, loss = 0.24948879\n",
      "Iteration 180, loss = 0.24861146\n",
      "Iteration 181, loss = 0.24771172\n",
      "Iteration 182, loss = 0.24674721\n",
      "Iteration 183, loss = 0.24579806\n",
      "Iteration 184, loss = 0.24488489\n",
      "Iteration 185, loss = 0.24397896\n",
      "Iteration 186, loss = 0.24307346\n",
      "Iteration 187, loss = 0.24212846\n",
      "Iteration 188, loss = 0.24124984\n",
      "Iteration 189, loss = 0.24036508\n",
      "Iteration 190, loss = 0.23944598\n",
      "Iteration 191, loss = 0.23854272\n",
      "Iteration 192, loss = 0.23761946\n",
      "Iteration 193, loss = 0.23668700\n",
      "Iteration 194, loss = 0.23577297\n",
      "Iteration 195, loss = 0.23491767\n",
      "Iteration 196, loss = 0.23401467\n",
      "Iteration 197, loss = 0.23322709\n",
      "Iteration 198, loss = 0.23237914\n",
      "Iteration 199, loss = 0.23156264\n",
      "Iteration 200, loss = 0.23061500\n"
     ]
    },
    {
     "name": "stderr",
     "output_type": "stream",
     "text": [
      "C:\\Anaconda\\lib\\site-packages\\sklearn\\neural_network\\_multilayer_perceptron.py:571: ConvergenceWarning: Stochastic Optimizer: Maximum iterations (200) reached and the optimization hasn't converged yet.\n",
      "  % self.max_iter, ConvergenceWarning)\n"
     ]
    },
    {
     "data": {
      "text/plain": [
       "MLPClassifier(activation='relu', alpha=0.0001, batch_size='auto', beta_1=0.9,\n",
       "              beta_2=0.999, early_stopping=False, epsilon=1e-08,\n",
       "              hidden_layer_sizes=200, learning_rate='constant',\n",
       "              learning_rate_init=0.001, max_fun=15000, max_iter=200,\n",
       "              momentum=0.9, n_iter_no_change=10, nesterovs_momentum=True,\n",
       "              power_t=0.5, random_state=None, shuffle=True, solver='adam',\n",
       "              tol=0.0001, validation_fraction=0.1, verbose=True,\n",
       "              warm_start=False)"
      ]
     },
     "execution_count": 34,
     "metadata": {},
     "output_type": "execute_result"
    }
   ],
   "source": [
    "clf.fit(X_train_5, y_train_5)"
   ]
  },
  {
   "cell_type": "code",
   "execution_count": 35,
   "metadata": {},
   "outputs": [
    {
     "name": "stdout",
     "output_type": "stream",
     "text": [
      "Accuracy=0.8314606741573034\n"
     ]
    }
   ],
   "source": [
    "acc5 = clf.score(X_test_5, y_test_5)\n",
    "print(\"Accuracy={}\".format(acc5))"
   ]
  },
  {
   "cell_type": "code",
   "execution_count": 36,
   "metadata": {},
   "outputs": [
    {
     "name": "stdout",
     "output_type": "stream",
     "text": [
      "Predicted values=[1 1 3 1 2 2 3 1 3 1 3 1 2 2 3 3 2 2 1 2 1 3 1 1 1 3 3 3 1 3 2 1 1 2 3 1 3\n",
      " 1 1 1 3 2 2 2 1 3 2 2 1 3 3 2 2 1 2 3 1 2 1 1 3 2 3 1 2 3 3 1 1 3 2 3 1 3\n",
      " 1 2 3 2 1 1 2 3 1 1 1 1 2 2 2]\n"
     ]
    }
   ],
   "source": [
    "y_pred_5 = clf.predict(X_test_5)\n",
    "print(\"Predicted values={}\".format(y_pred_5))"
   ]
  },
  {
   "cell_type": "code",
   "execution_count": 37,
   "metadata": {},
   "outputs": [
    {
     "data": {
      "text/plain": [
       "array([[24,  2,  0],\n",
       "       [10, 25,  2],\n",
       "       [ 1,  0, 25]], dtype=int64)"
      ]
     },
     "execution_count": 37,
     "metadata": {},
     "output_type": "execute_result"
    }
   ],
   "source": [
    "confusion_matrix(y_test_5, y_pred_5)"
   ]
  },
  {
   "cell_type": "code",
   "execution_count": 38,
   "metadata": {},
   "outputs": [
    {
     "name": "stdout",
     "output_type": "stream",
     "text": [
      "  Training % Test %  Accuracy\n",
      "0        90%    10%  0.888889\n",
      "1        80%    20%  0.916667\n",
      "2        70%    30%  0.907407\n",
      "3        60%    40%  0.930556\n",
      "4        50%    50%  0.831461\n"
     ]
    }
   ],
   "source": [
    "results = {'Training %':['90%', '80%', '70%', '60%', '50%'],\n",
    "           'Test %':['10%', '20%', '30%', '40%', '50%'],\n",
    "           'Accuracy':[acc1, acc2, acc3, acc4, acc5]}\n",
    "df_result = pd.DataFrame(results, columns=['Training %', 'Test %', 'Accuracy'])\n",
    "print(df_result)"
   ]
  },
  {
   "cell_type": "markdown",
   "metadata": {},
   "source": [
    "# Exercise 3 "
   ]
  },
  {
   "cell_type": "raw",
   "metadata": {},
   "source": [
    "Classification of Image Dataset- Build a learning model that takes images from a local directory as input, extract features from those images and perform classification on the same dataset. Display 5 images of each category. After the classification is performed, print the accuracy of the moddel on the dataset. Make use of built in functions."
   ]
  },
  {
   "cell_type": "code",
   "execution_count": 39,
   "metadata": {},
   "outputs": [],
   "source": [
    "from PIL import Image, ImageOps\n",
    "import os\n",
    "import numpy as np\n",
    "import matplotlib.pyplot as plt\n",
    "import matplotlib.image as mpimg\n",
    "%matplotlib inline"
   ]
  },
  {
   "cell_type": "code",
   "execution_count": 40,
   "metadata": {},
   "outputs": [],
   "source": [
    "#Importing the images from the local directory\n",
    "path_train = \"D:\\\\train\"\n",
    "dir_list = os.listdir(path_train)\n",
    "new_size = (240,320)\n",
    "images = []"
   ]
  },
  {
   "cell_type": "code",
   "execution_count": 41,
   "metadata": {},
   "outputs": [
    {
     "data": {
      "image/png": "[encoded data removed]",
      "text/plain": [
       "<Figure size 432x288 with 10 Axes>"
      ]
     },
     "metadata": {
      "needs_background": "light"
     },
     "output_type": "display_data"
    }
   ],
   "source": [
    "#The dataset is a collection of images of flowers of two kinds: Roses and Daisies. It consists of 50 images- 25 for Roses\n",
    "#and 25 for Daisies.\n",
    "fig=plt.figure()\n",
    "axes = []\n",
    "for i in range(1,6):\n",
    "    location = os.path.join(path_train, dir_list[i])\n",
    "    im = mpimg.imread(location)\n",
    "    axes.append(fig.add_subplot(2, 5, i))\n",
    "    plt.axis('off')\n",
    "    plt.imshow(im)\n",
    "for i in range(-5,0):\n",
    "    location = os.path.join(path_train, dir_list[i])\n",
    "    im = mpimg.imread(location)\n",
    "    axes.append(fig.add_subplot(2,5,i+11))\n",
    "    plt.axis('off')\n",
    "    plt.imshow(im)\n",
    "fig.tight_layout()  \n",
    "plt.show()"
   ]
  },
  {
   "cell_type": "code",
   "execution_count": 42,
   "metadata": {},
   "outputs": [],
   "source": [
    "#Since the images are of different sizes, all of them are resized to (240,320). The feature extracted from the images is\n",
    "#standard deviation.\n",
    "std_final = []\n",
    "for p in dir_list:\n",
    "    path_final = path_train + \"\\\\\" + p\n",
    "    image1 = Image.open(path_final)\n",
    "    image = ImageOps.grayscale(image1)\n",
    "    image = image.resize(new_size)\n",
    "    image_new = np.asarray(image)\n",
    "    s = np.std(image_new, dtype=np.float32)\n",
    "    std = s.item()\n",
    "    std_final.append(std)"
   ]
  },
  {
   "cell_type": "code",
   "execution_count": 43,
   "metadata": {},
   "outputs": [],
   "source": [
    "#0-Daisy, 1-Rose\n",
    "temp1 = np.zeros(int(len(dir_list)/2), dtype=int)\n",
    "temp2 = np.ones(int(len(dir_list)/2), dtype=int)\n",
    "train_labels = np.concatenate((temp1, temp2))"
   ]
  },
  {
   "cell_type": "code",
   "execution_count": 44,
   "metadata": {},
   "outputs": [],
   "source": [
    "path_test = \"D:\\\\test\"\n",
    "dir_list = os.listdir(path_test)\n",
    "for i in dir_list:\n",
    "    path_final = path_test + \"\\\\\" + i\n",
    "    image1 = Image.open(path_final)\n",
    "    image = ImageOps.grayscale(image1)\n",
    "    image = image.resize(new_size)\n",
    "    image_new = np.asarray(image)\n",
    "    images.append(image_new)\n",
    "    s = np.std(image_new, dtype=np.float32)\n",
    "    std = s.item()\n",
    "    std_final.append(std)\n",
    "std_final = np.array(std_final)\n",
    "train_std = std_final.reshape(-1,1) #the numpy array is reshaped because a single feature is used\n",
    "#print(train_std)"
   ]
  },
  {
   "cell_type": "code",
   "execution_count": 45,
   "metadata": {},
   "outputs": [],
   "source": [
    "temp1 = np.zeros(int(len(dir_list)/2), dtype=int)\n",
    "temp2 = np.ones(int(len(dir_list)/2), dtype=int)\n",
    "test_labels = np.concatenate((temp1, temp2))\n",
    "train_labels = np.concatenate((train_labels, test_labels))\n",
    "#print(train_labels)"
   ]
  },
  {
   "cell_type": "code",
   "execution_count": 46,
   "metadata": {},
   "outputs": [],
   "source": [
    "#Splitting the dataset: 80%-20% (train-test)\n",
    "X_train, X_test, y_train, y_test = train_test_split(train_std, train_labels, train_size=0.8)\n",
    "clf = MLPClassifier(hidden_layer_sizes=100, alpha=0.0001, activation='tanh', solver='sgd', max_iter=100, verbose=True)"
   ]
  },
  {
   "cell_type": "code",
   "execution_count": 47,
   "metadata": {},
   "outputs": [
    {
     "name": "stdout",
     "output_type": "stream",
     "text": [
      "Iteration 1, loss = 0.84658064\n",
      "Iteration 2, loss = 0.75245133\n",
      "Iteration 3, loss = 0.70691703\n",
      "Iteration 4, loss = 0.69365917\n",
      "Iteration 5, loss = 0.68935035\n",
      "Iteration 6, loss = 0.68811535\n",
      "Iteration 7, loss = 0.68812632\n",
      "Iteration 8, loss = 0.68864576\n",
      "Iteration 9, loss = 0.68926862\n",
      "Iteration 10, loss = 0.68971243\n",
      "Iteration 11, loss = 0.68976622\n",
      "Iteration 12, loss = 0.68928685\n",
      "Iteration 13, loss = 0.68820951\n",
      "Iteration 14, loss = 0.68656300\n",
      "Iteration 15, loss = 0.68448307\n",
      "Iteration 16, loss = 0.68220183\n",
      "Iteration 17, loss = 0.67997436\n",
      "Iteration 18, loss = 0.67795111\n",
      "Iteration 19, loss = 0.67612626\n",
      "Iteration 20, loss = 0.67445636\n",
      "Iteration 21, loss = 0.67297946\n",
      "Iteration 22, loss = 0.67174561\n",
      "Iteration 23, loss = 0.67068793\n",
      "Iteration 24, loss = 0.66966626\n",
      "Iteration 25, loss = 0.66860587\n",
      "Iteration 26, loss = 0.66753123\n",
      "Iteration 27, loss = 0.66650005\n",
      "Iteration 28, loss = 0.66553909\n",
      "Iteration 29, loss = 0.66463045\n",
      "Iteration 30, loss = 0.66373405\n",
      "Iteration 31, loss = 0.66281502\n",
      "Iteration 32, loss = 0.66185927\n",
      "Iteration 33, loss = 0.66087640\n",
      "Iteration 34, loss = 0.65989399\n",
      "Iteration 35, loss = 0.65894697\n",
      "Iteration 36, loss = 0.65806474\n",
      "Iteration 37, loss = 0.65725938\n",
      "Iteration 38, loss = 0.65652006\n",
      "Iteration 39, loss = 0.65581708\n",
      "Iteration 40, loss = 0.65511504\n",
      "Iteration 41, loss = 0.65438834\n",
      "Iteration 42, loss = 0.65363100\n",
      "Iteration 43, loss = 0.65285751\n",
      "Iteration 44, loss = 0.65209686\n",
      "Iteration 45, loss = 0.65138430\n",
      "Iteration 46, loss = 0.65075265\n",
      "Iteration 47, loss = 0.65022370\n",
      "Iteration 48, loss = 0.64980060\n",
      "Iteration 49, loss = 0.64946530\n",
      "Iteration 50, loss = 0.64918455\n",
      "Iteration 51, loss = 0.64892234\n",
      "Iteration 52, loss = 0.64865169\n",
      "Iteration 53, loss = 0.64836012\n",
      "Iteration 54, loss = 0.64804802\n",
      "Iteration 55, loss = 0.64772331\n",
      "Iteration 56, loss = 0.64739586\n",
      "Iteration 57, loss = 0.64707362\n",
      "Iteration 58, loss = 0.64676109\n",
      "Iteration 59, loss = 0.64645927\n",
      "Iteration 60, loss = 0.64616655\n",
      "Iteration 61, loss = 0.64587977\n",
      "Iteration 62, loss = 0.64559525\n",
      "Iteration 63, loss = 0.64530958\n",
      "Iteration 64, loss = 0.64502010\n",
      "Iteration 65, loss = 0.64472506\n",
      "Iteration 66, loss = 0.64442353\n",
      "Iteration 67, loss = 0.64411516\n",
      "Iteration 68, loss = 0.64379990\n",
      "Iteration 69, loss = 0.64347779\n",
      "Iteration 70, loss = 0.64314885\n",
      "Iteration 71, loss = 0.64281299\n",
      "Iteration 72, loss = 0.64247002\n",
      "Iteration 73, loss = 0.64211968\n",
      "Iteration 74, loss = 0.64176172\n",
      "Iteration 75, loss = 0.64139603\n",
      "Iteration 76, loss = 0.64102275\n",
      "Iteration 77, loss = 0.64064245\n",
      "Iteration 78, loss = 0.64025628\n",
      "Iteration 79, loss = 0.63986606\n",
      "Iteration 80, loss = 0.63947437\n",
      "Iteration 81, loss = 0.63908449\n",
      "Iteration 82, loss = 0.63870029\n",
      "Iteration 83, loss = 0.63832585\n",
      "Iteration 84, loss = 0.63796502\n",
      "Iteration 85, loss = 0.63762072\n",
      "Iteration 86, loss = 0.63729429\n",
      "Iteration 87, loss = 0.63698484\n",
      "Iteration 88, loss = 0.63668900\n",
      "Iteration 89, loss = 0.63640101\n",
      "Iteration 90, loss = 0.63611335\n",
      "Iteration 91, loss = 0.63581760\n",
      "Iteration 92, loss = 0.63550542\n",
      "Iteration 93, loss = 0.63516942\n",
      "Iteration 94, loss = 0.63480359\n",
      "Iteration 95, loss = 0.63440354\n",
      "Iteration 96, loss = 0.63396628\n",
      "Iteration 97, loss = 0.63348991\n",
      "Iteration 98, loss = 0.63297319\n",
      "Iteration 99, loss = 0.63241513\n",
      "Iteration 100, loss = 0.63181459\n"
     ]
    },
    {
     "name": "stderr",
     "output_type": "stream",
     "text": [
      "C:\\Anaconda\\lib\\site-packages\\sklearn\\neural_network\\_multilayer_perceptron.py:571: ConvergenceWarning: Stochastic Optimizer: Maximum iterations (100) reached and the optimization hasn't converged yet.\n",
      "  % self.max_iter, ConvergenceWarning)\n"
     ]
    },
    {
     "data": {
      "text/plain": [
       "MLPClassifier(activation='tanh', alpha=0.0001, batch_size='auto', beta_1=0.9,\n",
       "              beta_2=0.999, early_stopping=False, epsilon=1e-08,\n",
       "              hidden_layer_sizes=100, learning_rate='constant',\n",
       "              learning_rate_init=0.001, max_fun=15000, max_iter=100,\n",
       "              momentum=0.9, n_iter_no_change=10, nesterovs_momentum=True,\n",
       "              power_t=0.5, random_state=None, shuffle=True, solver='sgd',\n",
       "              tol=0.0001, validation_fraction=0.1, verbose=True,\n",
       "              warm_start=False)"
      ]
     },
     "execution_count": 47,
     "metadata": {},
     "output_type": "execute_result"
    }
   ],
   "source": [
    "clf.fit(X_train, y_train)"
   ]
  },
  {
   "cell_type": "code",
   "execution_count": 48,
   "metadata": {},
   "outputs": [
    {
     "name": "stdout",
     "output_type": "stream",
     "text": [
      "Accuracy=0.8\n"
     ]
    }
   ],
   "source": [
    "acc = clf.score(X_test, y_test)\n",
    "print(\"Accuracy={}\".format(acc))"
   ]
  },
  {
   "cell_type": "code",
   "execution_count": 49,
   "metadata": {},
   "outputs": [
    {
     "name": "stdout",
     "output_type": "stream",
     "text": [
      "Predicted values=[0 1 0 0 1 0 1 0 1 1]\n"
     ]
    }
   ],
   "source": [
    "y_pred = clf.predict(X_test)\n",
    "print(\"Predicted values={}\".format(y_pred))"
   ]
  },
  {
   "cell_type": "code",
   "execution_count": 50,
   "metadata": {},
   "outputs": [
    {
     "data": {
      "text/plain": [
       "array([[4, 1],\n",
       "       [1, 4]], dtype=int64)"
      ]
     },
     "execution_count": 50,
     "metadata": {},
     "output_type": "execute_result"
    }
   ],
   "source": [
    "confusion_matrix(y_test, y_pred)"
   ]
  },
  {
   "cell_type": "code",
   "execution_count": 51,
   "metadata": {},
   "outputs": [
    {
     "name": "stdout",
     "output_type": "stream",
     "text": [
      "              precision    recall  f1-score   support\n",
      "\n",
      "           0       0.60      0.60      0.60         5\n",
      "           1       0.60      0.60      0.60         5\n",
      "\n",
      "    accuracy                           0.60        10\n",
      "   macro avg       0.60      0.60      0.60        10\n",
      "weighted avg       0.60      0.60      0.60        10\n",
      "\n"
     ]
    }
   ],
   "source": [
    "print(classification_report(test_labels, y_pred))"
   ]
  }
 ],
 "metadata": {
  "kernelspec": {
   "display_name": "Python 3",
   "language": "python",
   "name": "python3"
  },
  "language_info": {
   "codemirror_mode": {
    "name": "ipython",
    "version": 3
   },
   "file_extension": ".py",
   "mimetype": "text/x-python",
   "name": "python",
   "nbconvert_exporter": "python",
   "pygments_lexer": "ipython3",
   "version": "3.7.6"
  }
 },
 "nbformat": 4,
 "nbformat_minor": 4
}
