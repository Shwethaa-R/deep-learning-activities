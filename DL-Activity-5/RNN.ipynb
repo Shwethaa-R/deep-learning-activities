{
  "nbformat": 4,
  "nbformat_minor": 0,
  "metadata": {
    "colab": {
      "name": "RNN.ipynb",
      "provenance": [],
      "collapsed_sections": [
        "XDzbRVyYoTUo"
      ],
      "mount_file_id": "16CSsxgzL2yKWVpn7H6h0NBvPuUmCcrob",
      "authorship_tag": "ABX9TyN70AVVdbtM37KaB8NAOBp6",
      "include_colab_link": true
    },
    "kernelspec": {
      "name": "python3",
      "display_name": "Python 3"
    },
    "language_info": {
      "name": "python"
    }
  },
  "cells": [
    {
      "cell_type": "markdown",
      "metadata": {
        "id": "view-in-github",
        "colab_type": "text"
      },
      "source": [
        "<a href=\"https://colab.research.google.com/github/Shwethaa-R/Deep-Learning-Activity-5/blob/main/RNN.ipynb\" target=\"_parent\"><img src=\"https://colab.research.google.com/assets/colab-badge.svg\" alt=\"Open In Colab\"/></a>"
      ]
    },
    {
      "cell_type": "markdown",
      "metadata": {
        "id": "XDzbRVyYoTUo"
      },
      "source": [
        "# Recurrent Neural Network"
      ]
    },
    {
      "cell_type": "markdown",
      "metadata": {
        "id": "NlwqI0gSopik"
      },
      "source": [
        "# Part 1 - Data Preprocessing"
      ]
    },
    {
      "cell_type": "markdown",
      "metadata": {
        "id": "E1wxZX0aopdZ"
      },
      "source": [
        "### Importing the libraries"
      ]
    },
    {
      "cell_type": "code",
      "metadata": {
        "id": "o4OKlqSfnWc-"
      },
      "source": [
        "import numpy as np\n",
        "import matplotlib.pyplot as plt\n",
        "import pandas as pd"
      ],
      "execution_count": null,
      "outputs": []
    },
    {
      "cell_type": "markdown",
      "metadata": {
        "id": "86pzxsMapRJP"
      },
      "source": [
        "### Importing the training set"
      ]
    },
    {
      "cell_type": "code",
      "metadata": {
        "colab": {
          "base_uri": "https://localhost:8080/"
        },
        "id": "E_ih8geL-yVx",
        "outputId": "0f116361-c985-41f6-9c53-6ea2b795239e"
      },
      "source": [
        "from google.colab import drive\n",
        "drive.mount('/content/drive')"
      ],
      "execution_count": null,
      "outputs": [
        {
          "output_type": "stream",
          "text": [
            "Drive already mounted at /content/drive; to attempt to forcibly remount, call drive.mount(\"/content/drive\", force_remount=True).\n"
          ],
          "name": "stdout"
        }
      ]
    },
    {
      "cell_type": "markdown",
      "metadata": {
        "id": "MsKTReusxqZp"
      },
      "source": [
        "Description of Dataset: It is the stock price dataset of Google for five years from 2012 to 2016. There are two CSV files, namely- Google_Stock_Price_Train.csv and Google_Stock_Price_Test.csv. The former dataset contains six columns, of which the column ‘Open’ (which stands for Open Google Stock Prices) is the one to be predicted. The dataset contains 1258 records. The latter also contains the same six columns and 20 records."
      ]
    },
    {
      "cell_type": "code",
      "metadata": {
        "id": "ayujU7TEpQua"
      },
      "source": [
        "dataset_train = pd.read_csv('/content/drive/My Drive/Google_Stock_Price_Train.csv')\n",
        "training_set = dataset_train.iloc[:, 1:2].values"
      ],
      "execution_count": null,
      "outputs": []
    },
    {
      "cell_type": "markdown",
      "metadata": {
        "id": "NcyWE5nholnb"
      },
      "source": [
        "### Feature Scaling"
      ]
    },
    {
      "cell_type": "code",
      "metadata": {
        "id": "gOlPZmoEoiSC"
      },
      "source": [
        "from sklearn.preprocessing import MinMaxScaler\n",
        "sc = MinMaxScaler(feature_range = (0, 1))\n",
        "training_set_scaled = sc.fit_transform(training_set)"
      ],
      "execution_count": null,
      "outputs": []
    },
    {
      "cell_type": "markdown",
      "metadata": {
        "id": "5COpY5XIo8XH"
      },
      "source": [
        "### Creating a data structure with 60 timesteps and 1 output"
      ]
    },
    {
      "cell_type": "code",
      "metadata": {
        "id": "nj0PH_t1oiOl"
      },
      "source": [
        "# The model will remember up to 60 previous timesteps to make the predictions \n",
        "X_train = []\n",
        "y_train = []\n",
        "for i in range(60, 1258):\n",
        "    X_train.append(training_set_scaled[i-60:i, 0])\n",
        "    y_train.append(training_set_scaled[i, 0])\n",
        "X_train, y_train = np.array(X_train), np.array(y_train)"
      ],
      "execution_count": null,
      "outputs": []
    },
    {
      "cell_type": "markdown",
      "metadata": {
        "id": "m4H426sao-9I"
      },
      "source": [
        "### Reshaping"
      ]
    },
    {
      "cell_type": "code",
      "metadata": {
        "id": "7VOmh0MDoiMR"
      },
      "source": [
        "X_train = np.reshape(X_train, (X_train.shape[0], X_train.shape[1], 1))"
      ],
      "execution_count": null,
      "outputs": []
    },
    {
      "cell_type": "markdown",
      "metadata": {
        "id": "EaJKIGAbptcC"
      },
      "source": [
        "# Part 2 - Building and Training the RNN"
      ]
    },
    {
      "cell_type": "markdown",
      "metadata": {
        "id": "4PR7fx6JptJl"
      },
      "source": [
        "### Importing the Keras libraries and packages"
      ]
    },
    {
      "cell_type": "code",
      "metadata": {
        "id": "UHOLvgRloiJ4"
      },
      "source": [
        "from keras.models import Sequential\n",
        "from keras.layers import Dense\n",
        "from keras.layers import SimpleRNN\n",
        "from keras.layers import Dropout"
      ],
      "execution_count": null,
      "outputs": []
    },
    {
      "cell_type": "markdown",
      "metadata": {
        "id": "1bRRtNJ6qIwP"
      },
      "source": [
        "### Initialising the RNN"
      ]
    },
    {
      "cell_type": "code",
      "metadata": {
        "id": "iRvdQYK7qJ5l"
      },
      "source": [
        "regressor = Sequential()"
      ],
      "execution_count": null,
      "outputs": []
    },
    {
      "cell_type": "markdown",
      "metadata": {
        "id": "39fPkwLTqMYC"
      },
      "source": [
        "### RNN Architecture"
      ]
    },
    {
      "cell_type": "code",
      "metadata": {
        "colab": {
          "base_uri": "https://localhost:8080/"
        },
        "id": "uErq_nKEqM1m",
        "outputId": "a72f2d50-f879-49cf-bd74-fe1f48be7e09"
      },
      "source": [
        "regressor.add(SimpleRNN(units = 50, return_sequences = True, input_shape = (X_train.shape[1], 1)))\n",
        "regressor.add(Dropout(0.2))\n",
        "regressor.add(SimpleRNN(units = 50, return_sequences = True, input_shape = (X_train.shape[1], 1)))\n",
        "regressor.add(Dropout(0.2))\n",
        "regressor.add(SimpleRNN(units = 50, return_sequences = True, input_shape = (X_train.shape[1], 1)))\n",
        "regressor.add(Dropout(0.2))\n",
        "regressor.add(SimpleRNN(units = 50))\n",
        "regressor.add(Dropout(0.2))\n",
        "\n",
        "regressor.add(Dense(units = 1))\n",
        "regressor.summary()"
      ],
      "execution_count": null,
      "outputs": [
        {
          "output_type": "stream",
          "text": [
            "Model: \"sequential\"\n",
            "_________________________________________________________________\n",
            "Layer (type)                 Output Shape              Param #   \n",
            "=================================================================\n",
            "simple_rnn (SimpleRNN)       (None, 60, 50)            2600      \n",
            "_________________________________________________________________\n",
            "dropout (Dropout)            (None, 60, 50)            0         \n",
            "_________________________________________________________________\n",
            "simple_rnn_1 (SimpleRNN)     (None, 60, 50)            5050      \n",
            "_________________________________________________________________\n",
            "dropout_1 (Dropout)          (None, 60, 50)            0         \n",
            "_________________________________________________________________\n",
            "simple_rnn_2 (SimpleRNN)     (None, 60, 50)            5050      \n",
            "_________________________________________________________________\n",
            "dropout_2 (Dropout)          (None, 60, 50)            0         \n",
            "_________________________________________________________________\n",
            "simple_rnn_3 (SimpleRNN)     (None, 50)                5050      \n",
            "_________________________________________________________________\n",
            "dropout_3 (Dropout)          (None, 50)                0         \n",
            "_________________________________________________________________\n",
            "dense (Dense)                (None, 1)                 51        \n",
            "=================================================================\n",
            "Total params: 17,801\n",
            "Trainable params: 17,801\n",
            "Non-trainable params: 0\n",
            "_________________________________________________________________\n"
          ],
          "name": "stdout"
        }
      ]
    },
    {
      "cell_type": "markdown",
      "metadata": {
        "id": "Rgca9DKntewH"
      },
      "source": [
        "### Compiling the RNN"
      ]
    },
    {
      "cell_type": "code",
      "metadata": {
        "id": "_OTc6ypltdaw"
      },
      "source": [
        "regressor.compile(optimizer = 'adam', loss = 'mean_squared_error')"
      ],
      "execution_count": null,
      "outputs": []
    },
    {
      "cell_type": "markdown",
      "metadata": {
        "id": "PnYghldst11I"
      },
      "source": [
        "### Fitting the RNN to the Training Set"
      ]
    },
    {
      "cell_type": "code",
      "metadata": {
        "colab": {
          "base_uri": "https://localhost:8080/"
        },
        "id": "JU2aTsDVt1Jx",
        "outputId": "5599c073-81ff-4a07-94f9-32732564352e"
      },
      "source": [
        "history = regressor.fit(X_train, y_train, epochs = 100, batch_size = 32)"
      ],
      "execution_count": null,
      "outputs": [
        {
          "output_type": "stream",
          "text": [
            "Epoch 1/100\n",
            "38/38 [==============================] - 5s 52ms/step - loss: 0.5205\n",
            "Epoch 2/100\n",
            "38/38 [==============================] - 2s 52ms/step - loss: 0.2807\n",
            "Epoch 3/100\n",
            "38/38 [==============================] - 2s 53ms/step - loss: 0.2036\n",
            "Epoch 4/100\n",
            "38/38 [==============================] - 2s 52ms/step - loss: 0.1529\n",
            "Epoch 5/100\n",
            "38/38 [==============================] - 2s 52ms/step - loss: 0.1215\n",
            "Epoch 6/100\n",
            "38/38 [==============================] - 2s 51ms/step - loss: 0.0858\n",
            "Epoch 7/100\n",
            "38/38 [==============================] - 2s 52ms/step - loss: 0.0848\n",
            "Epoch 8/100\n",
            "38/38 [==============================] - 2s 52ms/step - loss: 0.0671\n",
            "Epoch 9/100\n",
            "38/38 [==============================] - 2s 52ms/step - loss: 0.0533\n",
            "Epoch 10/100\n",
            "38/38 [==============================] - 2s 52ms/step - loss: 0.0504\n",
            "Epoch 11/100\n",
            "38/38 [==============================] - 2s 52ms/step - loss: 0.0459\n",
            "Epoch 12/100\n",
            "38/38 [==============================] - 2s 52ms/step - loss: 0.0370\n",
            "Epoch 13/100\n",
            "38/38 [==============================] - 2s 51ms/step - loss: 0.0372\n",
            "Epoch 14/100\n",
            "38/38 [==============================] - 2s 51ms/step - loss: 0.0313\n",
            "Epoch 15/100\n",
            "38/38 [==============================] - 2s 51ms/step - loss: 0.0263\n",
            "Epoch 16/100\n",
            "38/38 [==============================] - 2s 51ms/step - loss: 0.0269\n",
            "Epoch 17/100\n",
            "38/38 [==============================] - 2s 50ms/step - loss: 0.0226\n",
            "Epoch 18/100\n",
            "38/38 [==============================] - 2s 50ms/step - loss: 0.0221\n",
            "Epoch 19/100\n",
            "38/38 [==============================] - 2s 52ms/step - loss: 0.0188\n",
            "Epoch 20/100\n",
            "38/38 [==============================] - 2s 52ms/step - loss: 0.0173\n",
            "Epoch 21/100\n",
            "38/38 [==============================] - 2s 52ms/step - loss: 0.0153\n",
            "Epoch 22/100\n",
            "38/38 [==============================] - 2s 50ms/step - loss: 0.0149\n",
            "Epoch 23/100\n",
            "38/38 [==============================] - 2s 51ms/step - loss: 0.0138\n",
            "Epoch 24/100\n",
            "38/38 [==============================] - 2s 52ms/step - loss: 0.0148\n",
            "Epoch 25/100\n",
            "38/38 [==============================] - 2s 52ms/step - loss: 0.0123\n",
            "Epoch 26/100\n",
            "38/38 [==============================] - 2s 51ms/step - loss: 0.0120\n",
            "Epoch 27/100\n",
            "38/38 [==============================] - 2s 51ms/step - loss: 0.0109\n",
            "Epoch 28/100\n",
            "38/38 [==============================] - 2s 52ms/step - loss: 0.0104\n",
            "Epoch 29/100\n",
            "38/38 [==============================] - 2s 52ms/step - loss: 0.0082\n",
            "Epoch 30/100\n",
            "38/38 [==============================] - 2s 53ms/step - loss: 0.0093\n",
            "Epoch 31/100\n",
            "38/38 [==============================] - 2s 52ms/step - loss: 0.0090\n",
            "Epoch 32/100\n",
            "38/38 [==============================] - 2s 52ms/step - loss: 0.0082\n",
            "Epoch 33/100\n",
            "38/38 [==============================] - 2s 52ms/step - loss: 0.0084\n",
            "Epoch 34/100\n",
            "38/38 [==============================] - 2s 54ms/step - loss: 0.0071\n",
            "Epoch 35/100\n",
            "38/38 [==============================] - 2s 54ms/step - loss: 0.0064\n",
            "Epoch 36/100\n",
            "38/38 [==============================] - 2s 52ms/step - loss: 0.0067\n",
            "Epoch 37/100\n",
            "38/38 [==============================] - 2s 50ms/step - loss: 0.0063\n",
            "Epoch 38/100\n",
            "38/38 [==============================] - 2s 51ms/step - loss: 0.0062\n",
            "Epoch 39/100\n",
            "38/38 [==============================] - 2s 51ms/step - loss: 0.0061\n",
            "Epoch 40/100\n",
            "38/38 [==============================] - 2s 51ms/step - loss: 0.0050\n",
            "Epoch 41/100\n",
            "38/38 [==============================] - 2s 51ms/step - loss: 0.0059\n",
            "Epoch 42/100\n",
            "38/38 [==============================] - 2s 51ms/step - loss: 0.0051\n",
            "Epoch 43/100\n",
            "38/38 [==============================] - 2s 52ms/step - loss: 0.0054\n",
            "Epoch 44/100\n",
            "38/38 [==============================] - 2s 50ms/step - loss: 0.0052\n",
            "Epoch 45/100\n",
            "38/38 [==============================] - 2s 50ms/step - loss: 0.0049\n",
            "Epoch 46/100\n",
            "38/38 [==============================] - 2s 50ms/step - loss: 0.0050\n",
            "Epoch 47/100\n",
            "38/38 [==============================] - 2s 52ms/step - loss: 0.0043\n",
            "Epoch 48/100\n",
            "38/38 [==============================] - 2s 51ms/step - loss: 0.0047\n",
            "Epoch 49/100\n",
            "38/38 [==============================] - 2s 50ms/step - loss: 0.0040\n",
            "Epoch 50/100\n",
            "38/38 [==============================] - 2s 52ms/step - loss: 0.0040\n",
            "Epoch 51/100\n",
            "38/38 [==============================] - 2s 53ms/step - loss: 0.0037\n",
            "Epoch 52/100\n",
            "38/38 [==============================] - 2s 50ms/step - loss: 0.0042\n",
            "Epoch 53/100\n",
            "38/38 [==============================] - 2s 52ms/step - loss: 0.0043\n",
            "Epoch 54/100\n",
            "38/38 [==============================] - 2s 51ms/step - loss: 0.0040\n",
            "Epoch 55/100\n",
            "38/38 [==============================] - 2s 52ms/step - loss: 0.0035\n",
            "Epoch 56/100\n",
            "38/38 [==============================] - 2s 53ms/step - loss: 0.0034\n",
            "Epoch 57/100\n",
            "38/38 [==============================] - 2s 53ms/step - loss: 0.0038\n",
            "Epoch 58/100\n",
            "38/38 [==============================] - 2s 52ms/step - loss: 0.0037\n",
            "Epoch 59/100\n",
            "38/38 [==============================] - 2s 51ms/step - loss: 0.0033\n",
            "Epoch 60/100\n",
            "38/38 [==============================] - 2s 51ms/step - loss: 0.0033\n",
            "Epoch 61/100\n",
            "38/38 [==============================] - 2s 50ms/step - loss: 0.0032\n",
            "Epoch 62/100\n",
            "38/38 [==============================] - 2s 52ms/step - loss: 0.0033\n",
            "Epoch 63/100\n",
            "38/38 [==============================] - 2s 52ms/step - loss: 0.0029\n",
            "Epoch 64/100\n",
            "38/38 [==============================] - 2s 51ms/step - loss: 0.0033\n",
            "Epoch 65/100\n",
            "38/38 [==============================] - 2s 51ms/step - loss: 0.0031\n",
            "Epoch 66/100\n",
            "38/38 [==============================] - 2s 53ms/step - loss: 0.0031\n",
            "Epoch 67/100\n",
            "38/38 [==============================] - 2s 52ms/step - loss: 0.0022\n",
            "Epoch 68/100\n",
            "38/38 [==============================] - 2s 52ms/step - loss: 0.0026\n",
            "Epoch 69/100\n",
            "38/38 [==============================] - 2s 51ms/step - loss: 0.0029\n",
            "Epoch 70/100\n",
            "38/38 [==============================] - 2s 51ms/step - loss: 0.0026\n",
            "Epoch 71/100\n",
            "38/38 [==============================] - 2s 51ms/step - loss: 0.0028\n",
            "Epoch 72/100\n",
            "38/38 [==============================] - 2s 51ms/step - loss: 0.0034\n",
            "Epoch 73/100\n",
            "38/38 [==============================] - 2s 51ms/step - loss: 0.0032\n",
            "Epoch 74/100\n",
            "38/38 [==============================] - 2s 50ms/step - loss: 0.0024\n",
            "Epoch 75/100\n",
            "38/38 [==============================] - 2s 50ms/step - loss: 0.0023\n",
            "Epoch 76/100\n",
            "38/38 [==============================] - 2s 51ms/step - loss: 0.0027\n",
            "Epoch 77/100\n",
            "38/38 [==============================] - 2s 52ms/step - loss: 0.0027\n",
            "Epoch 78/100\n",
            "38/38 [==============================] - 2s 53ms/step - loss: 0.0025\n",
            "Epoch 79/100\n",
            "38/38 [==============================] - 2s 51ms/step - loss: 0.0025\n",
            "Epoch 80/100\n",
            "38/38 [==============================] - 2s 51ms/step - loss: 0.0030\n",
            "Epoch 81/100\n",
            "38/38 [==============================] - 2s 51ms/step - loss: 0.0030\n",
            "Epoch 82/100\n",
            "38/38 [==============================] - 2s 53ms/step - loss: 0.0020\n",
            "Epoch 83/100\n",
            "38/38 [==============================] - 2s 52ms/step - loss: 0.0022\n",
            "Epoch 84/100\n",
            "38/38 [==============================] - 2s 51ms/step - loss: 0.0022\n",
            "Epoch 85/100\n",
            "38/38 [==============================] - 2s 51ms/step - loss: 0.0023\n",
            "Epoch 86/100\n",
            "38/38 [==============================] - 2s 51ms/step - loss: 0.0022\n",
            "Epoch 87/100\n",
            "38/38 [==============================] - 2s 51ms/step - loss: 0.0019\n",
            "Epoch 88/100\n",
            "38/38 [==============================] - 2s 53ms/step - loss: 0.0023\n",
            "Epoch 89/100\n",
            "38/38 [==============================] - 2s 53ms/step - loss: 0.0018\n",
            "Epoch 90/100\n",
            "38/38 [==============================] - 2s 51ms/step - loss: 0.0021\n",
            "Epoch 91/100\n",
            "38/38 [==============================] - 2s 51ms/step - loss: 0.0020\n",
            "Epoch 92/100\n",
            "38/38 [==============================] - 2s 51ms/step - loss: 0.0018\n",
            "Epoch 93/100\n",
            "38/38 [==============================] - 2s 50ms/step - loss: 0.0019\n",
            "Epoch 94/100\n",
            "38/38 [==============================] - 2s 53ms/step - loss: 0.0019\n",
            "Epoch 95/100\n",
            "38/38 [==============================] - 2s 51ms/step - loss: 0.0026\n",
            "Epoch 96/100\n",
            "38/38 [==============================] - 2s 52ms/step - loss: 0.0022\n",
            "Epoch 97/100\n",
            "38/38 [==============================] - 2s 52ms/step - loss: 0.0018\n",
            "Epoch 98/100\n",
            "38/38 [==============================] - 2s 51ms/step - loss: 0.0021\n",
            "Epoch 99/100\n",
            "38/38 [==============================] - 2s 53ms/step - loss: 0.0018\n",
            "Epoch 100/100\n",
            "38/38 [==============================] - 2s 51ms/step - loss: 0.0017\n"
          ],
          "name": "stdout"
        }
      ]
    },
    {
      "cell_type": "markdown",
      "metadata": {
        "id": "anC5ymKtt9lr"
      },
      "source": [
        "# Part 3 - Making the predictions and visualising the results"
      ]
    },
    {
      "cell_type": "markdown",
      "metadata": {
        "id": "E9K7p7vthHmV"
      },
      "source": [
        "### Getting the real stock price of 2017"
      ]
    },
    {
      "cell_type": "code",
      "metadata": {
        "id": "jVbVm89vhNrK"
      },
      "source": [
        "dataset_test = pd.read_csv('/content/drive/My Drive/Google_Stock_Price_Test.csv')\n",
        "real_stock_price = dataset_test.iloc[:, 1:2].values"
      ],
      "execution_count": null,
      "outputs": []
    },
    {
      "cell_type": "markdown",
      "metadata": {
        "id": "h1fSes3xuAyx"
      },
      "source": [
        "### Getting the predicted stock price of 2017"
      ]
    },
    {
      "cell_type": "code",
      "metadata": {
        "id": "-pXz3417uDN-"
      },
      "source": [
        "dataset_total = pd.concat((dataset_train['Open'], dataset_test['Open']), axis = 0)\n",
        "inputs = dataset_total[len(dataset_total) - len(dataset_test) - 60:].values\n",
        "inputs = inputs.reshape(-1,1)\n",
        "inputs = sc.transform(inputs)\n",
        "X_test = []\n",
        "for i in range(60, 80):\n",
        "    X_test.append(inputs[i-60:i, 0])\n",
        "X_test = np.array(X_test)\n",
        "X_test = np.reshape(X_test, (X_test.shape[0], X_test.shape[1], 1))\n",
        "predicted_stock_price = regressor.predict(X_test)\n",
        "predicted_stock_price = sc.inverse_transform(predicted_stock_price)"
      ],
      "execution_count": null,
      "outputs": []
    },
    {
      "cell_type": "markdown",
      "metadata": {
        "id": "5St0P1ILuFVs"
      },
      "source": [
        "### Visualizing the results"
      ]
    },
    {
      "cell_type": "code",
      "metadata": {
        "colab": {
          "base_uri": "https://localhost:8080/",
          "height": 294
        },
        "id": "nMiqAU5KuH6t",
        "outputId": "27ec79aa-f22e-4edf-d7d2-c75847902960"
      },
      "source": [
        "plt.plot(real_stock_price, color = 'red', label = 'Real Google Stock Price')\n",
        "plt.plot(predicted_stock_price, color = 'blue', label = 'Predicted Google Stock Price')\n",
        "plt.title('Google Stock Price Prediction')\n",
        "plt.xlabel('Time')\n",
        "plt.ylabel('Google Stock Price')\n",
        "plt.legend()\n",
        "plt.show()"
      ],
      "execution_count": null,
      "outputs": [
        {
          "output_type": "display_data",
          "data": {
            "image/png": "[encoded data removed]",
            "text/plain": [
              "<Figure size 432x288 with 1 Axes>"
            ]
          },
          "metadata": {
            "tags": [],
            "needs_background": "light"
          }
        }
      ]
    },
    {
      "cell_type": "code",
      "metadata": {
        "colab": {
          "base_uri": "https://localhost:8080/",
          "height": 294
        },
        "id": "l3WfjzwWuLg8",
        "outputId": "5fef5cfd-1467-4a25-fe07-b43931d18b41"
      },
      "source": [
        "plt.plot(history.history['loss'])\n",
        "plt.title('Training loss')\n",
        "plt.ylabel('loss')\n",
        "plt.xlabel('epoch')\n",
        "plt.show()"
      ],
      "execution_count": null,
      "outputs": [
        {
          "output_type": "display_data",
          "data": {
            "image/png": "[encoded data removed]",
            "text/plain": [
              "<Figure size 432x288 with 1 Axes>"
            ]
          },
          "metadata": {
            "tags": [],
            "needs_background": "light"
          }
        }
      ]
    },
    {
      "cell_type": "markdown",
      "metadata": {
        "id": "720L40sbu9Oq"
      },
      "source": [
        "### R2 Score of the Model"
      ]
    },
    {
      "cell_type": "code",
      "metadata": {
        "colab": {
          "base_uri": "https://localhost:8080/"
        },
        "id": "ubwvBM4UuMfe",
        "outputId": "30313e52-bbea-4a3a-c136-a080232f0ed1"
      },
      "source": [
        "from sklearn.metrics import r2_score\n",
        "round(r2_score(real_stock_price, predicted_stock_price),2)"
      ],
      "execution_count": null,
      "outputs": [
        {
          "output_type": "execute_result",
          "data": {
            "text/plain": [
              "-1.44"
            ]
          },
          "metadata": {
            "tags": []
          },
          "execution_count": 16
        }
      ]
    }
  ]
}